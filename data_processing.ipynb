{
 "cells": [
  {
   "cell_type": "code",
   "execution_count": 2,
   "id": "50cc121e",
   "metadata": {},
   "outputs": [
    {
     "name": "stdout",
     "output_type": "stream",
     "text": [
      "Requirement already satisfied: rapidfuzz in c:\\users\\crook\\appdata\\local\\packages\\pythonsoftwarefoundation.python.3.11_qbz5n2kfra8p0\\localcache\\local-packages\\python311\\site-packages (3.14.1)\n",
      "Requirement already satisfied: yfinance in c:\\users\\crook\\appdata\\local\\packages\\pythonsoftwarefoundation.python.3.11_qbz5n2kfra8p0\\localcache\\local-packages\\python311\\site-packages (0.2.66)\n",
      "Requirement already satisfied: pandas in c:\\users\\crook\\appdata\\local\\packages\\pythonsoftwarefoundation.python.3.11_qbz5n2kfra8p0\\localcache\\local-packages\\python311\\site-packages (2.2.2)\n",
      "Requirement already satisfied: numpy in c:\\users\\crook\\appdata\\local\\packages\\pythonsoftwarefoundation.python.3.11_qbz5n2kfra8p0\\localcache\\local-packages\\python311\\site-packages (2.0.1)\n",
      "Requirement already satisfied: nltk in c:\\users\\crook\\appdata\\local\\packages\\pythonsoftwarefoundation.python.3.11_qbz5n2kfra8p0\\localcache\\local-packages\\python311\\site-packages (3.9.1)\n",
      "Requirement already satisfied: scikit-learn in c:\\users\\crook\\appdata\\local\\packages\\pythonsoftwarefoundation.python.3.11_qbz5n2kfra8p0\\localcache\\local-packages\\python311\\site-packages (1.7.2)\n",
      "Requirement already satisfied: requests>=2.31 in c:\\users\\crook\\appdata\\local\\packages\\pythonsoftwarefoundation.python.3.11_qbz5n2kfra8p0\\localcache\\local-packages\\python311\\site-packages (from yfinance) (2.32.3)\n",
      "Requirement already satisfied: multitasking>=0.0.7 in c:\\users\\crook\\appdata\\local\\packages\\pythonsoftwarefoundation.python.3.11_qbz5n2kfra8p0\\localcache\\local-packages\\python311\\site-packages (from yfinance) (0.0.12)\n",
      "Requirement already satisfied: platformdirs>=2.0.0 in c:\\users\\crook\\appdata\\local\\packages\\pythonsoftwarefoundation.python.3.11_qbz5n2kfra8p0\\localcache\\local-packages\\python311\\site-packages (from yfinance) (4.5.0)\n",
      "Requirement already satisfied: pytz>=2022.5 in c:\\users\\crook\\appdata\\local\\packages\\pythonsoftwarefoundation.python.3.11_qbz5n2kfra8p0\\localcache\\local-packages\\python311\\site-packages (from yfinance) (2024.1)\n",
      "Requirement already satisfied: frozendict>=2.3.4 in c:\\users\\crook\\appdata\\local\\packages\\pythonsoftwarefoundation.python.3.11_qbz5n2kfra8p0\\localcache\\local-packages\\python311\\site-packages (from yfinance) (2.4.6)\n",
      "Requirement already satisfied: peewee>=3.16.2 in c:\\users\\crook\\appdata\\local\\packages\\pythonsoftwarefoundation.python.3.11_qbz5n2kfra8p0\\localcache\\local-packages\\python311\\site-packages (from yfinance) (3.18.2)\n",
      "Requirement already satisfied: beautifulsoup4>=4.11.1 in c:\\users\\crook\\appdata\\local\\packages\\pythonsoftwarefoundation.python.3.11_qbz5n2kfra8p0\\localcache\\local-packages\\python311\\site-packages (from yfinance) (4.13.4)\n",
      "Requirement already satisfied: curl_cffi>=0.7 in c:\\users\\crook\\appdata\\local\\packages\\pythonsoftwarefoundation.python.3.11_qbz5n2kfra8p0\\localcache\\local-packages\\python311\\site-packages (from yfinance) (0.13.0)\n",
      "Requirement already satisfied: protobuf>=3.19.0 in c:\\users\\crook\\appdata\\local\\packages\\pythonsoftwarefoundation.python.3.11_qbz5n2kfra8p0\\localcache\\local-packages\\python311\\site-packages (from yfinance) (6.33.0)\n",
      "Requirement already satisfied: websockets>=13.0 in c:\\users\\crook\\appdata\\local\\packages\\pythonsoftwarefoundation.python.3.11_qbz5n2kfra8p0\\localcache\\local-packages\\python311\\site-packages (from yfinance) (15.0.1)\n",
      "Requirement already satisfied: python-dateutil>=2.8.2 in c:\\users\\crook\\appdata\\local\\packages\\pythonsoftwarefoundation.python.3.11_qbz5n2kfra8p0\\localcache\\local-packages\\python311\\site-packages (from pandas) (2.9.0.post0)\n",
      "Requirement already satisfied: tzdata>=2022.7 in c:\\users\\crook\\appdata\\local\\packages\\pythonsoftwarefoundation.python.3.11_qbz5n2kfra8p0\\localcache\\local-packages\\python311\\site-packages (from pandas) (2024.1)\n",
      "Requirement already satisfied: click in c:\\users\\crook\\appdata\\local\\packages\\pythonsoftwarefoundation.python.3.11_qbz5n2kfra8p0\\localcache\\local-packages\\python311\\site-packages (from nltk) (8.3.0)\n",
      "Requirement already satisfied: joblib in c:\\users\\crook\\appdata\\local\\packages\\pythonsoftwarefoundation.python.3.11_qbz5n2kfra8p0\\localcache\\local-packages\\python311\\site-packages (from nltk) (1.5.2)\n",
      "Requirement already satisfied: regex>=2021.8.3 in c:\\users\\crook\\appdata\\local\\packages\\pythonsoftwarefoundation.python.3.11_qbz5n2kfra8p0\\localcache\\local-packages\\python311\\site-packages (from nltk) (2025.9.18)\n",
      "Requirement already satisfied: tqdm in c:\\users\\crook\\appdata\\local\\packages\\pythonsoftwarefoundation.python.3.11_qbz5n2kfra8p0\\localcache\\local-packages\\python311\\site-packages (from nltk) (4.67.1)\n",
      "Requirement already satisfied: scipy>=1.8.0 in c:\\users\\crook\\appdata\\local\\packages\\pythonsoftwarefoundation.python.3.11_qbz5n2kfra8p0\\localcache\\local-packages\\python311\\site-packages (from scikit-learn) (1.16.2)\n",
      "Requirement already satisfied: threadpoolctl>=3.1.0 in c:\\users\\crook\\appdata\\local\\packages\\pythonsoftwarefoundation.python.3.11_qbz5n2kfra8p0\\localcache\\local-packages\\python311\\site-packages (from scikit-learn) (3.6.0)\n",
      "Requirement already satisfied: soupsieve>1.2 in c:\\users\\crook\\appdata\\local\\packages\\pythonsoftwarefoundation.python.3.11_qbz5n2kfra8p0\\localcache\\local-packages\\python311\\site-packages (from beautifulsoup4>=4.11.1->yfinance) (2.7)\n",
      "Requirement already satisfied: typing-extensions>=4.0.0 in c:\\users\\crook\\appdata\\local\\packages\\pythonsoftwarefoundation.python.3.11_qbz5n2kfra8p0\\localcache\\local-packages\\python311\\site-packages (from beautifulsoup4>=4.11.1->yfinance) (4.14.1)\n",
      "Requirement already satisfied: cffi>=1.12.0 in c:\\users\\crook\\appdata\\local\\packages\\pythonsoftwarefoundation.python.3.11_qbz5n2kfra8p0\\localcache\\local-packages\\python311\\site-packages (from curl_cffi>=0.7->yfinance) (1.17.1)\n",
      "Requirement already satisfied: certifi>=2024.2.2 in c:\\users\\crook\\appdata\\local\\packages\\pythonsoftwarefoundation.python.3.11_qbz5n2kfra8p0\\localcache\\local-packages\\python311\\site-packages (from curl_cffi>=0.7->yfinance) (2024.12.14)\n",
      "Requirement already satisfied: six>=1.5 in c:\\users\\crook\\appdata\\local\\packages\\pythonsoftwarefoundation.python.3.11_qbz5n2kfra8p0\\localcache\\local-packages\\python311\\site-packages (from python-dateutil>=2.8.2->pandas) (1.16.0)\n",
      "Requirement already satisfied: charset-normalizer<4,>=2 in c:\\users\\crook\\appdata\\local\\packages\\pythonsoftwarefoundation.python.3.11_qbz5n2kfra8p0\\localcache\\local-packages\\python311\\site-packages (from requests>=2.31->yfinance) (3.4.0)\n",
      "Requirement already satisfied: idna<4,>=2.5 in c:\\users\\crook\\appdata\\local\\packages\\pythonsoftwarefoundation.python.3.11_qbz5n2kfra8p0\\localcache\\local-packages\\python311\\site-packages (from requests>=2.31->yfinance) (3.10)\n",
      "Requirement already satisfied: urllib3<3,>=1.21.1 in c:\\users\\crook\\appdata\\local\\packages\\pythonsoftwarefoundation.python.3.11_qbz5n2kfra8p0\\localcache\\local-packages\\python311\\site-packages (from requests>=2.31->yfinance) (2.2.3)\n",
      "Requirement already satisfied: colorama in c:\\users\\crook\\appdata\\local\\packages\\pythonsoftwarefoundation.python.3.11_qbz5n2kfra8p0\\localcache\\local-packages\\python311\\site-packages (from click->nltk) (0.4.6)\n",
      "Requirement already satisfied: pycparser in c:\\users\\crook\\appdata\\local\\packages\\pythonsoftwarefoundation.python.3.11_qbz5n2kfra8p0\\localcache\\local-packages\\python311\\site-packages (from cffi>=1.12.0->curl_cffi>=0.7->yfinance) (2.22)\n"
     ]
    },
    {
     "name": "stderr",
     "output_type": "stream",
     "text": [
      "\n",
      "[notice] A new release of pip is available: 24.0 -> 25.2\n",
      "[notice] To update, run: C:\\Users\\Crook\\AppData\\Local\\Microsoft\\WindowsApps\\PythonSoftwareFoundation.Python.3.11_qbz5n2kfra8p0\\python.exe -m pip install --upgrade pip\n"
     ]
    }
   ],
   "source": [
    "!pip install rapidfuzz yfinance pandas numpy nltk scikit-learn"
   ]
  },
  {
   "cell_type": "code",
   "execution_count": 3,
   "id": "3b9805df",
   "metadata": {},
   "outputs": [],
   "source": [
    "from rapidfuzz import process, fuzz\n",
    "import yfinance as yf\n",
    "import pandas as pd\n",
    "import numpy as np\n",
    "import nltk\n",
    "import re\n",
    "\n",
    "import json"
   ]
  },
  {
   "cell_type": "code",
   "execution_count": 90,
   "id": "e75cd3fc",
   "metadata": {},
   "outputs": [],
   "source": [
    "# LOAD SEC(https://www.sec.gov/files/company_tickers.json) TICKERS\n",
    "with open(\"tickers.json\", \"r\") as f:\n",
    "    tickers = json.load(f)\n",
    "    companies = [tickers[i][\"title\"] for i in tickers]\n",
    "    abbrs = [tickers[i][\"ticker\"] for i in tickers]\n",
    "\n",
    "    comp_tckr = {comp: abbr for comp, abbr in zip(companies, abbrs)}\n",
    "\n",
    "# LOAD INITIAL RECALL DATA\n",
    "df = pd.read_csv(\"recalls.csv\")"
   ]
  },
  {
   "cell_type": "markdown",
   "id": "fae8dd7f",
   "metadata": {},
   "source": [
    "## Data Cleaning"
   ]
  },
  {
   "cell_type": "code",
   "execution_count": 91,
   "id": "b0ee2650",
   "metadata": {},
   "outputs": [
    {
     "name": "stdout",
     "output_type": "stream",
     "text": [
      "29374\n",
      "22505\n"
     ]
    }
   ],
   "source": [
    "# delete instances where year is older than 1995\n",
    "print(len(df))\n",
    "for i, row in df.iterrows():\n",
    "    if ( row['Report Received Date'][-4:].isnumeric() and int(row['Report Received Date'][-4:]) < 1995 ):\n",
    "        df.drop(i, inplace=True)\n",
    "print(len(df))"
   ]
  },
  {
   "cell_type": "code",
   "execution_count": 92,
   "id": "b8323dac",
   "metadata": {},
   "outputs": [],
   "source": [
    "# remove column that won't feed into training\n",
    "df = df.drop(\"Completion Rate % (Blank - Not Reported)\", axis=1)"
   ]
  },
  {
   "cell_type": "code",
   "execution_count": 95,
   "id": "225d2eb8",
   "metadata": {},
   "outputs": [],
   "source": [
    "# from first version - not using this in this version\n",
    "df = df.drop(\"Opening Stock Value\", axis =1)\n",
    "df = df.drop(\"Closing Stock Value\", axis =1)"
   ]
  },
  {
   "cell_type": "code",
   "execution_count": 96,
   "id": "69c1170a",
   "metadata": {},
   "outputs": [],
   "source": [
    "import re\n",
    "from collections import Counter\n",
    "\n",
    "# Common words to ignore\n",
    "stop_words = set([\n",
    "    \"inc\", \"corp\", \"llc\", \"co\", \"ltd\", \"corporation\",\n",
    "    \"company\", \"limited\", \"plc\", \"gmbh\", \"sa\", \"ag\", \"pte\", \"bv\", \"kg\", \"kgaa\", \"corp\", \"industries\", \"us\", \"of\"\n",
    "])\n",
    "\n",
    "def tokenize(name):\n",
    "    name = name.lower()\n",
    "    name = re.sub(r'[^a-z0-9 ]', ' ', name) \n",
    "    words = name.split()\n",
    "    return [w for w in words if w not in stop_words]\n",
    "\n",
    "# Build a word-to-company mapping for fast lookup\n",
    "word_counts = Counter()\n",
    "company_word_map = {}\n",
    "for c in companies:\n",
    "    words = tokenize(c)\n",
    "    company_word_map[c] = set(words)\n",
    "    word_counts.update(words)\n",
    "\n",
    "\n",
    "def match_by_unique_words(name):\n",
    "    words = tokenize(name)\n",
    "    if not words:\n",
    "        return None\n",
    "    \n",
    "    # Score companies by sum of inverse word frequencies (rare words are more valuable)\n",
    "    scores = {}\n",
    "    for c, c_words in company_word_map.items():\n",
    "        score = sum(1 / word_counts[w] for w in words if w in c_words)\n",
    "        if score > 0:\n",
    "            scores[c] = score\n",
    "    \n",
    "    if scores:\n",
    "        return max(scores, key=scores.get)\n",
    "    return None\n",
    "\n",
    "df.loc[:2000, \"fuzzy_company\"] = df.loc[:2000, \"Manufacturer\"].apply(match_by_unique_words)"
   ]
  },
  {
   "cell_type": "code",
   "execution_count": 97,
   "id": "c5317353",
   "metadata": {},
   "outputs": [
    {
     "name": "stderr",
     "output_type": "stream",
     "text": [
      "C:\\Users\\Crook\\AppData\\Local\\Temp\\ipykernel_10356\\3663560923.py:13: FutureWarning: YF.download() has changed argument auto_adjust default to True\n",
      "  price_data = yf.download(unique_tickers, start=start_date, end=end_date, group_by=\"ticker\", progress=False)\n",
      "\n",
      "15 Failed downloads:\n",
      "['FFAIW', 'AMBP-WT', 'AMBI-WT', 'TGE-WT', 'F-PD', 'DSYWW']: YFPricesMissingError('possibly delisted; no price data found  (1d 1995-01-01 00:00:00 -> 2025-10-02 00:00:00)')\n",
      "['EPDU', 'PLSAY', 'LBRJ', 'TDWD', 'TMRD', 'BBAAY', 'LOMWF', 'RYPBF', 'CLSO']: YFTzMissingError('possibly delisted; no timezone found')\n",
      "HTTP Error 404: {\"quoteSummary\":{\"result\":null,\"error\":{\"code\":\"Not Found\",\"description\":\"Quote not found for symbol: TMRD\"}}}\n",
      "HTTP Error 404: {\"quoteSummary\":{\"result\":null,\"error\":{\"code\":\"Not Found\",\"description\":\"Quote not found for symbol: CLSO\"}}}\n",
      "HTTP Error 404: {\"quoteSummary\":{\"result\":null,\"error\":{\"code\":\"Not Found\",\"description\":\"Quote not found for symbol: TDWD\"}}}\n"
     ]
    }
   ],
   "source": [
    "# get stock ticker\n",
    "df[\"ticker\"] = df[\"fuzzy_company\"].map(comp_tckr)\n",
    "\n",
    "# convert to datetime\n",
    "df[\"Report Received Date\"] = pd.to_datetime(df[\"Report Received Date\"])\n",
    "\n",
    "# get unique tickers\n",
    "unique_tickers = df[\"ticker\"].astype(str).unique().tolist()\n",
    "\n",
    "# get all prices in range (start of day, end of day)\n",
    "start_date = df[\"Report Received Date\"].min()\n",
    "end_date = df[\"Report Received Date\"].max() + pd.Timedelta(days=1)\n",
    "price_data = yf.download(unique_tickers, start=start_date, end=end_date, group_by=\"ticker\", progress=False)\n",
    "\n",
    "# helper function to grab pricing data\n",
    "def get_price(ticker, date):\n",
    "    try:\n",
    "        day_data = price_data[ticker].loc[date.strftime(\"%Y-%m-%d\")]\n",
    "        return pd.Series([day_data[\"Open\"], day_data[\"Close\"]])\n",
    "    except Exception:\n",
    "        return pd.Series([None, None])\n",
    "\n",
    "# get open/close price\n",
    "df[[\"open\", \"close\"]] = df.apply(lambda x: get_price(x[\"ticker\"], x[\"Report Received Date\"]), axis=1)\n",
    "\n",
    "# grab info on ticker\n",
    "info_cache = {}\n",
    "for ticker in unique_tickers:\n",
    "    try:\n",
    "        t = yf.Ticker(ticker)\n",
    "        info = t.info\n",
    "        info_cache[ticker] = {\n",
    "            \"market_cap\": info.get(\"marketCap\"),\n",
    "            \"eps\": info.get(\"trailingEps\"),\n",
    "            \"full_name\": info.get(\"longName\"),\n",
    "        }\n",
    "    except Exception:\n",
    "        pass\n",
    "\n",
    "# merge info back on ticker\n",
    "info_df = pd.DataFrame(info_cache).T\n",
    "info_df.index.name = \"ticker\"\n",
    "df = df.merge(info_df, on=\"ticker\", how=\"left\")\n"
   ]
  },
  {
   "cell_type": "code",
   "execution_count": null,
   "id": "bd006dce",
   "metadata": {},
   "outputs": [
    {
     "data": {
      "text/html": [
       "<div>\n",
       "<style scoped>\n",
       "    .dataframe tbody tr th:only-of-type {\n",
       "        vertical-align: middle;\n",
       "    }\n",
       "\n",
       "    .dataframe tbody tr th {\n",
       "        vertical-align: top;\n",
       "    }\n",
       "\n",
       "    .dataframe thead th {\n",
       "        text-align: right;\n",
       "    }\n",
       "</style>\n",
       "<table border=\"1\" class=\"dataframe\">\n",
       "  <thead>\n",
       "    <tr style=\"text-align: right;\">\n",
       "      <th></th>\n",
       "      <th>Report Received Date</th>\n",
       "      <th>NHTSA ID</th>\n",
       "      <th>Recall Link</th>\n",
       "      <th>Manufacturer</th>\n",
       "      <th>Subject</th>\n",
       "      <th>Component</th>\n",
       "      <th>Mfr Campaign Number</th>\n",
       "      <th>Recall Type</th>\n",
       "      <th>Potentially Affected</th>\n",
       "      <th>Recall Description</th>\n",
       "      <th>...</th>\n",
       "      <th>Stock Abbreviation</th>\n",
       "      <th>Opening Stock Value</th>\n",
       "      <th>Closing Stock Value</th>\n",
       "      <th>fuzzy_company</th>\n",
       "      <th>ticker</th>\n",
       "      <th>open</th>\n",
       "      <th>close</th>\n",
       "      <th>market_cap</th>\n",
       "      <th>eps</th>\n",
       "      <th>full_name</th>\n",
       "    </tr>\n",
       "  </thead>\n",
       "  <tbody>\n",
       "    <tr>\n",
       "      <th>0</th>\n",
       "      <td>2025-10-01</td>\n",
       "      <td>25V656000</td>\n",
       "      <td>Go to Recall (https://www.nhtsa.gov/recalls?nh...</td>\n",
       "      <td>Toyota Motor Engineering &amp; Manufacturing</td>\n",
       "      <td>Driveshaft May Deform and Break</td>\n",
       "      <td>POWER TRAIN</td>\n",
       "      <td>25TB11 / 25TA11</td>\n",
       "      <td>Vehicle</td>\n",
       "      <td>5960</td>\n",
       "      <td>Toyota Motor Engineering &amp; Manufacturing (Toyo...</td>\n",
       "      <td>...</td>\n",
       "      <td>NYSE:TM</td>\n",
       "      <td>192.39</td>\n",
       "      <td>191.83</td>\n",
       "      <td>TOYOTA MOTOR CORP/</td>\n",
       "      <td>TOYOF</td>\n",
       "      <td>17.84000</td>\n",
       "      <td>19.379999</td>\n",
       "      <td>269150797824</td>\n",
       "      <td>2.14</td>\n",
       "      <td>Toyota Motor Corporation</td>\n",
       "    </tr>\n",
       "    <tr>\n",
       "      <th>1</th>\n",
       "      <td>2025-10-01</td>\n",
       "      <td>25V655000</td>\n",
       "      <td>Go to Recall (https://www.nhtsa.gov/recalls?nh...</td>\n",
       "      <td>Nissan North America, Inc.</td>\n",
       "      <td>Fire Risk from Quick Charging Battery</td>\n",
       "      <td>ELECTRICAL SYSTEM</td>\n",
       "      <td>R25C8</td>\n",
       "      <td>Vehicle</td>\n",
       "      <td>19077</td>\n",
       "      <td>Nissan North America, Inc. (Nissan) is recalli...</td>\n",
       "      <td>...</td>\n",
       "      <td>NYSE:NSANY</td>\n",
       "      <td>NaN</td>\n",
       "      <td>NaN</td>\n",
       "      <td>Central North Airport Group</td>\n",
       "      <td>GAERF</td>\n",
       "      <td>13.94000</td>\n",
       "      <td>13.940000</td>\n",
       "      <td>4924503552</td>\n",
       "      <td>0.73</td>\n",
       "      <td>Grupo Aeroportuario del Centro Norte, S.A.B. d...</td>\n",
       "    </tr>\n",
       "    <tr>\n",
       "      <th>2</th>\n",
       "      <td>2025-09-30</td>\n",
       "      <td>25V654000</td>\n",
       "      <td>Go to Recall (https://www.nhtsa.gov/recalls?nh...</td>\n",
       "      <td>Volvo Car USA, LLC</td>\n",
       "      <td>Power Operated Tailgate May Drop Suddenly</td>\n",
       "      <td>STRUCTURE</td>\n",
       "      <td>R10342</td>\n",
       "      <td>Vehicle</td>\n",
       "      <td>1119</td>\n",
       "      <td>Volvo Car USA, LLC (Volvo) is recalling certai...</td>\n",
       "      <td>...</td>\n",
       "      <td>NYSE:</td>\n",
       "      <td>NaN</td>\n",
       "      <td>NaN</td>\n",
       "      <td>Mister Car Wash, Inc.</td>\n",
       "      <td>MCW</td>\n",
       "      <td>5.30000</td>\n",
       "      <td>5.330000</td>\n",
       "      <td>1646194432</td>\n",
       "      <td>0.26</td>\n",
       "      <td>Mister Car Wash, Inc.</td>\n",
       "    </tr>\n",
       "    <tr>\n",
       "      <th>3</th>\n",
       "      <td>2025-09-30</td>\n",
       "      <td>25V653000</td>\n",
       "      <td>Go to Recall (https://www.nhtsa.gov/recalls?nh...</td>\n",
       "      <td>Thor Motor Coach</td>\n",
       "      <td>LP Tank May Detach and Become a Road Hazard</td>\n",
       "      <td>EQUIPMENT</td>\n",
       "      <td>RC000331</td>\n",
       "      <td>Vehicle</td>\n",
       "      <td>23</td>\n",
       "      <td>Thor Motor Coach (TMC) is recalling certain 20...</td>\n",
       "      <td>...</td>\n",
       "      <td>NYSE:</td>\n",
       "      <td>NaN</td>\n",
       "      <td>NaN</td>\n",
       "      <td>THOR INDUSTRIES INC</td>\n",
       "      <td>THO</td>\n",
       "      <td>104.54486</td>\n",
       "      <td>103.191399</td>\n",
       "      <td>5831233024</td>\n",
       "      <td>4.84</td>\n",
       "      <td>THOR Industries, Inc.</td>\n",
       "    </tr>\n",
       "    <tr>\n",
       "      <th>4</th>\n",
       "      <td>2025-09-26</td>\n",
       "      <td>25E062000</td>\n",
       "      <td>Go to Recall (https://www.nhtsa.gov/recalls?nh...</td>\n",
       "      <td>MEDIX SPECIALTY VEHICLES, INC.</td>\n",
       "      <td>Quick Liner Wheel Covers May Detach and Become...</td>\n",
       "      <td>WHEELS</td>\n",
       "      <td>NaN</td>\n",
       "      <td>Equipment</td>\n",
       "      <td>396</td>\n",
       "      <td>Medix Specialty Vehicles, Inc. (Medix) is reca...</td>\n",
       "      <td>...</td>\n",
       "      <td>NYSE:</td>\n",
       "      <td>NaN</td>\n",
       "      <td>NaN</td>\n",
       "      <td>Envirotech Vehicles, Inc.</td>\n",
       "      <td>EVTV</td>\n",
       "      <td>2.02000</td>\n",
       "      <td>1.890000</td>\n",
       "      <td>5754790</td>\n",
       "      <td>-10.19</td>\n",
       "      <td>Envirotech Vehicles, Inc.</td>\n",
       "    </tr>\n",
       "    <tr>\n",
       "      <th>...</th>\n",
       "      <td>...</td>\n",
       "      <td>...</td>\n",
       "      <td>...</td>\n",
       "      <td>...</td>\n",
       "      <td>...</td>\n",
       "      <td>...</td>\n",
       "      <td>...</td>\n",
       "      <td>...</td>\n",
       "      <td>...</td>\n",
       "      <td>...</td>\n",
       "      <td>...</td>\n",
       "      <td>...</td>\n",
       "      <td>...</td>\n",
       "      <td>...</td>\n",
       "      <td>...</td>\n",
       "      <td>...</td>\n",
       "      <td>...</td>\n",
       "      <td>...</td>\n",
       "      <td>...</td>\n",
       "      <td>...</td>\n",
       "      <td>...</td>\n",
       "    </tr>\n",
       "    <tr>\n",
       "      <th>22500</th>\n",
       "      <td>1995-01-11</td>\n",
       "      <td>95V004000</td>\n",
       "      <td>Go to Recall (https://www.nhtsa.gov/recalls?nh...</td>\n",
       "      <td>THOMAS BUILT BUSES, INC.</td>\n",
       "      <td>INTERIOR SYSTEMS:ACTIVE RESTRAINTS:BELT RETRAC...</td>\n",
       "      <td>SEAT BELTS</td>\n",
       "      <td>NR (Not Reported)</td>\n",
       "      <td>Vehicle</td>\n",
       "      <td>3076</td>\n",
       "      <td>THE METAL HOUSING OF THE SAFETY BELT RETRACTOR...</td>\n",
       "      <td>...</td>\n",
       "      <td>NYSE:</td>\n",
       "      <td>NaN</td>\n",
       "      <td>NaN</td>\n",
       "      <td>NaN</td>\n",
       "      <td>NaN</td>\n",
       "      <td>NaN</td>\n",
       "      <td>NaN</td>\n",
       "      <td>NaN</td>\n",
       "      <td>NaN</td>\n",
       "      <td>NaN</td>\n",
       "    </tr>\n",
       "    <tr>\n",
       "      <th>22501</th>\n",
       "      <td>1995-01-03</td>\n",
       "      <td>95T001000</td>\n",
       "      <td>Go to Recall (https://www.nhtsa.gov/recalls?nh...</td>\n",
       "      <td>Cooper Tire &amp; Rubber Co.</td>\n",
       "      <td>TIRES:MARKINGS</td>\n",
       "      <td>TIRES</td>\n",
       "      <td>NR (Not Reported)</td>\n",
       "      <td>Tire</td>\n",
       "      <td>6603</td>\n",
       "      <td>THE MAXIMUM INFLATION PRESSURE STAMPING ON THE...</td>\n",
       "      <td>...</td>\n",
       "      <td>NYSE:</td>\n",
       "      <td>NaN</td>\n",
       "      <td>NaN</td>\n",
       "      <td>NaN</td>\n",
       "      <td>NaN</td>\n",
       "      <td>NaN</td>\n",
       "      <td>NaN</td>\n",
       "      <td>NaN</td>\n",
       "      <td>NaN</td>\n",
       "      <td>NaN</td>\n",
       "    </tr>\n",
       "    <tr>\n",
       "      <th>22502</th>\n",
       "      <td>1995-01-03</td>\n",
       "      <td>95V013000</td>\n",
       "      <td>Go to Recall (https://www.nhtsa.gov/recalls?nh...</td>\n",
       "      <td>PREVOST CAR, INC. Inactive</td>\n",
       "      <td>STRUCTURE:DOOR ASSEMBLY</td>\n",
       "      <td>STRUCTURE</td>\n",
       "      <td>NR (Not Reported)</td>\n",
       "      <td>Vehicle</td>\n",
       "      <td>1090</td>\n",
       "      <td>IF A PASSENGER TRIES TO EXIT THE LAVATORY COMP...</td>\n",
       "      <td>...</td>\n",
       "      <td>NYSE:</td>\n",
       "      <td>NaN</td>\n",
       "      <td>NaN</td>\n",
       "      <td>NaN</td>\n",
       "      <td>NaN</td>\n",
       "      <td>NaN</td>\n",
       "      <td>NaN</td>\n",
       "      <td>NaN</td>\n",
       "      <td>NaN</td>\n",
       "      <td>NaN</td>\n",
       "    </tr>\n",
       "    <tr>\n",
       "      <th>22503</th>\n",
       "      <td>1995-01-03</td>\n",
       "      <td>95V016000</td>\n",
       "      <td>Go to Recall (https://www.nhtsa.gov/recalls?nh...</td>\n",
       "      <td>PREVOST CAR, INC. Inactive</td>\n",
       "      <td>EMERGENCY PARKING BRAKE:MECHANICAL</td>\n",
       "      <td>PARKING BRAKE</td>\n",
       "      <td>NR (Not Reported)</td>\n",
       "      <td>Vehicle</td>\n",
       "      <td>2075</td>\n",
       "      <td>THE PARKING BRAKE BUTTON CAN BE HIT ACCIDENTLY...</td>\n",
       "      <td>...</td>\n",
       "      <td>NYSE:</td>\n",
       "      <td>NaN</td>\n",
       "      <td>NaN</td>\n",
       "      <td>NaN</td>\n",
       "      <td>NaN</td>\n",
       "      <td>NaN</td>\n",
       "      <td>NaN</td>\n",
       "      <td>NaN</td>\n",
       "      <td>NaN</td>\n",
       "      <td>NaN</td>\n",
       "    </tr>\n",
       "    <tr>\n",
       "      <th>22504</th>\n",
       "      <td>1995-01-01</td>\n",
       "      <td>95V014000</td>\n",
       "      <td>Go to Recall (https://www.nhtsa.gov/recalls?nh...</td>\n",
       "      <td>WESTERN STAR TRUCKS, INC.</td>\n",
       "      <td>EQUIPMENT:BUNK SLEEPER:TRUCK</td>\n",
       "      <td>EQUIPMENT</td>\n",
       "      <td>NR (Not Reported)</td>\n",
       "      <td>Vehicle</td>\n",
       "      <td>122</td>\n",
       "      <td>STRAPS HOLDING THE SLEEPER UPPER BUNK IN THE R...</td>\n",
       "      <td>...</td>\n",
       "      <td>NYSE:</td>\n",
       "      <td>NaN</td>\n",
       "      <td>NaN</td>\n",
       "      <td>NaN</td>\n",
       "      <td>NaN</td>\n",
       "      <td>NaN</td>\n",
       "      <td>NaN</td>\n",
       "      <td>NaN</td>\n",
       "      <td>NaN</td>\n",
       "      <td>NaN</td>\n",
       "    </tr>\n",
       "  </tbody>\n",
       "</table>\n",
       "<p>22505 rows × 24 columns</p>\n",
       "</div>"
      ],
      "text/plain": [
       "      Report Received Date   NHTSA ID  \\\n",
       "0               2025-10-01  25V656000   \n",
       "1               2025-10-01  25V655000   \n",
       "2               2025-09-30  25V654000   \n",
       "3               2025-09-30  25V653000   \n",
       "4               2025-09-26  25E062000   \n",
       "...                    ...        ...   \n",
       "22500           1995-01-11  95V004000   \n",
       "22501           1995-01-03  95T001000   \n",
       "22502           1995-01-03  95V013000   \n",
       "22503           1995-01-03  95V016000   \n",
       "22504           1995-01-01  95V014000   \n",
       "\n",
       "                                             Recall Link  \\\n",
       "0      Go to Recall (https://www.nhtsa.gov/recalls?nh...   \n",
       "1      Go to Recall (https://www.nhtsa.gov/recalls?nh...   \n",
       "2      Go to Recall (https://www.nhtsa.gov/recalls?nh...   \n",
       "3      Go to Recall (https://www.nhtsa.gov/recalls?nh...   \n",
       "4      Go to Recall (https://www.nhtsa.gov/recalls?nh...   \n",
       "...                                                  ...   \n",
       "22500  Go to Recall (https://www.nhtsa.gov/recalls?nh...   \n",
       "22501  Go to Recall (https://www.nhtsa.gov/recalls?nh...   \n",
       "22502  Go to Recall (https://www.nhtsa.gov/recalls?nh...   \n",
       "22503  Go to Recall (https://www.nhtsa.gov/recalls?nh...   \n",
       "22504  Go to Recall (https://www.nhtsa.gov/recalls?nh...   \n",
       "\n",
       "                                   Manufacturer  \\\n",
       "0      Toyota Motor Engineering & Manufacturing   \n",
       "1                    Nissan North America, Inc.   \n",
       "2                            Volvo Car USA, LLC   \n",
       "3                              Thor Motor Coach   \n",
       "4                MEDIX SPECIALTY VEHICLES, INC.   \n",
       "...                                         ...   \n",
       "22500                  THOMAS BUILT BUSES, INC.   \n",
       "22501                  Cooper Tire & Rubber Co.   \n",
       "22502                PREVOST CAR, INC. Inactive   \n",
       "22503                PREVOST CAR, INC. Inactive   \n",
       "22504                 WESTERN STAR TRUCKS, INC.   \n",
       "\n",
       "                                                 Subject          Component  \\\n",
       "0                        Driveshaft May Deform and Break        POWER TRAIN   \n",
       "1                  Fire Risk from Quick Charging Battery  ELECTRICAL SYSTEM   \n",
       "2              Power Operated Tailgate May Drop Suddenly          STRUCTURE   \n",
       "3            LP Tank May Detach and Become a Road Hazard          EQUIPMENT   \n",
       "4      Quick Liner Wheel Covers May Detach and Become...             WHEELS   \n",
       "...                                                  ...                ...   \n",
       "22500  INTERIOR SYSTEMS:ACTIVE RESTRAINTS:BELT RETRAC...         SEAT BELTS   \n",
       "22501                                     TIRES:MARKINGS              TIRES   \n",
       "22502                            STRUCTURE:DOOR ASSEMBLY          STRUCTURE   \n",
       "22503                 EMERGENCY PARKING BRAKE:MECHANICAL      PARKING BRAKE   \n",
       "22504                       EQUIPMENT:BUNK SLEEPER:TRUCK          EQUIPMENT   \n",
       "\n",
       "      Mfr Campaign Number Recall Type  Potentially Affected  \\\n",
       "0         25TB11 / 25TA11     Vehicle                  5960   \n",
       "1                   R25C8     Vehicle                 19077   \n",
       "2                  R10342     Vehicle                  1119   \n",
       "3                RC000331     Vehicle                    23   \n",
       "4                     NaN   Equipment                   396   \n",
       "...                   ...         ...                   ...   \n",
       "22500   NR (Not Reported)     Vehicle                  3076   \n",
       "22501   NR (Not Reported)        Tire                  6603   \n",
       "22502   NR (Not Reported)     Vehicle                  1090   \n",
       "22503   NR (Not Reported)     Vehicle                  2075   \n",
       "22504   NR (Not Reported)     Vehicle                   122   \n",
       "\n",
       "                                      Recall Description  ...  \\\n",
       "0      Toyota Motor Engineering & Manufacturing (Toyo...  ...   \n",
       "1      Nissan North America, Inc. (Nissan) is recalli...  ...   \n",
       "2      Volvo Car USA, LLC (Volvo) is recalling certai...  ...   \n",
       "3      Thor Motor Coach (TMC) is recalling certain 20...  ...   \n",
       "4      Medix Specialty Vehicles, Inc. (Medix) is reca...  ...   \n",
       "...                                                  ...  ...   \n",
       "22500  THE METAL HOUSING OF THE SAFETY BELT RETRACTOR...  ...   \n",
       "22501  THE MAXIMUM INFLATION PRESSURE STAMPING ON THE...  ...   \n",
       "22502  IF A PASSENGER TRIES TO EXIT THE LAVATORY COMP...  ...   \n",
       "22503  THE PARKING BRAKE BUTTON CAN BE HIT ACCIDENTLY...  ...   \n",
       "22504  STRAPS HOLDING THE SLEEPER UPPER BUNK IN THE R...  ...   \n",
       "\n",
       "      Stock Abbreviation Opening Stock Value Closing Stock Value  \\\n",
       "0                NYSE:TM              192.39              191.83   \n",
       "1             NYSE:NSANY                 NaN                 NaN   \n",
       "2                  NYSE:                 NaN                 NaN   \n",
       "3                  NYSE:                 NaN                 NaN   \n",
       "4                  NYSE:                 NaN                 NaN   \n",
       "...                  ...                 ...                 ...   \n",
       "22500              NYSE:                 NaN                 NaN   \n",
       "22501              NYSE:                 NaN                 NaN   \n",
       "22502              NYSE:                 NaN                 NaN   \n",
       "22503              NYSE:                 NaN                 NaN   \n",
       "22504              NYSE:                 NaN                 NaN   \n",
       "\n",
       "                     fuzzy_company ticker       open       close  \\\n",
       "0               TOYOTA MOTOR CORP/  TOYOF   17.84000   19.379999   \n",
       "1      Central North Airport Group  GAERF   13.94000   13.940000   \n",
       "2            Mister Car Wash, Inc.    MCW    5.30000    5.330000   \n",
       "3              THOR INDUSTRIES INC    THO  104.54486  103.191399   \n",
       "4        Envirotech Vehicles, Inc.   EVTV    2.02000    1.890000   \n",
       "...                            ...    ...        ...         ...   \n",
       "22500                          NaN    NaN        NaN         NaN   \n",
       "22501                          NaN    NaN        NaN         NaN   \n",
       "22502                          NaN    NaN        NaN         NaN   \n",
       "22503                          NaN    NaN        NaN         NaN   \n",
       "22504                          NaN    NaN        NaN         NaN   \n",
       "\n",
       "         market_cap    eps                                          full_name  \n",
       "0      269150797824   2.14                           Toyota Motor Corporation  \n",
       "1        4924503552   0.73  Grupo Aeroportuario del Centro Norte, S.A.B. d...  \n",
       "2        1646194432   0.26                              Mister Car Wash, Inc.  \n",
       "3        5831233024   4.84                              THOR Industries, Inc.  \n",
       "4           5754790 -10.19                          Envirotech Vehicles, Inc.  \n",
       "...             ...    ...                                                ...  \n",
       "22500           NaN    NaN                                                NaN  \n",
       "22501           NaN    NaN                                                NaN  \n",
       "22502           NaN    NaN                                                NaN  \n",
       "22503           NaN    NaN                                                NaN  \n",
       "22504           NaN    NaN                                                NaN  \n",
       "\n",
       "[22505 rows x 24 columns]"
      ]
     },
     "execution_count": 26,
     "metadata": {},
     "output_type": "execute_result"
    }
   ],
   "source": [
    "df"
   ]
  },
  {
   "cell_type": "code",
   "execution_count": 98,
   "id": "16e61b5e",
   "metadata": {},
   "outputs": [],
   "source": [
    "def ba_rm_nulls(df=None, col=None):\n",
    "    \"\"\" \n",
    "    Helper function to print length of dataframe before removing nulls in a column, then print the length after the nulls are removed.\n",
    "\n",
    "    Args:\n",
    "        * df (pd.DataFrame): Dataframe with nulls.\n",
    "        * col (str): Column name nulls should be removed from.\n",
    "\n",
    "    Returns:\n",
    "        * df (pd.DataFrame): Dataframe without nulls.\n",
    "    \"\"\"\n",
    "\n",
    "    print(f\"BEFORE NULLS FROM {col} REMOVED: \", len(df))\n",
    "\n",
    "    df = df[df[f\"{col}\"].notna()]\n",
    "\n",
    "    print(f\"AFTER NULLS FROM {col} REMOVED: \", len(df))\n",
    "\n",
    "    return df"
   ]
  },
  {
   "cell_type": "code",
   "execution_count": 99,
   "id": "272ae328",
   "metadata": {},
   "outputs": [
    {
     "name": "stdout",
     "output_type": "stream",
     "text": [
      "BEFORE NULLS FROM ticker REMOVED:  22505\n",
      "AFTER NULLS FROM ticker REMOVED:  1530\n"
     ]
    }
   ],
   "source": [
    "df = ba_rm_nulls(df, \"ticker\")"
   ]
  },
  {
   "cell_type": "code",
   "execution_count": 100,
   "id": "4c0ea956",
   "metadata": {},
   "outputs": [],
   "source": [
    "# intermediate step to save compute time during development\n",
    "df.to_csv('intermediate.csv')"
   ]
  },
  {
   "cell_type": "code",
   "execution_count": 4,
   "id": "ee15b011",
   "metadata": {},
   "outputs": [],
   "source": [
    "df = pd.read_csv(\"intermediate.csv\")"
   ]
  },
  {
   "cell_type": "markdown",
   "id": "2369a420",
   "metadata": {},
   "source": [
    "### Get Dummies"
   ]
  },
  {
   "cell_type": "code",
   "execution_count": 5,
   "id": "2ca39755",
   "metadata": {},
   "outputs": [
    {
     "name": "stdout",
     "output_type": "stream",
     "text": [
      "4\n",
      "32\n"
     ]
    }
   ],
   "source": [
    "print(len(df.value_counts(\"Recall Type\")))\n",
    "print(len(df.value_counts(\"Component\")))"
   ]
  },
  {
   "cell_type": "code",
   "execution_count": 6,
   "id": "b5218bbf",
   "metadata": {},
   "outputs": [],
   "source": [
    "df['Original_Component'] = df['Component'].fillna('')"
   ]
  },
  {
   "cell_type": "code",
   "execution_count": 7,
   "id": "1e4dfb81",
   "metadata": {},
   "outputs": [],
   "source": [
    "df = pd.get_dummies(data=df, prefix=\"RECALL_TYPE_\", columns=[\"Recall Type\"])\n",
    "df = pd.get_dummies(data=df, prefix=\"COMPONENT_TYPE_\", columns=[\"Component\"])"
   ]
  },
  {
   "cell_type": "markdown",
   "id": "b9fe6f5a",
   "metadata": {},
   "source": [
    "### Bag of Words Featuring "
   ]
  },
  {
   "cell_type": "code",
   "execution_count": 8,
   "id": "c0f06753",
   "metadata": {},
   "outputs": [],
   "source": [
    "from sklearn.feature_extraction.text import CountVectorizer"
   ]
  },
  {
   "cell_type": "markdown",
   "id": "4abca196",
   "metadata": {},
   "source": [
    "#### Recall Description BOW"
   ]
  },
  {
   "cell_type": "code",
   "execution_count": 9,
   "id": "2555075e",
   "metadata": {},
   "outputs": [
    {
     "data": {
      "text/plain": [
       "0       Toyota Motor Engineering & Manufacturing (Toyo...\n",
       "1       Nissan North America, Inc. (Nissan) is recalli...\n",
       "2       Volvo Car USA, LLC (Volvo) is recalling certai...\n",
       "3       Thor Motor Coach (TMC) is recalling certain 20...\n",
       "4       Medix Specialty Vehicles, Inc. (Medix) is reca...\n",
       "                              ...                        \n",
       "1525    Porsche Cars North America, Inc. (Porsche) is ...\n",
       "1526    Volkswagen Group of America, Inc. (Audi) is re...\n",
       "1527    Daimler Trucks North America, LLC (DTNA) is re...\n",
       "1528    Honda (American Honda Motor Co.) is recalling ...\n",
       "1529    Hubbell Incorporated (Delaware) is recalling c...\n",
       "Name: Recall Description, Length: 1530, dtype: object"
      ]
     },
     "execution_count": 9,
     "metadata": {},
     "output_type": "execute_result"
    }
   ],
   "source": [
    "df[\"Recall Description\"]"
   ]
  },
  {
   "cell_type": "code",
   "execution_count": 10,
   "id": "5f77c642",
   "metadata": {},
   "outputs": [],
   "source": [
    "recall_vectorizer = CountVectorizer(\n",
    "    input='content',    \n",
    "    stop_words='english',\n",
    "    analyzer='word',\n",
    "    decode_error='ignore'\n",
    ")\n",
    "\n",
    "component_vectorizer = CountVectorizer(\n",
    "    input='content',    \n",
    "    stop_words='english',\n",
    "    analyzer='word',\n",
    "    decode_error='ignore'\n",
    ")"
   ]
  },
  {
   "cell_type": "code",
   "execution_count": 11,
   "id": "0670c7e6",
   "metadata": {},
   "outputs": [
    {
     "name": "stdout",
     "output_type": "stream",
     "text": [
      "Index(['Unnamed: 0', 'Report Received Date', 'NHTSA ID', 'Recall Link',\n",
      "       'Manufacturer', 'Subject', 'Mfr Campaign Number',\n",
      "       'Potentially Affected', 'Recall Description', 'Consequence Summary',\n",
      "       'Corrective Action', 'Park Outside Advisory', 'Do Not Drive Advisory',\n",
      "       'Stock Abbreviation', 'fuzzy_company', 'ticker', 'open', 'close',\n",
      "       'market_cap', 'eps', 'full_name', 'Original_Component',\n",
      "       'RECALL_TYPE__Child Seat', 'RECALL_TYPE__Equipment',\n",
      "       'RECALL_TYPE__Tire', 'RECALL_TYPE__Vehicle', 'COMPONENT_TYPE__AIR BAGS',\n",
      "       'COMPONENT_TYPE__BACK OVER PREVENTION', 'COMPONENT_TYPE__CHILD SEAT',\n",
      "       'COMPONENT_TYPE__COMMUNICATION', 'COMPONENT_TYPE__ELECTRICAL SYSTEM',\n",
      "       'COMPONENT_TYPE__ELECTRONIC STABILITY CONTROL (ESC)',\n",
      "       'COMPONENT_TYPE__ENGINE AND ENGINE COOLING',\n",
      "       'COMPONENT_TYPE__EQUIPMENT',\n",
      "       'COMPONENT_TYPE__EQUIPMENT ADAPTIVE/MOBILITY',\n",
      "       'COMPONENT_TYPE__EXTERIOR LIGHTING',\n",
      "       'COMPONENT_TYPE__FORWARD COLLISION AVOIDANCE',\n",
      "       'COMPONENT_TYPE__FUEL SYSTEM, DIESEL',\n",
      "       'COMPONENT_TYPE__FUEL SYSTEM, GASOLINE',\n",
      "       'COMPONENT_TYPE__FUEL SYSTEM, OTHER', 'COMPONENT_TYPE__LANE DEPARTURE',\n",
      "       'COMPONENT_TYPE__LATCHES/LOCKS/LINKAGES',\n",
      "       'COMPONENT_TYPE__PARKING BRAKE', 'COMPONENT_TYPE__POWER TRAIN',\n",
      "       'COMPONENT_TYPE__SEAT BELTS', 'COMPONENT_TYPE__SEATS',\n",
      "       'COMPONENT_TYPE__SERVICE BRAKES, AIR',\n",
      "       'COMPONENT_TYPE__SERVICE BRAKES, ELECTRIC',\n",
      "       'COMPONENT_TYPE__SERVICE BRAKES, HYDRAULIC',\n",
      "       'COMPONENT_TYPE__SERVICE BRAKES, HYDRAULIC; AUTOHOLD BRAKE SYSTEM/BRAKE HOLD',\n",
      "       'COMPONENT_TYPE__STEERING', 'COMPONENT_TYPE__STRUCTURE',\n",
      "       'COMPONENT_TYPE__SUSPENSION', 'COMPONENT_TYPE__TIRES',\n",
      "       'COMPONENT_TYPE__TRAILER HITCHES',\n",
      "       'COMPONENT_TYPE__VEHICLE SPEED CONTROL', 'COMPONENT_TYPE__VISIBILITY',\n",
      "       'COMPONENT_TYPE__WHEELS'],\n",
      "      dtype='object')\n"
     ]
    },
    {
     "data": {
      "text/plain": [
       "58"
      ]
     },
     "execution_count": 11,
     "metadata": {},
     "output_type": "execute_result"
    }
   ],
   "source": [
    "print(df.columns)\n",
    "len(df.columns)"
   ]
  },
  {
   "cell_type": "code",
   "execution_count": 12,
   "id": "d2ac203f",
   "metadata": {},
   "outputs": [],
   "source": [
    "X_recall = recall_vectorizer.fit_transform(df[\"Recall Description\"])\n",
    "X_component = component_vectorizer.fit_transform(df[\"Original_Component\"])"
   ]
  },
  {
   "cell_type": "code",
   "execution_count": 13,
   "id": "73975799",
   "metadata": {},
   "outputs": [
    {
     "name": "stdout",
     "output_type": "stream",
     "text": [
      "{'toyota': 4186, 'motor': 2912, 'engineering': 1721, 'manufacturing': 2753, 'recalling': 3446, 'certain': 1127, '2025': 158, 'tacoma': 4081, 'hybrid': 2267, 'vehicles': 4374, 'driveshaft': 1595, 'constant': 1273, 'velocity': 4376, 'cv': 1396, 'joint': 2457, 'deform': 1477, 'break': 974, 'nissan': 3002, 'north': 3015, 'america': 721, '2021': 153, '2022': 154, 'leaf': 2587, 'equipped': 1748, 'level': 2605, 'quick': 3386, 'charging': 1146, 'port': 3261, 'lithium': 2646, 'ion': 2426, 'battery': 864, 'overheat': 3124, 'volvo': 4434, 'car': 1072, 'usa': 4322, 'llc': 2649, 'ex90': 1780, 'spindle': 3899, 'nut': 3031, 'detach': 1503, 'power': 3276, 'operated': 3083, 'tailgate': 4084, 'pot': 3271, 'drive': 1590, 'units': 4299, 'causing': 1101, 'suddenly': 4020, 'drop': 1600, 'thor': 4135, 'coach': 1205, 'tmc': 4165, '2024': 156, 'luminate': 2699, 'indigo': 2349, 'recreational': 3459, 'lp': 2682, 'tank': 4090, 'support': 4042, 'tube': 4252, 'short': 3790, 'insufficient': 2387, 'weld': 4493, 'fracture': 1954, 'allowing': 702, 'medix': 2797, 'specialty': 3886, 'phoenix': 3203, 'liner': 2632, 'wheel': 4503, 'covers': 1337, 'installed': 2383, 'clip': 1188, 'feature': 1869, 'ford': 1939, 'type': 4276, 'iii': 2298, 'ambulances': 720, 'transit': 4213, 'kia': 2531, '2023': 155, 'sorento': 3866, 'heating': 2184, 'ventilation': 4382, 'air': 684, 'conditioning': 1257, 'hvac': 2259, 'blower': 922, 'wiring': 4529, 'harness': 2154, 'inadequate': 2323, 'result': 3529, 'international': 2414, 'motors': 2919, '2026': 159, 'ic': 2279, 'bus': 1015, 'cecb': 1119, 'commercial': 1229, 'buses': 1018, 'tire': 4153, 'contact': 1275, 'damage': 1426, 'dryer': 1605, 'discharge': 1540, 'line': 2630, 'leak': 2588, 'unintentional': 4296, 'activation': 631, 'parking': 3166, 'brake': 965, 'cesb': 1129, 'school': 3697, 'jaguar': 2447, 'land': 2570, 'rover': 3612, 'range': 3420, 'evoque': 1777, 'water': 4477, 'enter': 1723, 'rearview': 3441, 'camera': 1056, 'cause': 1098, 'image': 2306, 'appear': 742, 'display': 1553, 'distorted': 1560, 'bmw': 926, '2020': 152, '340i': 319, 'x6': 4551, '840i': 565, '740li': 535, '2019': 150, 'x7': 4552, 'x5': 4550, 'repeated': 3503, 'attempts': 805, 'starter': 3956, 'electrical': 1684, 'overload': 3128, 'm4': 2713, '430i': 399, 'positive': 3268, 'cables': 1044, 'properly': 3331, 'connected': 1264, 'distribution': 1563, 'box': 958, 'resulting': 3530, 'engine': 1720, 'stall': 3947, 'crank': 1346, 'shaft': 3772, 'assembly': 783, 'fail': 1837, 'preventing': 3298, 'left': 2594, 'wiper': 4522, 'working': 4534, 'general': 2034, 'gm': 2069, 'chevrolet': 1153, 'equinox': 1746, 'ev': 1767, 'pedestrian': 3191, 'alert': 693, 'sound': 3868, 'produce': 3319, 'sufficient': 4021, 'change': 1141, 'volume': 4433, 'vehicle': 4373, 'stopped': 3980, 'moving': 2928, 'low': 2678, 'speeds': 3894, 'comply': 1241, 'requirements': 3511, 'federal': 1877, 'safety': 3675, 'standard': 3949, 'fmvss': 1928, 'number': 3028, '141': 80, 'minimum': 2853, 'electric': 1683, 'volkswagen': 4429, 'group': 2104, 'gti': 2116, 'golf': 2075, 'audi': 807, 'a5': 593, 'a6': 594, 'sportback': 3910, 'tron': 4239, 's5': 3659, 's6': 3663, 'q4': 3370, 'torsion': 4173, 'bar': 851, 'seat': 3721, 'belt': 886, 'retractors': 3539, 'damaged': 1427, 'production': 3321, 'sq7': 3927, 'fasteners': 1855, 'securing': 3737, 'high': 2201, 'pressure': 3292, 'fuel': 1978, 'pump': 3352, 'tightened': 4146, '330i': 311, 'z4': 4611, '530i': 440, 'x3': 4548, 'x4': 4549, 'supra': 4046, 'convertible': 1299, '230i': 209, 'relay': 3488, 'corrode': 1316, 'circuit': 1166, 'blue': 923, 'bird': 906, 'company': 1234, 'vision': 4414, 'interlock': 2409, 'software': 3852, 'unintentionally': 4297, 'activate': 627, 'driving': 1599, 'speed': 3892, 'porsche': 3260, 'cars': 1084, 'panamera': 3155, 'cayenne': 1102, 'industries': 2352, 'mci': 2786, 'd45crte': 1419, 'd45crtele': 1420, 'j4500e': 2443, 'coaches': 1206, 'voltage': 4431, 'experience': 1800, 'module': 2895, 'near': 2974, 'capacity': 1070, 'new': 2985, 'flyer': 1927, 'xe35': 4579, 'xe40': 4580, 'xe60': 4581, 'isuzu': 2437, 'limited': 2624, 'fvr': 1993, 'ftr': 1977, '6500xd': 503, '7500xd': 538, 'heater': 2182, 'melting': 2801, 'casing': 1090, 'connector': 1269, 'expedition': 1799, 'lincoln': 2629, 'navigator': 2968, 'junction': 2468, 'parked': 3165, '250': 236, '350': 324, '450': 406, 'steering': 3973, 'column': 1220, 'upper': 4321, 'loss': 2676, 'control': 1289, 'wabash': 4462, 'national': 2964, 'corporation': 1312, 'dvcvhpc': 1617, 'van': 4358, 'trailers': 4203, 'incorrect': 2338, 'rear': 3440, 'impact': 2310, 'guard': 2118, '224': 191, 'protection': 3336, 'hyundai': 2272, 'genesis': 2041, 'gv60': 2124, 'stainless': 3945, 'steel': 3969, 'molding': 2899, 'windshield': 4518, 'repaired': 3502, 'incorrectly': 2339, 'recall': 3444, 'numbers': 3029, '24v226': 229, '24v591': 231, 'coupler': 1333, 'cover': 1336, 'tires': 4154, 'designed': 1501, 'previous': 3301, 'repair': 3501, 'trucks': 4243, 'vn': 4424, 'towing': 4184, 'trailer': 4202, 'lights': 2623, 'illuminate': 2301, 'improperly': 2317, 'manufactured': 2751, 'body': 935, 'door': 1575, 'latch': 2575, 'cable': 1043, 'interior': 2408, 'handle': 2141, 'opening': 3080, 'cadillac': 1047, 'escalade': 1756, 'tahoe': 4082, 'gmc': 2071, 'yukon': 4610, 'cylinder': 1410, 'diesel': 1525, 'original': 3095, 'replaced': 3505, 'allow': 700, 'rollover': 3600, 'crash': 1349, 'reading': 3438, 'truck': 4242, 'ram': 3418, '4500': 407, 'curt': 1388, 'hitch': 2212, '15400': 87, 'mounting': 2923, 'bolts': 939, 'loosen': 2672, 'x1': 4545, 'x2': 4547, 'mini': 2852, 'cooper': 1306, 'countryman': 1330, 'all4': 698, 'se': 3713, 'zf': 4619, 'submitted': 4016, 'defect': 1466, 'information': 2359, 'report': 3508, 'based': 859, 'determinations': 1516, 'chrysler': 1162, 'fca': 1863, 'transmission': 4215, 'unit': 4298, 'fluid': 1925, 'components': 1242, 'park': 3164, 'function': 1981, 'ioniq': 2427, 'suspension': 4051, 'alignment': 697, 'adjustment': 655, 'stability': 3942, 'polestar': 3255, 'automotive': 817, 'placed': 3234, 'reverse': 3546, 'autoliv': 813, 'assemblies': 782, 'r230': 3396, '2lla': 279, 'retractor': 3538, 'yamaha': 4604, 'skeeter': 3823, 'fxr': 1998, 'boat': 930, 'boarding': 929, 'ladder': 2567, 'used': 4324, 'gain': 2011, 'access': 614, 'bow': 956, 'incomplete': 2334, 'welds': 4498, 'orange': 3092, 'oev': 3064, '2017': 148, 'series': 3761, 'triever': 4231, 'husk': 2256, 'terminal': 4117, 'hazard': 2165, 'warning': 4469, 'turn': 4264, 'ignition': 2294, 'position': 3265, '108': 39, 'lamps': 2569, 'reflective': 3470, 'devices': 1520, 'associated': 789, 'equipment': 1747, '2016': 147, 'taurus': 4093, 'driver': 1592, 'passenger': 3175, 'pillar': 3210, 'trim': 4234, 'forest': 1941, 'river': 3571, 'spirit': 3901, 'shasta': 3776, 'oasis': 3040, '30': 285, 'amp': 727, '50': 427, 'inlet': 2367, 'wire': 4525, 'sheathing': 3778, 'inconsistently': 2336, 'stripped': 4000, 'arcing': 759, 'daimler': 1423, 'vans': 4362, 'dvusa': 1618, 'mercedes': 2805, 'benz': 895, 'sprinter': 3923, '2500': 237, '3500': 325, 'longitudinal': 2670, 'frame': 1956, 'members': 2803, 'reinforced': 3484, 'panel': 3156, 'palisade': 3152, 'buckles': 998, 'second': 3727, 'row': 3613, 'window': 4515, 'seats': 3726, 'dtna': 1608, 'thomas': 4134, 'built': 1004, 'saf': 3672, 'hdx': 2172, 'c2': 1031, 'efx': 1675, 'jouley': 2459, 'tie': 4144, 'rod': 3594, 'castle': 1092, 'cotter': 1325, 'pin': 3212, 'western': 4501, 'star': 3951, '47x': 412, 'freightliner': 1965, 'business': 1021, 'class': 1178, 'm2': 2706, 'fccc': 1864, 'mt55g': 2939, '49x': 420, 'cascadia': 1086, '114sd': 49, 'mt45g': 2936, 's2rv106': 3657, 'ecascadia': 1654, 's2c106': 3653, '108sd': 40, 'caliper': 1052, 'xcr': 4564, 'xbs': 4554, 'mt45': 2935, '57x': 465, 'xcp': 4563, 'xcm': 4562, '5th': 476, 'gen': 2033, 'mt55': 2938, 'mt50e': 2937, 'corp': 1311, 'micro': 2843, 'g5': 2002, 'mbii': 2780, 'assisted': 786, 'service': 3762, 'eye': 1817, 'rings': 3570, 'attaching': 801, 'panels': 3157, 'gear': 2029, 'delaminate': 1486, 'controlled': 1290, 'ktm': 2556, 'husqvarna': 2257, 'svartpilen': 4055, '401': 373, 'vitpilen': 4420, '390': 354, 'adventure': 663, 'motorcycles': 2916, 'throttle': 4141, 'bronco': 989, 'ranger': 3421, 'villa': 4405, 'pedestals': 3190, 'anchorages': 731, '400004': 371, 'pedestal': 3189, 'plate': 3237, 'welded': 4494, 'separate': 3753, '207': 166, 'seating': 3725, 'systems': 4063, '210': 174, 'venza': 4385, 'rav4': 3430, 'prime': 3305, 'highlander': 2204, 'gr': 2082, 'corolla': 1310, 'crown': 1363, 'lexus': 2609, 'tx': 4272, 'ls': 2688, 'grand': 2089, 'rx': 3643, 'signia': 3811, 'camry': 1061, 'rav': 3429, 'plug': 3243, 'phev': 3202, 'runner': 3636, 'error': 1750, 'instrument': 2386, 'startup': 3958, 'silverado': 3814, 'sierra': 3807, 'experiencing': 1801, 'electronic': 1687, 'esc': 1755, 'malfunction': 2741, 'light': 2620, 'key': 2529, 'cycle': 1405, '126': 66, 'aprilia': 752, 'rsv4': 3631, '1100': 44, 'e5': 1632, 'factory': 1836, 'tuono': 4259, 'sports': 3911, 'signals': 3810, 'tail': 4083, 'flicker': 1917, 'stop': 3979, 'harley': 2153, 'davidson': 1435, 'rh1250s': 3557, 'sportster': 3914, 'triple': 4236, 'clamp': 1175, 'xc90mhev': 4559, 'xc60mhev': 4557, 'v90ccmhev': 4347, 'v60ccmhev': 4342, 'homes': 2227, 'bracket': 962, 'potential': 3272, 'subject': 4014, 'repetitive': 3504, 'forces': 1938, 'static': 3962, 'conditions': 1258, 'rivian': 3575, 'r1s': 3394, 'r1t': 3395, 'operating': 3084, 'version': 4390, 'prior': 3310, '18': 110, 'hands': 2145, 'free': 1959, 'highway': 2205, 'assist': 784, 'hwa': 2265, 'correctly': 1315, 'identify': 2287, 'lead': 2585, 'spartan': 3882, 'gladiator': 2053, 'metrostar': 2819, 'fc': 1861, '94': 584, 'kme': 2543, 'panther': 3160, 'predator': 3286, 'actuator': 635, 'lever': 2607, 'arm': 766, 'cab': 1040, 'bind': 903, 'wedged': 4490, 'honda': 2228, 'american': 722, 'crf1100': 1354, 'africa': 674, 'twin': 4269, 'handlebar': 2142, 'switch': 4057, 'oxidation': 3137, 'horn': 2235, 'ability': 600, 'headlight': 2175, 'beam': 877, 'acura': 637, 'rdx': 3433, 'eps': 1737, 'calibrated': 1050, 'failsafe': 1841, 'mode': 2890, 'resb': 3513, 'underfloor': 4288, 'reinforcement': 3485, 'compromising': 1249, 'structural': 4002, 'integrity': 2398, '222': 189, 'bz4x': 1026, 'rz': 3649, 'subaru': 4012, 'solterra': 3861, 'faults': 1858, 'compressor': 1248, 'failure': 1842, 'defroster': 1480, 'defogger': 1475, 'inoperative': 2371, '2015': 146, 'mkc': 2878, 'mustang': 2948, 'sd': 3707, '2018': 149, 'edge': 1666, 'connect': 1263, '550': 452, 'econoline': 1660, 'inverted': 2421, 'blank': 914, 'tandem': 4089, 'chamber': 1138, 'ducati': 1610, 'panigale': 3158, 'v4': 4338, 'sl': 3826, 'streetfighter': 3993, 'axle': 830, 'lose': 2675, 'travel': 4222, 'fifth': 1888, 'deficient': 1471, 'magna': 2730, 'cameras': 1057, 'complete': 1239, 'list': 2641, 'paccar': 3142, 'incorporated': 2337, 'kenworth': 2528, 't680': 4076, 't880': 4079, 'w990': 4461, '15': 83, 'inch': 2327, 'digital': 1530, '101': 30, 'controls': 1294, 'displays': 1556, '121': 62, 'mazda': 2778, 'operations': 3086, 'cx': 1400, '90': 576, '70': 516, 'mild': 2848, 'mhev': 2828, 'gauge': 2023, 'cluster': 1199, 'inaccurate': 2320, 'hiab': 2198, 'galfab': 2012, 'nio': 3000, '75': 536, '194': 123, '72r': 531, 'hoists': 2218, 'hoist': 2217, 'busbar': 1016, '2013': 144, 'xhe40': 4582, 'xhe60': 4583, 'rev': 3542, 'recreation': 3458, 'tradition': 4199, 'eagle': 1634, 'dream': 1588, 'fleetwood': 1911, 'waste': 4475, 'macerator': 2724, 'fuse': 1987, 'housing': 2243, 'melt': 2800, 'tuff': 4257, 'tta17200t': 4250, 'tta18200t': 4251, 'gross': 2101, 'weight': 4492, 'rating': 3427, 'gvwr': 2127, 'listed': 2642, 'label': 2562, 'g5e': 2003, 'emergency': 1698, 'locked': 2659, '217': 179, 'exits': 1794, 'retention': 3534, 'release': 3489, 'tiguan': 4147, 'bolt': 937, 'loose': 2671, 'vinfast': 4407, 'auto': 812, 'vf8': 4393, 'advanced': 661, 'assistance': 785, 'adas': 641, 'wide': 4508, 'turns': 4266, 'unexpected': 4292, 'movements': 2927, 'difficult': 1527, 'override': 3130, 'goodyear': 2076, 'rubber': 3635, 'metro': 2817, 'miler': 2850, 'g652': 2006, 'size': 3821, 'b305': 832, '85r22': 570, 'inner': 2368, 'specification': 3888, 'shoulder': 3791, 'area': 761, 'midwest': 2847, 'poly': 3257, 'hose': 2238, 'reel': 3465, 'crack': 1340, 'vermeer': 4387, 'r600t': 3397, 'guards': 2119, 'design': 1500, 'strength': 3994, '223': 190, 'sealed': 3716, 'hood': 2229, 'wing': 4519, 'bumper': 1008, 'missing': 2869, 'management': 2745, 'hesitation': 2195, 'stalling': 3948, 'nova': 3020, 'lfs': 2612, 'coolant': 1302, 'hoses': 2239, 'routed': 3610, 'roof': 3604, 'cedar': 1120, 'creek': 1352, 'exit': 1792, 'riverstone': 3572, 'hydraulic': 2268, 'lines': 2633, 'tucson': 4256, 'santa': 3685, 'fe': 1867, 'connecting': 1266, 'possibly': 3270, 'oil': 3067, 'certification': 1128, 'services': 3763, 'tcs': 4098, 'roll': 3597, 'print': 3307, 'load': 2651, 'carrying': 1083, 'lcc': 2582, 'modification': 2893, 'nte028a': 3026, 'kilogram': 2536, 'pound': 3274, 'combined': 1224, 'occupants': 3049, 'cargo': 1077, 'reversed': 3547, '110': 43, 'selection': 3742, 'rims': 3568, 'k4': 2511, 'keystone': 2530, 'rv': 3639, 'springdale': 3920, 'hideout': 2200, 'pivot': 3224, 'brackets': 963, 'bunk': 1009, 'bed': 882, 'bend': 891, 'grounded': 2103, 'connection': 1267, 'inside': 2375, 'hvdb': 2260, 'gtd': 2114, 'communication': 1230, 'exterior': 1814, 'lighting': 2621, 'including': 2332, 'license': 2615, 'marker': 2760, 'mkx': 2880, 'jounce': 2460, 'rupture': 3638, 'explorer': 1803, 'aviator': 824, '2012': 143, 'xcelsior': 4560, 'location': 2656, 'curtain': 1389, 'bags': 848, 'reinforcements': 3486, 'tear': 4099, 'deployment': 1495, '226': 193, 'ejection': 1677, 'mitigation': 2872, 'global': 2066, 'columns': 1221, 'a14': 590, '20679': 165, '001': 3, 'lower': 2679, 'shafts': 3773, '150': 84, 'ipc': 2429, 'east': 1638, 'west': 4499, 'entrada': 1727, 'wired': 4527, 'way': 4479, 'brakes': 966, 'lock': 2658, 'applied': 745, 'flagstaff': 1902, 'rockwood': 3592, 'breakaway': 975, 'disconnect': 1541, 'making': 2740, 'corvette': 1321, 'radiator': 3409, 'fan': 1849, 'combination': 1223, 'excess': 1785, 'spill': 3898, 'filler': 1890, 'pocket': 3248, 'refueling': 3477, 'source': 3871, 'aluminum': 715, 'atc': 792, 'pl500': 3226, 'pl700': 3228, 'rm500': 3581, 'rm900': 3584, 'st450': 3940, 'pl550': 3227, 'pl750': 3229, 'pr300': 3283, 'rm450': 3580, 'rm550': 3582, 'rm800': 3583, 'radio': 3410, 'speakers': 3883, 'mv': 2951, 'interconnect': 2404, 'auxiliary': 818, 'stud': 4008, 'hold': 2219, 'mbusa': 2781, 'eqe': 1739, 'glc': 2059, 'models': 2892, 'coupling': 1335, 'rack': 3405, 'aston': 790, 'martin': 2762, 'vanquish': 4361, 'vacuum': 4349, 'generate': 2036, 'decreased': 1461, 'triumph': 4237, 'daytona': 1437, '660': 506, 'internal': 2412, 'disruption': 1557, 'flow': 1920, 'sumitomo': 4023, 'dunlop': 1612, 'tt93fgp': 4249, 'pro': 3313, 'ms': 2932, 'motorcycle': 2915, '120': 58, '80': 556, '12': 57, '55j': 459, '100': 27, '49j': 419, 'sidewall': 3803, 'compound': 1245, 'contaminated': 1284, 'tread': 4226, 'surface': 4047, 'reducing': 3463, 'traction': 4197, 'heil': 2187, 'end': 1707, 'loader': 2653, 'garbage': 2016, 'excessive': 1786, 'vibrations': 4400, 'head': 2173, 'tubes': 4254, 'vertical': 4392, 'automatic': 815, 'afl': 673, 'fall': 1845, 'shutoff': 3797, 'solenoid': 3856, 'evsb': 1778, 'tension': 4112, 'spring': 3919, 'disengaging': 1550, 'barking': 852, 'dynamic': 1621, 'oversteer': 3132, 'guidance': 2120, 'nautilus': 2966, 'mach': 2725, 'led': 2593, 'modules': 2896, 'contain': 1279, 'burnt': 1013, 'diode': 1532, 'headlights': 2176, 'daytime': 1436, 'running': 3637, 'affected': 672, 'condition': 1254, 'signal': 3809, '24v953': 234, 'reversal': 3545, 'react': 3436, 'detecting': 1511, 'obstruction': 3047, '118': 54, '22v686': 203, 'activated': 628, 'description': 1499, 'develop': 1517, '24v802': 233, '102': 32, 'shift': 3783, 'sequence': 3757, 'braking': 967, 'effect': 1672, 'recalls': 3447, '23v802': 220, '24v777': 232, 'ota': 3102, 'update': 4317, 'anti': 734, 'abs': 602, 'features': 1870, 'tow': 4181, 'max': 2774, 'duty': 1616, 'package': 3147, 'heavy': 2185, 'float': 1918, 'hub': 2250, 'fatigue': 1856, 'splines': 3903, '2014': 145, 'sport': 3908, 'knuckle': 2548, 'detachment': 1507, 'amg': 724, 'gla': 2052, '35': 323, '4matic': 421, 'aim': 682, 'markings': 2761, 'aimed': 683, 'corsair': 1319, 'connectors': 1270, 'suzuki': 4054, 'dl': 1566, '1050': 37, 'gsx': 2108, '1000s': 29, 'bright': 983, 'exceed': 1782, 'maximum': 2776, 'output': 3113, 'adversely': 665, 'affect': 671, 'frontier': 1972, 'logic': 2665, 'dim': 1531, 'unexpectedly': 4293, 'idle': 2288, 'start': 3954, 'cycles': 1406, 'mitsubishi': 2873, 'mmna': 2886, 'outlander': 3109, 'sold': 3854, 'currently': 1387, 'registered': 3481, 'alaska': 692, 'connecticut': 1265, 'delaware': 1487, 'district': 1565, 'columbia': 1218, 'illinois': 2300, 'indiana': 2345, 'iowa': 2428, 'kansas': 2523, 'kentucky': 2526, 'maine': 2735, 'maryland': 2763, 'massachusetts': 2765, 'michigan': 2841, 'minnesota': 2854, 'missouri': 2870, 'dakota': 1425, 'nebraska': 2976, 'hampshire': 2138, 'jersey': 2452, 'york': 4608, 'ohio': 3066, 'pennsylvania': 3193, 'rhode': 3558, 'island': 2432, 'south': 3873, 'utah': 4328, 'vermont': 4388, 'virginia': 4411, 'wisconsin': 4530, 'liftgate': 2618, 'gas': 2017, 'cylinders': 1411, 'falling': 1846, 'lineage': 2631, 'lippert': 2639, 'modularia': 2894, 'entrance': 1728, 'doors': 1576, 'mechanism': 2795, '4000': 370, '4300': 398, '1300': 69, 'fbc': 1860, 'tc': 4095, 'holley': 2225, 'performance': 3197, 'products': 3322, '140': 79, 'gph': 2079, 'black': 910, 'pumps': 3354, '815': 562, 'compatible': 1238, 'methanol': 2814, 'lt': 2692, 'rh': 3556, 'hill': 2208, 'hsa': 2249, 'exhaust': 1790, 'clogged': 1193, 'delaying': 1490, 'case': 1088, 'winnebago': 4520, 'ekko': 1678, 'valve': 4356, 'extension': 1813, 'outer': 3108, 'wheels': 4506, 'bendix': 892, 'knorr': 2547, 'bresme': 980, '22': 184, '24': 221, '57': 461, 'chambers': 1139, 'k068622': 2471, 'k038830n00': 2470, 'replacement': 3506, 'parts': 3171, 'premier': 3288, 'solutions': 3862, 'pole': 3254, 'seals': 3718, 'telluride': 4108, 'k5': 2512, 'right': 3565, 'pieces': 3208, 'macan': 2723, 'secured': 3733, 'backrest': 842, 'prevent': 3297, 'deploying': 1494, 'check': 1149, 'input': 2372, 'tesla': 4122, 'model': 2891, 'ring': 3569, 'ground': 2102, 'open': 3078, 'sounding': 3869, 'grech': 2096, 'terreno': 4121, 'turismo': 4263, 'strada': 3987, 'motorhomes': 2918, 'retractable': 3537, 'awning': 828, 'extend': 1810, '5l': 475, 'powertrain': 3282, 'buckled': 997, 'started': 3955, 'audible': 808, 'chime': 1157, 'intended': 2400, '208': 167, 'occupant': 3048, 'booster': 948, 'ebb': 1644, 'utilizing': 4332, 'eqb': 1738, '300': 286, 'screws': 3706, 'sudden': 4019, 'sunseeker': 4030, 'solera': 3857, 'forester': 1942, 'freelander': 1961, 'leprechaun': 2601, 'inconsistent': 2335, 'crimps': 1357, 'upfit': 4318, 'kits': 2541, 'accessory': 617, 'wad': 4463, 'wbd': 4480, 'w3': 4457, 'w4': 4458, 'w9': 4459, 'w10': 4448, 'w11': 4449, 'w12': 4450, 'spare': 3880, 'carrier': 1082, 'continental': 1286, 'americas': 723, 'cta': 1377, 'altimax': 713, 'rt45': 3633, '235': 210, '60r18': 483, 'overcured': 3117, '900': 577, 'gs': 2106, '800': 557, '1000': 28, 'rr': 3622, '1600': 92, 'gt': 2110, 'optional': 3091, 'ecall': 1653, 'deactivated': 1452, 'programming': 3324, 'closing': 1195, 'windows': 4516, 'exert': 1789, 'force': 1937, 'encountering': 1706, 'object': 3041, 'automatically': 816, 'vistiq': 4418, 'lyriq': 2702, 'floor': 1919, 'ferrari': 1880, 'purosangue': 3359, 'supply': 4041, 'footrest': 1936, 'activates': 629, 'decreases': 1462, 'i4': 2274, 'ix': 2440, 'i7': 2276, 'i5': 2275, 'shut': 3795, 'revel': 3543, 'vita': 4419, 'porto': 3263, 'wagon': 4464, 'view': 4403, 'navion': 2969, 'supplemental': 4036, 'restraint': 3527, 'srs': 3934, 'wires': 4528, 'caught': 1097, 'adjusted': 653, 'rosenbauer': 3606, 'avenger': 822, 'commander': 1227, 'warrior': 4471, 'innovative': 2370, 'odometer': 3059, 'freeze': 1963, 'accurate': 621, 'mileage': 2849, 'g90': 2010, 'prevost': 3303, '45': 405, 'commuter': 1232, 'perimeter': 3198, 'glazing': 2057, 'material': 2769, 'conform': 1262, '205': 163, 'materials': 2770, 'pace': 3143, 'bag': 847, 'cell': 1122, 'assembled': 781, 'stress': 3995, 'possible': 3269, 'taycan': 4094, 'retaining': 3533, 'strut': 4005, 'come': 1225, 'dislodged': 1552, 'towable': 4182, 'minnie': 2855, 'flx': 1926, 'cooktop': 1300, 'flame': 1904, 'invert': 2420, 'stove': 3984, 'furnace': 1985, 'time': 4149, 'amo': 726, 'utility': 4330, 'shackle': 3770, 'nuts': 3032, 'chassis': 1147, 'peragon': 3194, 'enterprises': 1724, 'tectonic': 4105, 'hard': 2150, 'tonneau': 4167, 'plastic': 3236, 'slides': 3835, 'panoramic': 3159, 'glass': 2055, 'sunroof': 4029, 'escape': 1757, 'engines': 1722, 'injector': 2364, 'compartment': 1236, 'malibu': 2742, 'boats': 931, 'point': 3251, 'westbrook': 4500, 'tracer': 4193, 'liquid': 2640, 'propane': 3327, 'rub': 3634, 'metris': 2816, 'connections': 1268, 'infotainment': 2360, '111': 45, 'visibility': 4412, 'fuso': 1990, 'mfta': 2823, 'rizon': 3576, 'fec7k': 1873, 'e16': 1623, 'fec9k': 1875, 'e18': 1624, 'fecxk': 1876, 'epb': 1735, 'use': 4323, 'spacer': 3878, 'big': 901, 'friction': 1970, 'overheated': 3125, 'h3': 2129, 'd4520': 1417, 'd45crtle': 1421, 'd45crt': 1418, 'j3500': 2441, 'j4500': 2442, 'bontrager': 945, 'outdoors': 3107, 'skinny': 3825, 'guy': 2123, 'campers': 1059, 'armor': 767, '7lt': 554, '7rod': 555, 'carbon': 1074, 'monoxide': 2904, 'detectors': 1514, 'motiv': 2911, '59': 470, 'epic': 1736, 'pack': 3146, 'bay': 867, 'harnesses': 2155, 'ecoboost': 1659, 'rff': 3554, 'heads': 2179, 'pv4z': 3365, '6049': 481, 'long': 2668, 'block': 919, '6006': 479, 'ball': 849, 'plugs': 3245, 'rail': 3414, 'hd': 2168, 'road': 3586, 'accord': 618, 'continuously': 1288, 'variable': 4365, 'originally': 3096, 'salt': 3680, 'contaminants': 1282, 'kawasaki': 2525, 'ninja': 2999, 'zx': 4625, '6r': 513, 'operation': 3085, 'seizure': 3740, 'metal': 2810, 'crankshaft': 1348, 'bushing': 1020, 'shyft': 3802, 'utilimaster': 4329, 'converter': 1297, 'bombardier': 940, 'brp': 991, 'canyon': 1066, 'idler': 2289, 'arc': 756, 'ba4l': 836, 'increased': 2341, 'gap': 2015, 'scenarios': 3695, 'coasting': 1208, 'using': 4326, 'pedal': 3188, 'atlas': 794, 'cross': 1358, 'id': 2283, 'member': 2802, 'mount': 2920, 'subframe': 4013, 'process': 3316, 'investment': 2423, 'tico': 4143, 'spotter': 3918, 'non': 3013, 'dot': 1579, 'fitting': 1899, 'reduced': 3462, 'cr': 1339, 'feed': 1878, '301': 288, 'previously': 3302, 'remedied': 3496, '25v367': 254, 'src': 3933, '04': 13, 'wrong': 4542, 'washer': 4472, 'thermal': 4130, 'bolted': 938, 'rogue': 3596, 'altima': 712, 'infiniti': 2355, 'qx50': 3387, 'qx55': 3388, '0l': 25, 'compression': 1247, 'turbo': 4260, 'vc': 4368, 'bearings': 880, 'defects': 1468, 'pt': 3347, 'elangperdana': 1679, 'tyre': 4278, 'industry': 2353, 'ep': 1733, 'accelera': 608, 'omikron': 3070, 'lt265': 2693, '65r18a': 505, 'bead': 876, '139': 77, 'pneumatic': 3247, 'radial': 3408, 'controllers': 1292, 'ml3z': 2883, '19h332': 126, 'aa': 598, 'ba': 835, 'ca': 1039, 'includes': 2331, 'recalled': 3445, '22e045': 197, 'apply': 748, '18v707': 119, 'kmc': 2542, 'bj230a': 908, 'w230': 4451, 'unstable': 4314, 'mkz': 2881, 'fusion': 1989, 'ecosport': 1663, 'maverick': 2773, 'remain': 3494, 'backing': 839, 'event': 1774, 'ended': 1709, 'extended': 1811, 'main': 2734, 'contactors': 1277, 'bowlus': 957, 'chief': 1155, 'endless': 1712, 'highways': 2206, 'volterra': 4432, 'terra': 4119, 'firma': 1895, 'rivet': 3573, 'elongated': 1694, 'owners': 3135, 'manual': 2748, 'does': 1570, 'include': 2329, 'instructions': 2385, 'retighten': 3535, 'maintenance': 2738, 'schedule': 3696, 'compressed': 1246, 'natural': 2965, 'chafe': 1132, 'oshkosh': 3101, 'defense': 1470, 'ngdv': 2991, 'delivery': 1491, 'sun': 4024, 'visor': 4416, 'deploy': 1492, 'lightning': 2622, 'bev': 896, 'great': 2093, 'dane': 1431, 'champion': 1140, 'dry': 1604, 'operator': 3087, 'increasing': 2342, 'required': 3509, 'close': 1194, 'nc750x': 2971, 'improper': 2316, 'structure': 4003, 'unravel': 4309, 'handling': 2144, '119': 55, '1500': 85, 'crew': 1353, 'rrab': 3623, 'inflator': 2357, 'cap': 1067, 't480': 4073, 'peterbilt': 3199, '520': 437, '536': 442, '537': 443, '548': 450, '567': 460, '579': 464, '589': 469, 't180': 4066, '535': 441, 't280': 4068, 't380': 4070, 'l770': 2560, 'addition': 643, 'lift': 2617, 'axles': 831, 'lowered': 2680, 'revert': 3549, 'raised': 3417, 'oscillate': 3100, 'sensor': 3748, 'blazer': 915, 'corroded': 1317, 'unintended': 4295, 'c40': 1034, 'ec40': 1651, 'xc40': 4555, 'xc90': 4558, 'xc60': 4556, 's60': 3664, 'v60': 4340, 'ex40': 1779, 's90': 3668, 'medium': 2796, 'actuation': 634, 'computer': 1250, 'faulty': 1859, 'increase': 2340, 'distances': 1559, 'fuzion': 1992, 'raptor': 3424, 'toy': 4185, 'hauler': 2159, 'generator': 2038, 'vapor': 4364, 'installation': 2381, 'gate': 2020, 'pins': 3215, 'leg': 2595, 'helmet': 2189, 'blister': 917, 'twister': 4270, 'helmets': 2190, 'sizes': 3822, 'xxs': 4603, 'xxl': 4602, 'lack': 2566, 'proper': 3330, 'penetration': 3192, '218': 180, 'niro': 3001, 'board': 928, 'wildwood': 4512, 'salem': 3678, 'patio': 3180, 'unlocked': 4307, 'sabre': 3671, 'griddle': 2098, 'stowed': 3985, 'lpg': 2684, 'chains': 1135, 'meet': 2798, 'actual': 633, 'placard': 3231, 'aeromaster': 669, 'monitor': 2902, '360': 331, 'degree': 1484, 'correct': 1313, 'child': 1156, 'anchor': 729, 'vanguard': 4360, 'vxp': 4446, '28': 270, 'foot': 1935, 'pup': 3357, 'pintle': 3216, 'hook': 2230, 'towed': 4183, 'shifter': 3785, 'moved': 2925, 'neutral': 2983, 'pressing': 3291, 'holiday': 2224, 'rambler': 3419, 'incline': 2328, 'altitude': 714, 'house': 2242, 'entry': 1730, 'steps': 3976, 'intrusion': 2418, 'detector': 1513, 'configured': 1261, 'bars': 856, 'adhesive': 649, 'bonding': 943, 'charge': 1143, 'latches': 2576, 'shuts': 3798, 'trapping': 4220, 'unable': 4286, 'handles': 2143, 'mpc': 2929, 'plugged': 3244, 'pushrod': 3362, '135': 74, '105': 36, '22v455': 202, '22c14': 196, 'gauges': 2024, 'displaying': 1555, 'forward': 1950, 'collision': 1215, 'warnings': 4470, 'distance': 1558, 'economy': 1661, 'accurately': 622, 'pull': 3348, 'pcm': 3184, 'hand': 2140, 'able': 601, 'opened': 3079, 'active': 632, 'vent': 4379, 'flap': 1906, 'bearing': 879, 'engage': 1716, '114': 47, 'theft': 4129, 'rollaway': 3598, 'prevention': 3299, 'easy': 1639, 'stick': 3977, 'unlatching': 4303, 'folding': 1933, 'sliding': 3836, 'shock': 3787, 'absorbers': 606, '54000294': 446, '54000134': 445, 'fit': 1898, 'softail': 3851, 'tab': 4080, 'pre': 3285, 'adjuster': 654, 'absorber': 605, 'tlx': 4162, 'mdx': 2793, 'pilot': 3211, '4500hd': 408, '5500hd': 454, '6500hd': 502, 'flash': 1908, 'caps': 1071, 'firmware': 1896, 'indicator': 2348, 'solidly': 3858, 'illuminated': 2302, 'dashboard': 1433, 'visible': 4413, 'hev': 2196, '23v380': 217, 'released': 3490, 'accumulate': 619, 'sources': 3872, 'hot': 2241, '43': 397, '350e': 326, '63': 489, 'contacts': 1278, 'absorb': 604, 'adequate': 645, '201': 139, 'suv': 4053, 'eqs': 1742, 'acoustic': 626, 'alerting': 694, 'avas': 821, 'external': 1815, 'reversing': 3548, 'kicks': 2532, 'center': 1125, 'screen': 3703, 'shifted': 3784, 'wonder': 4532, 'w24rtb': 4456, 'w24rl': 4455, 'w24mbl': 4454, 'unity': 4300, 'u24rl': 4283, 'u24tb': 4284, 'u24mbl': 4282, 'u24mb': 4281, 'u24fx': 4280, 'u24cb': 4279, 'insulation': 2390, 'inverter': 2422, 'mx': 2954, 'dsc': 1606, 'anchorage': 730, 'ivi': 2439, 'battle': 865, 'let2': 2602, 'custom': 1392, 'works': 4535, 'weldon': 4497, '8x16': 575, 'nodes': 3011, 'node': 3010, 'overloaded': 3129, 'circuits': 1167, 'alliance': 699, 'paradigm': 3161, '295mk': 276, 'avenue': 823, '23rls': 215, 'freshwater': 1969, 'detaching': 1506, '367': 336, 'piping': 3220, 'clearance': 1185, 'collins': 1214, 'unlock': 4306, '2027': 160, 'gle': 2061, '450e': 409, 'coupe': 1331, 'gls': 2068, 'maybach': 2777, '600': 478, '53': 439, 'multi': 2942, 'purpose': 3360, 'mirror': 2860, 'insufficiently': 2388, 'attached': 799, 'nozzles': 3021, 'reaching': 3435, '104': 35, 'wiping': 4524, 'washing': 4474, 'xl750': 4586, 'cmx1100': 1201, 'crankcase': 1347, 'sealing': 3717, 'mazda3': 2779, 'cx30': 1401, 'sophisticated': 3865, 'sas': 3686, 'set': 3765, 'code': 1210, 'deactivate': 1451, 'year': 4605, 'video': 4402, 'borgwarner': 950, '25v055': 250, 'mack': 2727, '25v185': 252, '25v184': 251, 'cummins': 1383, '25e018': 245, 'gillig': 2048, '25v203': 253, 'hardware': 2152, 'net': 2981, 'domain': 1572, 'controller': 1291, 'pdc': 3186, 'sailun': 3677, 'transamerican': 4209, 'mutant': 2949, '265': 261, '70r17': 524, '115s': 51, 'puncture': 3355, 'pretensioner': 3295, 'inadvertently': 2325, 'retract': 3536, '23v626': 218, 'cells': 1123, 'onboard': 3074, 'scales': 3692, '24v443': 230, 'bcm': 873, 'disabled': 1539, '20v262': 173, 'functional': 1982, '20': 128, 'season': 3720, '22v': 200, '453': 410, 'monitoring': 2903, 'tpms': 4189, 'failing': 1839, 'warn': 4468, '138': 76, 'dump': 1611, '22v415': 201, 'audio': 809, '953': 585, 'seconds': 3729, 'multimedia': 2943, 'reboot': 3443, '305': 291, 'regulators': 3483, 'regulator': 3482, 'diaphragm': 1524, 'partially': 3167, 'blocks': 921, 'backup': 845, 'michelin': 2840, 'agilis': 676, 'climate': 1187, 'metric': 2815, '185': 114, '60r15c': 482, 'chunks': 1163, 'nrr': 3023, 'buzz': 1023, 'bench': 889, 'passengers': 3176, 'belts': 888, 'wheelchair': 4504, 'platform': 3239, 'deployed': 1493, '403': 377, 'tundra': 4258, 'moisture': 2897, '4135': 389, '4225': 393, '266deck': 262, 'retreat': 3540, '391fsrl': 356, '39fsrl': 363, 'residence': 3518, '401flft': 375, '401fsrl': 376, '40flft': 382, '40fsrl': 383, '26patio': 264, 'removable': 3499, 'step': 3975, 'delay': 1488, 'integrated': 2396, 'koito': 2551, 'bulb': 1005, 'socket': 3848, 'defective': 1467, 'burn': 1011, 'waltco': 4466, 'zs': 4624, 'mk2': 2877, 'gates': 2021, 'std': 3966, '2000': 130, '155': 89, '12v': 67, 'sli': 3832, 'slide': 3833, 'lubricated': 2696, 'seize': 3739, 'pla550': 3230, 'stabilizer': 3943, 'jacks': 2446, 'current': 1386, '24v': 228, '115': 50, 'cleaner': 1184, 'outlet': 3111, 'pipe': 3218, '23v801': 219, 'sync': 4061, 'beginning': 885, 'screens': 3704, '825': 564, 'displayed': 1554, 'secure': 3732, 'fastener': 1854, 'intermediate': 2410, 'cherokee': 1151, 'ackt271rk': 625, 'cracked': 1341, 'return': 3541, 'heartland': 2180, 'cyclone': 1409, 'mix': 2874, 'incompatible': 2333, 'coolants': 1303, 'debris': 1457, 'build': 1001, 'cooling': 1305, 'v90': 4345, 'v90cc': 4346, 'v60cc': 4341, 'outlaw': 3110, 'express': 1808, 'savana': 3687, 'valkyrie': 4351, 'length': 2599, 'attach': 798, 'small': 3839, 'q5': 3371, 'quattro': 3383, 'kzrv': 2558, 'durango': 1614, 'gold': 2072, 'seal': 3715, 'printed': 3308, 'lap': 2573, 'ready': 3439, 'momentum': 2901, '320g': 298, '325g': 302, '344m': 322, '250g': 238, '351ms': 329, '381ms': 344, '392m': 357, '395ms': 359, '397ths': 360, '398m': 361, '399th': 362, '410th': 387, '414m': 390, '415g': 391, 'haulers': 2160, 'vip': 4410, 'entertainer': 1725, 'separation': 3756, 'classification': 1180, 'campsite': 1060, 'reserve': 3515, 'solar': 3853, 'tensioner': 4113, 'kodiak': 2550, '2900fksp': 273, '308bhsl': 292, 'struts': 4006, 'fold': 1931, 'dainese': 1424, 'agv': 678, 'tourmodular': 4179, 'e2206': 1629, 'chin': 1158, 'dba': 1439, 'joyson': 2463, '756': 540, '25v': 249, '432': 400, '010': 6, 'inflators': 2358, 'brightdrop': 984, 'zevo': 4618, '400': 369, 'aspen': 780, 'apu': 753, 'int': 2392, 'sta': 3941, 'pwr': 3367, 'corrosion': 1318, 'challenger': 1137, 'defender': 1469, 'glaval': 2056, 'entourage': 1726, 'universal': 4301, 'instead': 2384, 'negative': 2980, 'stealth': 3968, 'xlr': 4587, 'accent': 613, 'lamp': 2568, 'hv': 2258, 'hx': 2266, 'emv': 1701, 'linkage': 2635, 'connects': 1271, 'wipers': 4523, 'esv': 1764, 'suburban': 4017, 'xl': 4585, '2l': 278, 'v8': 4344, 'origin': 3094, 'pulse': 3350, 'breather': 979, 'securely': 3734, 'busbars': 1017, 'header': 2174, 'dorel': 1578, 'juvenile': 2469, '1st': 127, 'grow': 2105, 'sprint': 3922, 'included': 2330, 'cc321gyu': 1110, 'cc321gyud': 1111, 'cc321gyy': 1112, 'cc321gyyd': 1113, 'cc321hao': 1114, 'cc321har': 1115, 'headrest': 2178, 'foam': 1929, 'pad': 3149, 'adequately': 646, 'pick': 3205, 'benchmark': 890, '42lft': 396, 'highland': 2203, 'ridge': 3562, 'play': 3240, 'labels': 2565, 'gawr': 2025, 'state': 3959, 'rim': 3566, '49': 415, 'cfr': 1130, 'detect': 1509, 'secondary': 3728, 'structures': 4004, 'bravado': 971, 'brc33dsf': 973, 'room': 3605, 'additionally': 644, 'retain': 3531, 'aurora': 811, 'coachmen': 1207, 'catalina': 1094, '573': 462, 'leveling': 2606, 'values': 4355, 'sr': 3932, '19': 120, 'states': 3961, 'lid': 2616, 'taillights': 4087, '580': 467, 'program': 3323, 'esp': 1759, 'pure': 3358, 'distributing': 1562, 'hawaii': 2162, 'mt': 2934, '09': 23, 'sp': 3876, '10': 26, 'xsr900': 4596, 'brushes': 993, 'tps': 4191, 'excessively': 1787, 'ecu': 1664, 'idling': 2290, 'xdrive': 4571, 'discs': 1547, 'transport': 4216, 'rs': 3624, 'detection': 1512, 'pods': 3250, 'fault': 1857, 'occupied': 3050, 'discoverer': 1545, 'stronghold': 4001, 'lt275': 2694, '65r18': 504, 'identification': 2285, 'tin': 4151, 'digit': 1529, 'week': 4491, 'mark': 2758, '574': 463, 'recordkeeping': 3457, 'ice': 2281, '2wd': 283, 'awd': 827, 'generation': 2037, 'motorcoaches': 2914, 'situation': 3819, 'maserati': 2764, 'granturismo': 2090, 'cascade': 1085, 'sandpiper': 3682, 'impression': 2315, 'pause': 3181, 'puma': 3351, 'vengeance': 4378, '23v': 216, '598': 473, 'reset': 3517, '597': 472, 'master': 2766, 'tray': 4224, 'rails': 3415, 'buckle': 996, 'terrain': 4120, 'volt': 4430, '48': 413, 'overheating': 3126, 'lfb': 2610, 'ieb': 2291, 'vcu': 4370, 'continue': 1287, 'accelerate': 609, 'engaged': 1717, 'zdx': 4615, 'detached': 1504, 'symbol': 4060, 'color': 1216, 'wall': 4465, 'thickness': 4133, 'morryde': 2909, 'stp57': 3986, '515': 435, '641': 496, 'brookstone': 990, 'bkf398mbl': 909, 'wastewater': 4476, 'holding': 2222, 'sewer': 3769, 'cabin': 1041, 'bcat154rbx': 871, 'chicco': 1154, 'myfit': 2955, 'zip': 4620, 'crs': 1364, '07079561970070': 21, '04079561190070': 15, 'configurations': 1260, 'chest': 1152, 'movement': 2926, '213': 177, 'sq6': 3926, 'q6': 3373, 'delayed': 1489, 'shifting': 3786, 'mclaren': 2787, 'mcclaren': 2785, '600lt': 480, '720s': 530, 'artura': 777, 'gts': 2117, 'locking': 2660, '23ml': 214, 'unloaded': 4304, 'uvw': 4334, 'ccc': 1116, 'blurry': 924, 'blades': 913, 'fairing': 1843, 'lowers': 2681, 'touring': 4178, 'cvo': 1397, 'forks': 1944, 'flhxu': 1916, 'flhx': 1914, 'fltrx': 1921, 'accessories': 616, 'obstruct': 3045, 'reflectors': 3472, 'white': 4507, 'marine': 2756, 'wrmg': 4541, 'tracker': 4196, 'trailstar': 4205, 'trl': 4238, 'topper': 4169, 'winch': 4514, 'strap': 3990, 'fray': 1958, 'contacting': 1276, 'crossbar': 1359, 'apex': 738, 'remote': 3497, 'cb300r': 1104, 'batteries': 863, 'create': 1350, 'aries': 763, 'lfp': 2611, 'packs': 3148, 'gran': 2087, 'bollinger': 936, 'b4': 833, 'energy': 1713, '10108': 31, '1633': 98, 'sq8': 3928, 'sedan': 3738, 'a7': 596, 'a8': 597, 'q7': 3374, 'q8': 3377, 'rs6': 3626, 'avant': 820, 'rs7': 3627, 'rsq8': 3630, 's7': 3666, 's8': 3667, 'allroad': 705, 'fhev': 1883, 'gtdi': 2115, 'misaligned': 2863, 'cup': 1384, 'rapid': 3423, '20v': 172, '636': 495, 'safe': 3673, 'temperature': 4109, 'threshold': 4139, 'higher': 2202, 'bridgestone': 981, 'r123': 3391, 'ecopia': 1662, '295': 275, '75r22': 542, 'ply': 3246, 'orientation': 3093, 'adv160': 659, 'scooters': 3700, 'driven': 1591, 'xr': 4594, 'damper': 1429, 'effort': 1673, 'owner': 3134, 'inaccurately': 2321, 'describes': 1498, 'outboard': 3106, 'restraints': 3528, '202': 151, 'supports': 4044, 'em2': 1696, 'vnr': 4427, 'lucid': 2697, 'weather': 4487, 'mats': 2772, 'anchors': 732, 'ending': 1711, '00': 0, 'trap': 4218, 'accelerator': 612, 'acceleration': 611, '220': 185, 'k270': 2504, 'k370': 2510, 'cradle': 1344, 'fully': 1979, 'charged': 1144, 'workstar': 4536, '7400': 533, 'functioning': 1983, 'voyage': 4435, 'inflation': 2356, 'axis': 829, 'chateau': 1148, 'winds': 4517, 'coleman': 1212, 'echelon': 1655, 'freedom': 1960, 'elite': 1689, 'geneva': 2042, 'quantum': 3379, 'vegas': 4372, 'eddie': 1665, 'bauer': 866, 'traveler': 4223, 'pasadena': 3172, 'magnitude': 2733, 'motion': 2910, 'cts': 1382, 'ats': 797, 'camaro': 1053, 'halogen': 2137, 'beams': 878, 'lpsdt': 2685, 'lpsgt': 2686, 'lpxdt': 2687, 'excavator': 1781, 'lemförder': 2598, 'track': 4194, 'arms': 769, '38526': 347, '01': 5, 'trw': 4246, 'jtc': 2464, '1619': 97, 'bush': 1019, 'sleeve': 3831, 'murano': 2947, 'pathfinder': 3179, 'qx60': 3389, 'cybertruck': 1403, 'bato': 862, '188': 117, 'diagnostic': 1521, 'trouble': 4240, 'dtc': 1607, 'falsely': 1848, '791': 550, 'defog': 1474, 'defrost': 1479, '199': 125, '255': 242, 'horizontal': 2234, '859': 569, '187': 116, 'machined': 2726, 'super': 4034, '151': 86, '342': 321, '267': 263, 'train': 4206, '507': 431, 'obstacle': 3044, 'direction': 1534, 'nightfall': 2997, 'genuine': 2043, 'hitches': 2213, 'normal': 3014, 'evdm': 1773, 'm50': 2716, 'antilock': 735, 'jump': 2466, 'comfort': 1226, 'ride': 3560, 'boost': 947, 'essential': 1761, 'magicsquad': 2729, 'refer': 3467, 'specific': 3887, 'facing': 1835, 'height': 2186, 'blizzak': 918, '40r19': 384, 'sidewalls': 3804, 'powerdrive': 3277, '7000': 517, 'drivetrains': 1598, 'colorado': 1217, '260rbc': 259, '270bhc': 267, '280bhc': 271, 'sunset': 4031, 'cord': 1308, 'surge': 4049, 'sentra': 3752, 'art26bhs': 773, 'conditioner': 1255, 'strands': 3989, 'exposed': 1805, 'inserts': 2374, 'ct6': 1376, 'ct4': 1374, 'ct5': 1375, 'internally': 2413, '500': 428, 'krt': 2554, 'edition': 1668, '40th': 385, 'anniversary': 733, 'z500': 4612, 'clutch': 1200, 'apart': 737, 'ineos': 2354, 'grenadier': 2097, 'button': 1022, 'application': 744, 'grease': 2092, 'latching': 2577, 'gpr': 2081, '300f': 287, '70r17m': 525, '54h': 451, 'causes': 1100, 'bulging': 1006, 'looseness': 2674, 'breaker': 977, 'tourrider': 4180, 'premium': 3289, 'transits': 4214, 'fixate': 1901, '1200': 59, 'red': 3460, 'tex': 4125, '14rb': 81, '14rd': 82, '16rb': 102, '16rd': 103, 'undersized': 4291, 'default': 1465, '330': 310, 'hpcm': 2245, '193': 121, '412': 388, '590': 471, 'half': 2136, '730': 532, 'circumstances': 1168, 'applying': 749, 'charger': 1145, 'ocdc': 3055, 'alternator': 711, 'disengage': 1548, 'xp': 4593, 'bounder': 955, 'flair': 1903, 'fortis': 1948, 'admiral': 657, 'invicta': 2424, 'vacationer': 4348, 'flex': 1912, 'eclipse': 1656, 'southwind': 3875, 'tip': 4152, 'fumes': 1980, 'ev9': 1770, 'gdu': 2027, '2009086': 138, 'holder': 2220, '680': 508, '580e': 468, 'textron': 4127, 'specialized': 3885, 'cushman': 1391, 'lsv': 2691, 'tour': 4176, 'liberty': 2614, 'reflect': 3468, 'serenova': 3759, 'outback': 3105, '330rl': 312, 'labeled': 2563, 'exiting': 1793, 'chain': 1134, 'acat35fme': 607, 'underrated': 4289, 'starcraft': 3952, 'allstar': 706, 'standing': 3950, 'aisle': 687, 'k2': 2487, 'l9': 2561, 'filter': 1891, 'sdrive30i': 3711, 'xdrive30i': 4573, 'single': 3817, '206': 164, 'locks': 2661, 'grecale': 2095, 'mc20': 2784, 'cielo': 1164, 'grancabrio': 2088, 'levante': 2604, 'ghibli': 2047, 'quattroporte': 3384, 'mc': 2783, 'cb650r': 1105, 'cbr650r': 1108, 'inability': 2318, 'gears': 2031, 'g80': 2008, 'gv80': 2126, 'gv70': 2125, 'electrified': 1685, 'casco': 1087, 'sensors': 3749, 'n108036': 2956, 'send': 3746, 'false': 1847, 'longer': 2669, 'expected': 1798, '2006': 134, '2007': 135, 'gemini': 2032, 'compass': 1237, 'washers': 4473, 'seltos': 3744, 'soul': 3867, 'piston': 3222, 'surfaces': 4048, 'ist22': 2436, '008': 4, 'suspensions': 4052, 'positions': 3267, 'logo': 2666, 'mirrors': 2861, 'esprinter': 1760, 'helical': 2188, 'drivetrain': 1597, '38': 342, 'overstress': 3133, 'reaches': 3434, 'accelerates': 610, '848': 567, 'stops': 3982, 'adjust': 651, 'rate': 3425, 'frequency': 1967, 'failed': 1838, '293': 274, 'columbus': 1219, 'trading': 4198, 'partners': 3170, 'ctp': 1380, 'cybex': 1404, 'aton': 795, 'sensorsafe': 3750, 'swivel': 4059, 'eos': 1732, 'libelle': 2613, 'beezy': 884, 'hip': 2211, 'hooks': 2231, '493': 417, 'torque': 4171, 'intentions': 2402, 'knee': 2544, 'cushion': 1390, 'unfold': 4294, 'starting': 3957, 'cold': 1211, 'navistar': 2970, 'terex': 4115, 'advance': 660, 'mixer': 2875, 'meritor': 2807, '23': 204, '810': 560, 'thrust': 4142, 'sienna': 3806, 'seatbacks': 3723, '225': 192, 'located': 2655, 'terberg': 4114, 'benschop': 894, 'ytxx3': 4609, '911': 581, 'electronics': 1688, 'creating': 1351, 'glare': 2054, 'oncoming': 3075, 'traffic': 4200, 'spokes': 3906, 'adjacent': 650, 'arteon': 774, 'q3': 3369, 'occur': 3051, 'winnie': 4521, '350s': 328, '501s': 430, 'gasgas': 2018, 'es': 1751, 'guide': 2121, 'solitude': 3860, 'joints': 2458, 'unsupported': 4315, 'zeekr': 4616, 'technology': 4104, 'rt': 3632, 'catch': 1096, 'fails': 1840, 'ows': 3136, 'misclassify': 2865, 'disable': 1538, 'providing': 3343, 'neck': 2978, 'rockport': 3591, 'work': 4533, 'install': 2380, 'omitted': 3071, 'lpc': 2683, 'shutters': 3799, 'nikola': 2998, 'tre': 4225, 'fcev': 1865, 'hydrogen': 2270, 'vantage': 4363, 'mobility': 2889, 'vm': 4421, 'conversion': 1296, 'trailing': 4204, 'mounts': 2924, 'chrome': 1161, 'grille': 2099, 'deflectors': 1473, 'attachments': 803, 'place': 3233, 'nx250': 3037, 'nx350': 3039, 'rx350': 3644, 'rx500': 3647, 'webbing': 4489, '209': 168, 'mud': 2940, 'dirt': 1537, 'builds': 1002, 'hino': 2210, 'sales': 3679, 'nh7a': 2992, 'nj7a': 3004, 'nj7b': 3005, 'nj7c': 3006, 'nv7a': 3033, 'nv7b': 3034, 'nv7c': 3035, 'fender': 1879, 'firefly': 1894, 'integrations': 2397, 'g12': 2001, 'multiplex': 2945, 'ecm': 1657, '130010113a': 70, '38xl': 352, 'plan': 3235, 'prevents': 3300, 'situations': 3820, 'notice': 3019, 'routing': 3611, 'traps': 4221, '3x': 366, 'xde60': 4570, 'xd35': 4567, 'xd40': 4568, 'xd60': 4569, 'brightness': 985, 'nhtsa': 2996, '480': 414, 'spiral': 3900, 'nx300': 3038, 'rx350l': 3645, 'xcs': 4565, 'heat': 2181, 'lists': 2643, 'injection': 2363, 'fi': 1884, 'touchscreen': 4175, 'console': 1272, 'alloy': 704, 'specified': 3890, 'lug': 2698, 'facia': 1834, 'starlite': 3953, 'easily': 1637, 'accessible': 615, 'aftermarket': 675, 'a000f675': 589, 'oversized': 3131, 'magnet': 2731, 'slowing': 3838, 'responsiveness': 3523, 'reservoir': 3516, 'ahara': 679, 'ventilated': 4381, 'directly': 1535, 'slideroom': 3834, 'degradation': 1482, 'd563027bx03': 1422, 'timken': 4150, 'tp1huba': 4187, 'december': 1459, '31': 294, 'threaded': 4137, 'accuride': 623, 'stressed': 3996, 'allows': 703, 'cracks': 1343, 'cabriolet': 1045, 'marked': 2759, 'stated': 3960, 'beneath': 893, 'pirelli': 3221, 'p7': 3140, 'cinturato': 1165, '245': 223, '45r18': 411, 'xe': 4578, 'trunk': 4245, 'discovery': 1546, 'adaptive': 640, 'cruise': 1366, 'pickup': 3206, 'secures': 3736, 'marion': 2757, 'mechanical': 2794, 'tilt': 4148, 'overextended': 3119, 'gkn': 2049, 'driveshafts': 1596, '2004': 132, 'bdc': 874, 'nivion': 3003, 'nsp01': 3024, 'adapters': 639, 'direct': 1533, 'dc': 1442, 'adapter': 638, 'status': 3964, 'disconnection': 1543, 'invision': 2425, 'burner': 1012, 'cooktops': 1301, 'db12': 1438, 'dbx707': 1441, 'obstructed': 3046, 'home': 2226, 'menu': 2804, 'metallarte': 2811, 'adhesion': 648, '212': 176, 'poor': 3258, 'horizon': 2233, 'reese': 3466, 'receiver': 3449, '7057030': 519, '7057230': 522, '7057033': 520, '7054630': 518, '7057130': 521, 'trievers': 4232, 'extenders': 1812, 'beavertail': 881, 'frames': 1957, 'requirement': 3510, 'fiesta': 1887, 'mkt': 2879, 'intermittently': 2411, 'f250': 1819, 'f350': 1822, 'f450': 1823, 'f550': 1825, 'f600': 1827, '650': 500, 'f750': 1828, 'biodiesel': 905, 'deposits': 1496, 'form': 1945, 'roller': 3599, 'sharp': 3775, 'edges': 1667, '214': 178, 'clamps': 1176, 'crimped': 1355, 'far': 1851, 'fsab': 1974, 'fluctuations': 1924, 'hlcm': 2216, 'fec52': 1871, 'fec72': 1872, 'fec92': 1874, 'diamondback': 1523, 'switchback': 4058, 'e450': 1631, 'station': 3963, 'camber': 1054, 'mounted': 2922, 'strike': 3997, 'c275d2re': 1032, 'generators': 2039, 'unsecured': 4313, 'leads': 2586, 'b6': 834, 'ra11741': 3402, 'ra11769': 3403, 'f3': 1821, 'ra': 3400, '11789': 53, 'ra00074': 3401, 'elbow': 1681, 'expand': 1796, 'featherlite': 1868, 'living': 2648, 'quarters': 3381, 'horse': 2236, '7821': 548, '7841': 549, '9807': 587, '9808': 588, 'copper': 1307, 'rpod': 3618, 'rpt197': 3619, 'rpt205': 3621, 'tanks': 4091, '2010': 140, '2011': 142, 'vnl': 4426, 'debond': 1456, 'illumination': 2304, 'adjustable': 652, 'received': 3448, 'interim': 2407, '633': 494, 'freight': 1964, 'kingpin': 2539, 'atp': 796, 'oec': 3062, 'technidot': 4103, 'tubing': 4255, 'dota04abk': 1580, 'dota04cbk': 1581, 'dota04dbk': 1582, 'sunlight': 4027, 'exposure': 1807, 'burst': 1014, '106': 38, 'burgman': 1010, 'an400am3': 728, 'm5': 2715, 'inducement': 2350, 'base': 858, 'prinx': 3309, 'chengshan': 1150, 'pctna': 3185, 'fortune': 1949, 'tormenta': 4170, 'hicountry': 2199, 'replacements': 3507, 'snow': 3847, 'perform': 3196, 'ec80': 1652, 'noise': 3012, 'commands': 1228, '2009': 137, 'georgetown': 2044, 'amber': 717, 'lens': 2600, 'intake': 2393, 'rai': 3413, 'vplep0543': 4436, 'clipper': 1189, 'viking': 4404, 'bottle': 952, 'mcneilus': 2788, 'atlantic': 793, 'zero': 4617, 'radius': 3412, 'agility': 677, 'cng': 1203, '10300466': 34, 'valves': 4357, '30i': 293, 'm40i': 2714, 'nx': 3036, 'prestone': 3294, 'gallon': 2014, 'bottles': 953, 'as402': 778, 'date': 1434, '2pw24226': 280, 'august': 810, '13': 68, 'dana': 1430, 'ifs': 2292, 'studs': 4009, 'wishbones': 4531, 'broken': 988, 'defrosting': 1481, '103': 33, 'defogging': 1476, 'securement': 3735, 'attachment': 802, 'points': 3252, 'locations': 2657, '389': 350, 't800': 4077, '20k': 170, 'steer': 3971, '16k': 101, '23k': 213, 'lubricant': 2695, 'pierce': 3209, 'enforcer': 1715, '765lt': 544, 'concord': 1252, 'nuna': 3030, 'baby': 837, 'essentials': 1762, 'rava': 3431, 'july': 2465, '16': 91, 'october': 3058, '25': 235, 'arcadia': 757, 'cougar': 1326, 'helux': 2191, 'boxes': 959, 'passport': 3178, 'central': 1126, 'cvpam': 1398, 'tailgates': 4085, 'drivers': 1594, 'pagani': 3151, 'utopia': 4333, 'crt40rde': 1365, 'fresh': 1968, 'recliner': 3456, 'backs': 843, 'elantra': 1680, 'developed': 1518, 'magnetek': 2732, 'converters': 1298, 'weakened': 4485, 'bypass': 1025, 'capacitor': 1069, 'breakdown': 976, 'leakage': 2589, 'wheelie': 4505, 'manually': 2749, 'oliver': 3069, 'ott': 3103, 'ii': 2297, 'truma': 4244, 'aqua': 754, '77000': 546, '90400': 579, 'misdirected': 2867, 'cruz': 1369, '540i': 448, 'artic': 775, 'britax': 986, 'one4life': 3076, 'slim': 3837, 'clicktight': 1186, 'e1d197a': 1625, 'e1d197b': 1626, 'e1d197f': 1627, 'e1d197g': 1628, 'user': 4325, '2001': 131, 'clk': 1191, 'cls': 1196, 'years': 4606, 'trail': 4201, 'king': 2538, 'tkht': 4159, 'ev6': 1768, 'iccu': 2280, 'limitless': 2625, 'dealer': 1453, 'filters': 1892, 's1000rr': 3650, 'm1000rr': 2703, 'hp4': 2244, 'race': 3404, '11427721779': 48, 'vibration': 4399, 'frequencies': 1966, 'revving': 3552, 'unscrew': 4311, 'riding': 3564, 'imagine': 2308, 'reflection': 3469, 'transcend': 4210, 'fittings': 1900, 'differential': 1526, '25fw': 246, 'warming': 4467, 'cbr600rr': 1107, '2008': 136, 'cbr1000rr': 1106, 'vfr1200': 4394, 'impellers': 2313, 'molded': 2898, 'fisker': 1897, 'ocean': 3056, 'selected': 3741, 'away': 826, 'cutaway': 1395, 'civic': 1170, 'hatchback': 2158, 'hr': 2246, 'integra': 2394, 'fr3': 1953, 'dynamax': 1620, 'isata': 2431, 'encore': 1705, 'mirada': 2857, 'pursuit': 3361, 'sportscoach': 3912, 'conditioners': 1256, 'soft': 3850, 'device': 1519, 'icm870': 2282, '16a': 99, 'bh5400': 898, 'hike': 2207, 'pass': 3173, 'diamond': 1522, 'mfg': 2821, 'pacesetter': 3144, 'ct': 1373, 'vandal': 4359, 'inserted': 2373, 'tcm': 4097, 'harsh': 2156, 'deceleration': 1458, 'lockup': 2662, 'overhead': 3123, 'sunshade': 4032, 'knob': 2545, 'recessed': 3452, 'partition': 3169, 'resistor': 3521, 'degrade': 1483, 'sightseer': 3808, 'itasca': 2438, 'sunova': 4028, 'forza': 1951, 'vista': 4417, 'sunstar': 4033, 'adventurer': 664, '2028': 161, 'suncruiser': 4025, 'solei': 3855, 'falken': 1844, 'wildpeak': 4511, 'at4w': 791, '275': 269, '60r20': 485, '115t': 52, 'produced': 3320, 'plies': 3242, 'identifies': 2286, 'generic': 2040, 'labeling': 2564, 'z7': 4613, 'straining': 3988, 'rdu': 3432, 'xdrive28i': 4572, 'm35i': 2712, 'plates': 3238, 'fsd': 1976, 'hubs': 2252, 'mk': 2876, 'c1': 1027, 'evo': 1776, '1202': 60, 'alta': 710, 'unprotected': 4308, 'vibe': 4398, 'cabinet': 1042, 'metropolitan': 2818, '39': 353, 'turning': 4265, 'costume': 1324, 'grade': 2085, 'shell': 3779, 'sportsmen': 3913, '303qbse': 289, 'euv': 1766, '21v': 183, 'nearly': 2975, '20bd': 169, '21mks': 181, '21rws': 182, '23bcs': 212, '24krs': 226, '250rds': 239, '250rks': 240, '25dvs': 244, '260krs': 258, 'f28rks': 1820, 'dash': 1432, 'esu': 1763, 'functions': 1984, 'restart': 3524, 'issue': 2435, 'lonestar': 2667, 'prostar': 3333, 'gl1800': 2051, 'goldwing': 2074, 'primary': 3304, 'beetle': 883, 'passat': 3174, 'frontal': 1971, 'explode': 1802, 'propellant': 3328, 'occurring': 3053, 'term': 4116, 'absolute': 603, 'humidity': 2253, 'temperatures': 4110, 'cycling': 1407, 'portofino': 3264, 'f8': 1829, 'spider': 3896, 'roma': 3602, '718': 529, 'cayman': 1103, 'gt4': 2111, 'spyder': 3925, 'separating': 3755, 'interface': 2405, 'tpasim': 4188, 'mph': 2930, 'greater': 2094, 'palomino': 3154, 'equalizer': 1745, 'manifold': 2747, 'provide': 3341, '15402': 88, '15845': 90, 'dropped': 1601, 'xt4': 4598, 'perforation': 3195, 'underside': 4290, 'inspire': 2378, 'rvs': 3642, 'newport': 2986, '27': 266, '29': 272, 'backlight': 840, 'pop': 3259, 'activating': 630, 'response': 3522, 'erg': 1749, 'manuals': 2750, 'vah': 4350, 'vhd': 4395, 'vnre': 4428, 'xvs': 4601, 'trx': 4247, 'provided': 3342, '22t023': 199, '109': 41, 'silver': 3813, 'shank': 3774, 'vast20w': 4367, 'ctl40w': 1379, 'cta40w': 1378, 'dolly': 1571, 's90i': 3669, 'screw': 3705, 'c500': 1036, 'w900': 4460, 'x15': 4546, 'barrels': 854, 'tl80': 4161, '112': 46, 'tl100': 4160, 'tm': 4163, 'jib': 2455, 'weak': 4483, 'vxt600g2': 4447, 'spoil': 3905, 'bonneville': 944, 't100': 4064, 't120': 4065, 'street': 3992, 'scrambler': 3702, 'sandstorm': 3683, 'goldline': 2073, 'parallel': 3162, 'preparation': 3290, 'siphon': 3818, 'mfsab': 2822, 'cl9': 1173, 'magellan': 2728, 'mid': 2846, 'tether': 4124, 'thread': 4136, 'engagement': 1718, 'stacker': 3944, 'tongue': 4166, 'glb': 2058, 'rimac': 3567, 'bugatti': 999, 'nevera': 2984, 'c19': 1030, 'm50i': 2717, 'fabric': 1831, 'suppliers': 4039, 'livewire': 2647, '50700141': 432, '50700142': 433, '50700143': 434, 'mulholland': 2941, 's2mh': 3655, 'grab': 2084, 'unsecure': 4312, 'gsx1300r': 2109, 'hayabusa': 2164, 'swell': 4056, 'contamination': 1285, 'blocked': 920, '122': 63, 'sequoia': 3758, 'orscheln': 3098, 'ec0226': 1650, '026': 12, 'ec0225': 1649, '025': 11, 'ec0203': 1648, '054': 18, 'k168135': 2481, 'k163400': 2474, 'k168122': 2476, 'k168123': 2477, 'k168128': 2479, 'k168129': 2480, 'k179860': 2483, 'k203871': 2488, 'k220313': 2499, 'k163402': 2475, 'k163124': 2473, 'k168136': 2482, 'k210927': 2489, 'k210928': 2490, 'k210929': 2491, 'k219871': 2496, 'k219872': 2497, 'k219874': 2498, 'k220316': 2500, 'k168124': 2478, 'k194487': 2485, 'k194492': 2486, 'k211945': 2492, 'k211946': 2493, 'k212554': 2494, 'k212555': 2495, 'k250369': 2501, 'k250374': 2502, 'k271500': 2505, 'k271501': 2506, 'dual': 1609, '5x8': 477, 'piece': 3207, 'tubeless': 4253, 'supplied': 4037, 'akw': 689, 'revisions': 3550, 'caused': 1099, 'lettering': 2603, 'read': 3437, 'typhoon': 4277, 'quest': 3385, 'crossmember': 1360, 'shroud': 3794, 'nexo': 2987, 'thermally': 4131, 'relief': 3493, 'tprd': 4190, 'aj20': 688, 'p6': 3139, 'similar': 3816, 'journey': 2462, 'brave': 972, 'intent': 2401, 'ellipse': 1693, 'meridian': 2806, 'tribute': 4229, 'smaller': 3840, 'luminous': 2700, 'fxrst': 1999, 'fxlrst': 1997, 'scorpion': 3701, 'metzeler': 2820, 'tourance': 4177, '70r18': 526, '70v': 528, 'irregular': 2430, 'wear': 4486, 'cat243rbsle': 1093, 'quality': 3378, 'space': 3877, 'saver': 3688, 'foldaway': 1932, 'reclined': 3455, 'overfill': 3120, 'network': 2982, 'communications': 1231, 'interrupted': 2415, 'limp': 2627, '124': 64, 'gearbox': 2030, 'difficulty': 1528, 'spark': 3881, 'qx80': 3390, 'avm': 825, 'xm': 4589, '740i': 534, '760i': 543, '750e': 539, 'ib': 2277, 'strikers': 3998, 'treated': 4227, 'sensing': 3747, 'sdm': 3709, 'immediately': 2309, 'disconnecting': 1542, 'royal': 3614, 'enfield': 1714, 'himalayan': 2209, 'classic': 1179, 'meteor': 2813, 'hunter': 2255, 'r18': 3393, 'deteriorate': 1515, '228i': 194, 'make': 2739, 'retainer': 3532, 'fxbb': 1995, 'bob': 932, 'fxlr': 1996, 'rider': 3561, 'vin': 4406, 'gawrs': 2026, 'ambient': 718, 'buick': 1000, 'envision': 1731, 'loading': 2654, 'edrive40': 1669, 'm60': 2719, 'xdrive40': 4574, 'edrive50': 1670, 'xdrive60': 4577, 'm70': 2721, 'requiring': 3512, 'tenneco': 4111, 'driv': 1589, 'moog': 2906, 'k500346': 2513, 'k500347': 2514, 'napa': 2962, '2601878': 256, '2601879': 257, 'flange': 1905, 'cooler': 1304, 'split': 3904, 'impairing': 2311, 'd103019bx03': 1412, 'dr7989': 1584, 'barrel': 853, '631058000': 490, '6310580px': 491, '559463000': 457, '559462500': 455, '5594630px': 458, '5594625px': 456, 'overhaul': 3122, '632445200rx': 492, '632445500rx': 493, 's580': 3661, 'camtronic': 1063, 'imperial': 2314, 'transposed': 4217, 'skid': 3824, 'corner': 1309, 'shrink': 3793, 'insulator': 2391, 'rpo': 3617, 'bnc': 927, 'hercules': 2193, 'trac': 4192, 'venture': 4383, '75r16': 541, 'miata': 2839, 'trans': 4208, 'tech': 4102, 'sst': 3937, 'cst': 1371, 'sstflr': 3938, 'cstflr': 1372, 'rolls': 3601, 'royce': 3615, 'spectre': 3891, 'jcw': 2449, 'hardtop': 2151, 'servomotor': 3764, 'smart': 3841, 'remotely': 3498, 'miscalculate': 2864, 'stopping': 3981, 'flhxse': 1915, 'fltrxse': 1922, 'fltrxstse': 1923, 'exposing': 1806, 'touch': 4174, 'radios': 3411, 'ctr': 1381, '3l': 365, 'generat': 2035, 'bisg': 907, 'sccm': 3693, 'siding': 3805, 'cle': 1181, 'mbux': 2782, 'applies': 746, 'glove': 2067, 'velar': 4375, 'field': 1886, 'nfsm': 2990, '3d': 364, 'surround': 4050, 'images': 2307, 'occurs': 3054, '310rl': 295, '340rl': 320, '370fb': 338, '375rd': 340, '380mp': 343, '382rk': 345, '385fl': 348, '395ds': 358, 'mis': 2862, 'engaging': 1719, 'detaches': 1505, 'webasto': 4488, 'heaters': 2183, 'specifications': 3889, 'prematurely': 3287, 'ge': 2028, 'ember': 1697, 'overland': 3127, 'tkhdg': 4158, 'paver': 3182, 'special': 3884, 'gooseneck': 2077, 'unloading': 4305, 'palladium': 3153, 'talavera': 4088, 'valor': 4353, '31t13': 297, 'bathroom': 861, 'interrupter': 2416, 'gfi': 2046, 'upfitted': 4319, 'aba': 599, 'integral': 2395, 'g63': 2005, 'visit': 4415, 'motorcars': 2913, '800v': 559, 'catalyst': 1095, 'zx5': 4628, 'sniper': 3846, 'efi': 1674, 'bodies': 934, 'r90062aap': 3399, 'r90062aah': 3398, 'speedometer': 3893, 'fsc': 1975, 'lane': 2571, 'alltrade': 707, 'tools': 4168, 'kilimanjaro': 2535, 'bike': 902, 'racks': 3406, 'costco': 1323, 'com': 1222, 'vw': 4445, 'id4': 2284, 'ktb': 2555, 'pv': 3364, 'crossmembers': 1361, 'appliances': 743, 'haier': 2133, 'office': 3065, 'ck7g': 1171, 'insulated': 2389, '7l': 553, 'nano': 2961, 'injectors': 2365, 'navico': 2967, 'progressive': 3325, 'rsm': 3629, 'psk': 3346, 'protectors': 3338, 'protector': 3337, 'mating': 2771, 'everest': 1775, 'ss': 3936, 'refrigerated': 3474, 'bracing': 961, 'outrigger': 3114, 'sbf325rl': 3689, 'wbf325rl': 4481, 'endera': 1710, 'refuse': 3478, 'oem': 3063, 'alamo': 690, 'morbark': 2907, 'eb1821': 1640, 'eb2131': 1642, 'eb2230': 1643, 'm20': 2707, 'pdm': 3187, 'reduction': 3464, 'regenerative': 3480, 'decreasing': 1463, 'hdl2': 2171, '11r24': 56, 'procontact': 3317, 'gx': 2128, 'ao': 736, '35r19': 330, 'buildup': 1003, 'kalmar': 2522, 'ottawa': 3104, 't2': 4067, '6x4': 515, 'northern': 3016, 'lite': 2644, 'pod': 3249, 'rpt203': 3620, 'microwave': 2845, 'countertop': 1328, 'gfci': 2045, 'protected': 3335, 'put39dbt': 3363, 'backwards': 846, 'craft': 1345, 'operate': 3082, 'jack': 2445, 'releasing': 3492, 'f53': 1824, 'damaging': 1428, 'cosmetic': 1322, 'adhered': 647, 'primer': 3306, 'powered': 3278, 'shore': 3789, 'sdrive28i': 3710, '528i': 438, '328i': 307, '328xi': 308, '40e': 381, '228xi': 195, '428i': 394, '428xi': 395, 'independent': 2344, 'brittle': 987, 'onan': 3073, 'vented': 4380, 'escaping': 1758, 'spl': 3902, 'storm': 3983, 'arrow': 772, 'happijac': 2148, 'option': 3090, 'kido': 2533, 'exo': 1795, 'c90': 1038, 'x06': 4543, 'xs': 4595, '2xl': 284, 'stay': 3965, 'fastened': 1853, 'rvmp': 3641, '8l': 573, 'gasoline': 2019, 'coating': 1209, 's2': 3651, 'del': 1485, 'mar': 2755, 'isolation': 2434, 'shutting': 3800, 'police': 3256, 'interceptor': 2403, 'pinion': 3214, 'chafing': 1133, 'knuckles': 2549, 'casting': 1091, 'automated': 814, 'ads': 658, 'versions': 4391, '14': 78, 'cases': 1089, 'cyclist': 1408, 'approaches': 750, 'ux300h': 4335, 'mg': 2824, 'fractured': 1955, '85647097': 568, 'trapped': 4219, 'mat': 2767, '540d': 447, '614': 486, 'recirculation': 3454, 'egr': 1676, 'soot': 3864, 'smoldering': 3842, 'particles': 3168, 'sonata': 3863, 'indicates': 2347, 'belted': 887, 'illegible': 2299, 'rods': 3595, 'usk': 4327, '13102e4737': 71, '13102e4738': 72, 'titan': 4155, 'acu': 636, 'doosan': 1577, 'bobcat': 933, 'pa185': 3141, 'c185wd0': 1029, 't4f': 4074, 'portable': 3262, 'pipes': 3219, 'accumulators': 620, 'ckt20': 1172, '0g': 24, 'allowed': 701, 'arctic': 760, 'reduce': 3461, 'ariya': 764, 'misdiagnose': 2866, 'unlatched': 4302, 'minotour': 2856, 'drw': 1603, 'srw': 3935, 'texas': 4126, 'tj': 4157, '5000': 429, '6500': 501, '9000': 578, 'fewer': 1881, 'recirculating': 3453, 'balls': 850, 'slack': 3830, 'adjustor': 656, 'gulf': 2122, 'gst': 2107, 'cruiser': 1367, 'gr86': 2083, 'prius': 3312, 'added': 642, 'epas': 1734, 'eyelet': 1818, '221': 188, 'fc4z': 1862, '3280': 305, 'fa': 1830, 'ha': 2131, 'pg25': 3201, 'vcw': 4371, 'xcient': 4561, 'pitman': 3223, 'prologue': 3326, 'dl800de': 1567, 'breaking': 978, 'thermo': 4132, 'na': 2957, '518': 436, '011': 7, '495': 418, 'hvh100': 2261, 'hvh70': 2263, 'hvh50': 2262, 'w24ftb': 4452, 'w24mb': 4453, 'inadequately': 2324, 'pacific': 3145, 'brand': 968, 'couplers': 1334, '000': 1, 'pounds': 3275, 'veloster': 4377, 'g70': 2007, 'kona': 2552, 'xt': 4597, 'basket': 860, '32rls': 309, 'treatment': 4228, 'fleet': 1910, '812': 561, 'byd': 1024, '374': 339, 'rated': 3426, 'spike': 3897, '245ml': 224, '24l0f': 227, '260thloft': 260, '360thloft': 332, '2005': 133, '41': 386, 'bridging': 982, 'steep': 3970, '404': 378, 'installations': 2382, 'dongguan': 1574, 'biaoming': 899, 'nacs': 2960, 'ccs': 1117, 'jeco041': 2450, 'jecoev': 2451, 'amazon': 716, 'aligned': 696, 'collide': 1213, 'potentially': 3273, 'carparts': 1079, 'mh': 2825, 'mhd730145': 2826, 'mhd730146': 2827, 'mhg730125': 2829, 'mhg730126': 2830, 'mhh730117': 2831, 'mhh730118': 2832, 'mhj730143': 2833, 'mhj730144': 2834, 'mhk100169': 2835, 'mhk100170': 2836, 'mhn100189': 2837, 'mhn100190': 2838, 'sufficiently': 4022, 'composolite': 1244, 'exs20': 1809, 'steerable': 3972, 's2c': 3652, 's2rv': 3656, 'detected': 1510, 'hvil': 2264, '324i': 300, '325i': 303, '325xi': 304, '330xi': 314, '335i': 316, '335xi': 317, 'sportswagon': 3915, '335d': 315, 'bc1200xl': 868, 'brush': 992, 'chippers': 1160, 'mainframe': 2736, 'bms': 925, 'arboc': 755, 'composilite': 1243, 'bubbles': 994, 'obscure': 3043, 'bonded': 942, 'backer': 838, '750': 537, 'constantly': 1274, 'conceal': 1251, '350h': 327, 'removed': 3500, 'powerstop': 3281, 'braided': 964, 'document': 1569, 'covert': 1338, 'x07': 4544, 'ihu': 2296, 'alarm': 691, 'sounds': 3870, 'hatch': 2157, 'link': 2634, 'sea': 3714, 'supplier': 4038, 'testing': 4123, 'terminals': 4118, 'deformed': 1478, '5e': 474, 'f59': 1826, '195': 124, 'earlier': 1635, 'arow': 770, 'mv210': 2952, 'ambulance': 719, 'orlando': 3097, 'revo': 3551, 'outriggers': 3115, 'm56': 2718, 'm35': 2711, 'q50': 3372, 'q70': 3375, 'q70l': 3376, 'tx350': 4273, 'tx500': 4274, 'tx550': 4275, 'unroll': 4310, 'outside': 3116, 'xt5': 4599, 'xt6': 4600, 'assoc': 787, 'value': 4354, 'weaken': 4484, 'lion': 2637, 'lionc': 2638, 'lost': 2677, 'ce': 1118, 'tears': 4101, 'hendrickson': 2192, 'sail': 3676, 'applique': 747, 'ongoing': 3077, 'campaign': 1058, '93e': 583, '040': 14, 'sofa': 3849, 'corrective': 1314, 'sent': 3751, 'dealers': 1454, 'southeast': 3874, 'distributors': 1564, 'entrans': 1729, 'polar': 3253, 'arjh': 765, 'tracked': 4195, 'downshift': 1583, 'regardless': 3479, 'rotary': 3607, 'omni': 3072, 'radar': 3407, 'frontview': 1973, 'laser': 2574, 'welding': 4495, 'expose': 1804, '2024070005': 157, 'squeezing': 3931, 'enable': 1702, 'trigger': 4233, 'mvp': 2953, 'prodigy': 3318, 'mpv': 2931, 'restraining': 3526, 'barrier': 855, 'reinforcing': 3487, 'drag': 1585, 'separated': 3754, 'shield': 3782, 'protects': 3339, 'tranquility': 4207, 'sanctuary': 3681, 'shutdown': 3796, 'sportage': 3909, 'mando': 2746, 'mdps': 2792, 'rfcvhsc': 3553, 'inaccessible': 2319, 'le': 2584, 'blackout': 911, 'mcu': 2789, 'font': 1934, 'multiple': 2944, 'stuck': 4007, 'clips': 1190, 'procedure': 3315, 'seated': 3724, 'g9': 2009, 'controlling': 1293, 'kuat': 2557, 'innovations': 2369, 'transfer': 4212, 'v2': 4336, 'bicycle': 900, 'cams': 1062, 'disengaged': 1549, 'overcurrent': 3118, 'pulled': 3349, 'holders': 2221, '02': 10, '77': 545, 'a6b': 595, '236': 211, 'kit': 2540, 'contains': 1281, 'headliner': 2177, 'protect': 3334, 'cabs': 1046, 'rainier': 3416, 'host': 2240, 'mammoth': 2744, 'hankook': 2147, 'kinergy': 2537, '60r18h': 484, 'h436': 2130, 'decrease': 1460, 'shepphard': 3781, '3875726': 349, 'refrigerator': 3476, '046': 16, 'vicinity': 4401, 'vi33': 4396, 'vi35': 4397, '304': 290, 'container': 1280, 'tripac': 4235, '800908': 558, 'april': 751, 'lx600': 2701, 'v35a': 4337, 'contaminate': 1283, 'driverge': 1593, 'depressed': 1497, 'furukawa': 1986, '847': 566, 'stellantis': 3974, '24e': 225, 'clock': 1192, 'springs': 3921, 'karma': 2524, 'revero': 3544, '6s': 514, '6l': 512, 'vcm': 4369, 'associate': 788, 'rondak': 3603, 'c10m': 1028, 'k7m': 2515, 'k8m': 2516, 'k9m': 2518, 'k9s': 2520, 'k9md': 2519, 'k11m': 2472, 'unbelted': 4287, 'protocol': 3340, 'apim': 739, 'electromagnetic': 1686, 'interference': 2406, 'phone': 3204, 'inactive': 2322, 'ignitors': 2295, 'c43': 1035, 'kovatch': 2553, 'mobile': 2887, 'supplies': 4040, 'fired': 1893, 'match': 2768, 'nexxpro': 2989, 'fabrica': 1832, 'capacetes': 1068, 'nexx': 2988, 'g10': 2000, 'extra': 1816, 'layer': 2579, 'edv': 1671, 'st': 3939, 'hackney': 2132, 'ste': 3967, 'kidron': 2534, '2200': 186, 'apollo': 740, 'vredestein': 4437, 'hitrac': 2214, 'quatrac': 3382, 'cambria': 1055, 'bc900xl': 870, 'chipper': 1159, 'turtle': 4267, 'odyssey': 3061, 'vinyl': 4409, 'linoleum': 2636, 'objects': 3042, 'boot': 949, 'sporadically': 3907, 'independence': 2343, 'overfilled': 3121, 'armrest': 768, 'sbus': 3690, 'intellipark': 2399, 'pvm': 3366, 'eb1922': 1641, 'necessary': 2977, '58': 466, 'square': 3929, 'psi': 3345, 'boxster': 960, 'attaches': 800, 'sdrive40i': 3712, 'xdrive40i': 4575, 'm60i': 2720, 'xdrive50e': 4576, 'alpina': 708, 'xb7': 4553, 'illuminating': 2303, 'alr': 709, 'elr': 1695, 'braunability': 970, 'safetbus': 3674, 'nab20c': 2958, 'nab20d': 2959, 'indicate': 2346, 'crimping': 1356, 'spur': 3924, 'hummer': 2254, 'ridgeline': 3563, 'rvc': 3640, 'shuttle': 3801, 'afco': 670, 'legend': 2597, 'flh': 1913, 'loaded': 2652, 'ach4': 624, '325': 301, 'p3': 3138, '312': 296, 'placards': 3232, 'venue': 4384, 'k266604r000': 2503, 'k189349': 2484, 'k273523r000': 2508, 'k273520r000': 2507, 'mesa': 2808, 'tt': 4248, 'xlt': 4588, 'fw': 1994, 'roamer': 3590, 'silverstar': 3815, '22ml': 198, '26rd': 265, '29rl': 277, '33rks': 318, '37mbr': 341, '38dbl': 351, 'cvt': 1399, 'rm': 3579, '78': 547, '11': 42, 'taillight': 4086, 'positioned': 3266, 'exceeding': 1784, 'bond': 941, 'exist': 1791, 'bucher': 995, 'municipal': 2946, 'johnston': 2456, 'vt651': 4442, 'vt652': 4443, 'vs651': 4438, 'vs652': 4439, 'vt801': 4444, 'vs802': 4440, 'v65t': 4343, 'mirco': 2859, 'hydroboost': 2269, 'ml': 2882, 'gl': 2050, 'details': 1508, 'm235i': 2708, '320i': 299, 'm3': 2710, '328d': 306, '435i': 401, '200': 129, 'rocky': 3593, 'mountain': 2921, 'atv': 806, 'rmatv': 3585, 'tusk': 4268, '2track': 282, '70b': 523, 'cured': 1385, 'sections': 3730, 'g622': 2004, 'rsd': 3628, '70r19': 527, 'endeavor': 1708, 'remco': 3495, '54': 444, 'rebel': 3442, 'gpm': 2080, 'bcat154rdx': 872, 'bart15rdx': 857, 'isolates': 2433, 'vmux': 4423, 'hc1': 2167, 'deflector': 1472, 'directs': 1536, 'setra': 3766, 's417': 3658, '407': 379, 'cc': 1109, 'ricon': 3559, 'beacon': 875, 'tws': 4271, 'cardinal': 1075, 'wildcat': 4510, 'dx3': 1619, 'dynaquest': 1622, 'ibex': 2278, 'europa': 1765, 'nobo': 3009, 'shockwave': 3788, 'spencer': 3895, 'pumper': 3353, 'ls500': 2689, 'executive': 1788, 'ocs': 3057, 'dislodge': 1551, 'zr900c': 4621, 'zr900e': 4622, 'zr900n': 4623, 'z900rs': 4614, 'cafe': 1048, 'utilize': 4331, 'conventional': 1295, 'scoops': 3699, 'vm1pz': 4422, '16c630': 100, 'scoop': 3698, 'orv': 3099, 'titanium': 4156, 'company7': 1235, '40cldl': 380, '401cldl': 374, 'dutchmen': 1615, '421loft': 392, 'crossroads': 1362, 'hampton': 2139, '390pvl': 355, 'hi': 2197, '20ss': 171, '253rb': 241, '258rd': 243, '272bh': 268, '330si': 313, 'shade': 3771, 'senator': 3745, 'eldorado': 1682, 'advantage': 662, 'candidate': 1064, '2034': 162, 'elkhart': 1692, 'elkc': 1691, 'leave': 2592, 'dbx': 1440, 'sc20': 3691, 'journals': 2461, 'outlets': 3112, 'propeller': 3329, 'watson': 4478, 'chalin': 1136, 'sl2065': 3827, '000lb': 2, 'a4': 592, 'a3': 591, 'roadster': 3588, 'rs5': 3625, 'ods': 3060, 'message': 2809, 'forte': 1947, '25gn': 247, '25ph': 248, '3xgn': 367, '3xph': 368, 'lin': 2628, 'gateway': 2022, 'leaking': 2590, 'sector': 3731, 'teeth': 4106, 'montana': 2905, 'country': 1329, 'loft': 2664, 'elk': 1690, 'corterra': 1320, 'fork': 1943, 'gravity': 2091, 'mallard': 2743, 'sundance': 4026, 'milestone': 2851, 'pioneer': 3217, 'prowler': 3344, 'eberspaecher': 1646, 'cntrl': 1204, 'syst': 4062, 'intl': 2417, 'gmbh': 2070, 'eberspacher': 1645, 'hydronic': 2271, 'hl2': 2215, 'january': 2448, 'deenergizing': 1464, 'arch': 758, 'legacy': 2596, 'cut': 1394, 'e350': 1630, 'backlighted': 841, 'knobs': 2546, 'r1300': 3392, '444': 404, '361': 333, '362': 334, 'snap': 3843, 'zx400s': 4627, 'zx400p': 4626, '4rr': 423, '4r': 422, 'wgh': 4502, 'attack': 804, 'ranges': 3422, '365': 335, 'stalk': 3946, 'eberspächer': 1647, '870012': 572, '4s': 424, 's2dm': 3654, 'cg33503': 1131, 'backside': 844, 'prism': 3311, 'prc24mb': 3284, 'pads': 3150, 'worn': 4540, 'crushman': 1368, 'configuration': 1259, 'cracking': 1342, 'puncturing': 3356, 'hc': 2166, 'pinch': 3213, 'molds': 2900, 'hay': 2163, 'flaws': 1909, 'levers': 2608, '23039400': 206, '23039401': 207, '23039402': 208, '1334100': 73, '23028901': 205, '01331401': 8, 'liter': 2645, 'v6': 4339, 'turbocharged': 4261, 'turbocharger': 4262, 'jumper': 2467, 'opposite': 3088, 'limousines': 2626, 'j5': 2444, 'shown': 3792, 'signs': 3812, 'grommet': 2100, 'passing': 3177, 'metallic': 2812, 'k900': 2517, 'stinger': 3978, 'filled': 1889, 'refrigerant': 3473, 'solis': 3859, 'motorhome': 2917, 'lavatory': 2578, 'faraday': 1852, 'future': 1991, 'eco': 1658, 'ff': 1882, '91': 580, 'airbag': 685, '1250rt': 65, '1600gt': 94, '1600gtl': 95, '1600b': 93, 'proportional': 3332, '443': 403, '542': 449, 'pretensioners': 3296, 'restrain': 3525, 'lcf': 2583, 'mobileye': 2888, 'seams': 3719, 'manufacturer': 2752, 'sub': 4011, 'muted': 2950, 'pws': 3368, 'versa': 4389, 'supervisory': 4035, 'vsc': 4441, 'initiate': 2362, 'thresholds': 4140, 'exceeded': 1783, 'pleasant': 3241, 'valley': 4352, 'teardrop': 4100, 'nucamp': 3027, 'cirrus': 1169, '620': 488, '820': 563, 'upgrade': 4320, 'vnj1z': 4425, '6163812': 487, 'boundaries': 954, 'ceiling': 1121, 'occurred': 3052, 'lifts': 2619, 'heritage': 2194, 'quarter': 3380, 't440': 4071, 't660': 4075, 't370': 4069, 't470': 4072, 't800b': 4078, 'fcm': 1866, 'aeb': 666, 'mirai': 2858, 'ls500h': 2690, 'es250': 1752, 'es300h': 1753, 'es350': 1754, 'lc500': 2580, 'lc500h': 2581, 'couple': 1332, 'manufacuring': 2754, 'saber': 3670, 'carrera': 1081, 'targa': 4092, 'early': 1636, '175bh': 105, '177rd': 107, '178rb': 108, '179rb': 109, '181bh': 113, '1700fq': 104, '1760': 106, 'fq': 1952, '1800bh': 111, '1810bh': 112, '1860ss': 115, '2010bh': 141, 'halcore': 2134, 'horton': 2237, 'sanibel': 3684, 'snf3550': 3844, 'snf3902wb': 3845, 'ne7a': 2972, 'ne7b': 2973, 'nh9a': 2993, 'nh9b': 2994, 'nh9c': 2995, 'nm9a': 3007, 'nm9b': 3008, 'th9k': 4128, 'tm9k': 4164, 'telematics': 4107, 'c300': 1033, 's580e': 3662, 's680': 3665, 'sl43': 3828, 'amgsl63': 725, 'glc300': 2060, 'eqe350': 1740, 'eqe500': 1741, 'eqs450': 1743, 'eqs580': 1744, 's500': 3660, 'sl55': 3829, 'c63e': 1037, 'cle300': 1182, 'cle450': 1183, 'fuses': 1988, 'gle350': 2062, 'gle450': 2063, 'gle53': 2064, 'binding': 904, 'trident': 4230, 'tiger': 4145, 'threads': 4138, 'strip': 3999, 'haldex': 2135, 'inversion': 2419, '9718990020': 586, 'rkn28032': 3577, 'jetta': 2454, 'gli': 2065, 'sportwagen': 3916, 'gp': 2078, 'problem': 3314, 'suction': 4018, 'jet': 2453, 'evaporative': 1772, 'emissions': 1700, 'evap': 1771, 'charcoal': 1142, 'canister': 1065, 'harbor': 2149, 'kenway': 2527, '64275': 497, 'upc': 4316, '193175352965': 122, 'submersible': 4015, '64362': 499, '792363643620': 552, '64361': 498, '792363643610': 551, 'aisin': 686, 'world': 4537, '865': 571, '064': 19, 'aeil': 667, 'hyundia': 2273, 'hole': 2223, 'micrometric': 2844, 'petroleum': 3200, 'powerline': 3280, 'rg15': 3555, 'ug15': 4285, 'carb': 1073, 'compliant': 1240, 'sets': 3767, '69rg15': 510, '120w': 61, '69ug15': 511, '050s': 17, '068s': 20, '080s': 22, 'doc': 1568, 'bc1800xl': 869, 'weldment': 4496, 'sheppard': 3780, 'supporting': 4043, 'rotate': 3608, '26': 255, 'cls450': 1197, 'e53': 1633, 'gt43': 2112, 'gt53': 2113, 'cls53': 1198, 'hanger': 2146, 'maintaining': 2737, '369': 337, 'bezel': 897, 'd4000': 1413, 'd4005': 1414, 'd4500': 1415, 'd4505': 1416, 'california': 1051, 'enc': 1703, 'xhf': 4584, 'arrivo': 771, '8r': 574, 'rivets': 3574, 'counter': 1327, 'worldwide': 4538, 'lllp': 2650, 'ingusa': 2361, 'asme': 779, 'serial': 3760, 'stream': 3991, 'boss': 951, '160fk': 96, 'distortion': 1561, 'insight': 2376, 'suppress': 4045, 'drain': 1586, 'enclosure': 1704, 'spacing': 3879, 'parameters': 3163, '136': 75, 'k3': 2509, 'foreign': 1940, 'ratios': 3428, 'lean': 2591, 'needed': 2979, 'galleria': 2013, 'optima': 3089, 'tc55': 4096, 'hrx50': 2247, 'hrx55': 2248, 'boom': 946, 'rotation': 3609, 'mekra': 2799, 'lang': 2572, 'residue': 3519, 'resistance': 3520, 'flare': 1907, 'self': 3743, '44': 402, 'instability': 2379, 'rescue': 3514, 'aerial': 668, 'rpm': 3616, 'wilson': 4513, '211': 175, 'grain': 2086, 'loosened': 2673, 'torqued': 4172, 'maxi': 2775, 'lode': 2663, 'ahv45': 680, 'prestige': 3293, 'ahv50': 681, '2s2m': 281, '4s2m': 425, 'worm': 4539, 'blind': 916, 'spot': 3917, 'carnival': 1078, 'disconnects': 1544, 'msd': 2933, 'mislabeled': 2868, 'morgan': 2908, 'mmc': 2885, '400029': 372, 'ev600': 1769, 'cem': 1124, '4900': 416, '6900': 509, 'pl': 3225, 'customs': 1393, 'alexis': 695, 'apparatus': 741, 'arff': 762, 'draw': 1587, 'mickey': 2842, 'nqr': 3022, '5500': 453, 'l6': 2559, 'md': 2790, 'refrigeration': 3475, 'tru': 4241, 'braun': 969, 'northwest': 3018, 'northstar': 3017, 'mm300': 2884, 'concrete': 1253, 'drum': 1602, 'mistakenly': 2871, 'cake': 1049, 'emission': 1699, 'kalk': 2521, 'ink': 2366, 'roadside': 3587, 'despite': 1502, 'having': 2161, 'pawl': 3183, 'focus': 1930, '18b': 118, 'transcontinental': 4211, 'reflector': 3471, 'artificial': 776, 'powering': 3279, 'fans': 1850, 'style': 4010, 'old': 3068, 'dominion': 1573, 'dcl1000se25': 1443, 'dcl800sm30': 1447, 'dcl800sm25': 1446, 'dcl800sm20': 1445, 'dcl800tm30': 1450, 'dcl800tm25': 1449, 'dcl800tm20': 1448, 'dcl750': 1444, 'yoke': 4607, 'shear': 3777, 'xn35': 4590, 'xn40': 4591, 'xn60': 4592, 'verano': 4386, 'cruze': 1370, 'expansion': 1797, '674': 507, 'm254': 2709, 'forming': 1946, 'carefree': 1076, 'freestyle': 1962, '015933': 9, 'releases': 3491, 'inspected': 2377, 'dealership': 1455, '384': 346, 'avalon': 819, 'rx450h': 3646, 'seatback': 3722, 'hool': 2232, 'cx45': 1402, 'hd94p': 2169, 'm100p': 2704, 'hd94s': 2170, 'm110p': 2705, 'm83p': 2722, 'md83': 2791, 'sd110p': 3708, 'xd120p': 4566, 'ilx': 2305, 'rlx': 3578, 'clarity': 1177, 'nsx': 3025, 'ryker': 3648, 'impeller': 2312, 'cnc321dsf': 1202, '4x4²': 426, 'squared': 3930, 'roadway': 3589, 'vins': 4408, 'cla': 1174, '930': 582, 'ignite': 2293, 'carpet': 1080, 'fibers': 1885, 'various': 4366, 'industrial': 2351, '220v': 187, '240v': 222, 'setting': 3768, 'incapable': 2326, 'compact': 1233, 'bulkhead': 1007, 'hubbell': 2251, 'wirecon': 4526, 'scd': 3694, 'duplex': 1613, 'receptacles': 3451, 'wdru15wt': 4482, 'blade': 912, 'openings': 3081, 'narrow': 2963, 'wider': 4509, 'receptacle': 3450, 'faces': 1833}\n"
     ]
    }
   ],
   "source": [
    "print(recall_vectorizer.vocabulary_)"
   ]
  },
  {
   "cell_type": "code",
   "execution_count": 14,
   "id": "44077d8b",
   "metadata": {},
   "outputs": [
    {
     "name": "stdout",
     "output_type": "stream",
     "text": [
      "Index(['Unnamed: 0', 'Report Received Date', 'NHTSA ID', 'Recall Link',\n",
      "       'Manufacturer', 'Subject', 'Mfr Campaign Number',\n",
      "       'Potentially Affected', 'Recall Description', 'Consequence Summary',\n",
      "       'Corrective Action', 'Park Outside Advisory', 'Do Not Drive Advisory',\n",
      "       'Stock Abbreviation', 'fuzzy_company', 'ticker', 'open', 'close',\n",
      "       'market_cap', 'eps', 'full_name', 'Original_Component',\n",
      "       'RECALL_TYPE__Child Seat', 'RECALL_TYPE__Equipment',\n",
      "       'RECALL_TYPE__Tire', 'RECALL_TYPE__Vehicle', 'COMPONENT_TYPE__AIR BAGS',\n",
      "       'COMPONENT_TYPE__BACK OVER PREVENTION', 'COMPONENT_TYPE__CHILD SEAT',\n",
      "       'COMPONENT_TYPE__COMMUNICATION', 'COMPONENT_TYPE__ELECTRICAL SYSTEM',\n",
      "       'COMPONENT_TYPE__ELECTRONIC STABILITY CONTROL (ESC)',\n",
      "       'COMPONENT_TYPE__ENGINE AND ENGINE COOLING',\n",
      "       'COMPONENT_TYPE__EQUIPMENT',\n",
      "       'COMPONENT_TYPE__EQUIPMENT ADAPTIVE/MOBILITY',\n",
      "       'COMPONENT_TYPE__EXTERIOR LIGHTING',\n",
      "       'COMPONENT_TYPE__FORWARD COLLISION AVOIDANCE',\n",
      "       'COMPONENT_TYPE__FUEL SYSTEM, DIESEL',\n",
      "       'COMPONENT_TYPE__FUEL SYSTEM, GASOLINE',\n",
      "       'COMPONENT_TYPE__FUEL SYSTEM, OTHER', 'COMPONENT_TYPE__LANE DEPARTURE',\n",
      "       'COMPONENT_TYPE__LATCHES/LOCKS/LINKAGES',\n",
      "       'COMPONENT_TYPE__PARKING BRAKE', 'COMPONENT_TYPE__POWER TRAIN',\n",
      "       'COMPONENT_TYPE__SEAT BELTS', 'COMPONENT_TYPE__SEATS',\n",
      "       'COMPONENT_TYPE__SERVICE BRAKES, AIR',\n",
      "       'COMPONENT_TYPE__SERVICE BRAKES, ELECTRIC',\n",
      "       'COMPONENT_TYPE__SERVICE BRAKES, HYDRAULIC',\n",
      "       'COMPONENT_TYPE__SERVICE BRAKES, HYDRAULIC; AUTOHOLD BRAKE SYSTEM/BRAKE HOLD',\n",
      "       'COMPONENT_TYPE__STEERING', 'COMPONENT_TYPE__STRUCTURE',\n",
      "       'COMPONENT_TYPE__SUSPENSION', 'COMPONENT_TYPE__TIRES',\n",
      "       'COMPONENT_TYPE__TRAILER HITCHES',\n",
      "       'COMPONENT_TYPE__VEHICLE SPEED CONTROL', 'COMPONENT_TYPE__VISIBILITY',\n",
      "       'COMPONENT_TYPE__WHEELS'],\n",
      "      dtype='object')\n"
     ]
    },
    {
     "data": {
      "text/plain": [
       "58"
      ]
     },
     "execution_count": 14,
     "metadata": {},
     "output_type": "execute_result"
    }
   ],
   "source": [
    "print(df.columns)\n",
    "len(df.columns)"
   ]
  },
  {
   "cell_type": "markdown",
   "id": "51a404cc",
   "metadata": {},
   "source": [
    "#### Corrective Action BOW"
   ]
  },
  {
   "cell_type": "code",
   "execution_count": 15,
   "id": "e58af942",
   "metadata": {},
   "outputs": [
    {
     "data": {
      "text/plain": [
       "0       Dealers will inspect and replace both front dr...\n",
       "1       Owners are advised not to use Level 3 quick ch...\n",
       "2       Owners are advised not to use the POT function...\n",
       "3       The remedy is currently under development. Own...\n",
       "4       Medix will replace the covers, free of charge....\n",
       "                              ...                        \n",
       "1525    Owners are advised not to use the 220V/240V co...\n",
       "1526    Owners are advised not to use the 220V/240V co...\n",
       "1527    Dealers will add additional mechanical fastene...\n",
       "1528    Dealers will replace the battery cable, free o...\n",
       "1529    Hubbell Incorporated will replace the receptac...\n",
       "Name: Corrective Action, Length: 1530, dtype: object"
      ]
     },
     "execution_count": 15,
     "metadata": {},
     "output_type": "execute_result"
    }
   ],
   "source": [
    "df[\"Corrective Action\"]"
   ]
  },
  {
   "cell_type": "code",
   "execution_count": 16,
   "id": "c293bd9c",
   "metadata": {},
   "outputs": [],
   "source": [
    "corrective_action_vectorizer = CountVectorizer(\n",
    "    input='content',    \n",
    "    stop_words='english',\n",
    "    analyzer='word',\n",
    "    decode_error='ignore'\n",
    ")"
   ]
  },
  {
   "cell_type": "code",
   "execution_count": 17,
   "id": "a3c75027",
   "metadata": {},
   "outputs": [],
   "source": [
    "X_corrective_action = corrective_action_vectorizer.fit_transform(df[\"Corrective Action\"])"
   ]
  },
  {
   "cell_type": "code",
   "execution_count": 18,
   "id": "326cd9e8",
   "metadata": {},
   "outputs": [
    {
     "name": "stdout",
     "output_type": "stream",
     "text": [
      "{'dealers': 2012, 'inspect': 2476, 'replace': 3222, 'driveshaft': 2083, 'assemblies': 1608, 'necessary': 2852, 'free': 2262, 'charge': 1825, 'owner': 2935, 'notification': 2879, 'letters': 2607, 'expected': 2162, 'mailed': 2663, 'november': 2886, '16': 159, '2025': 330, 'owners': 2936, 'contact': 1893, 'toyota': 3635, 'customer': 1979, 'service': 3410, '800': 1311, '331': 856, '4331': 963, 'numbers': 2889, 'recall': 3168, '25tb11': 766, '25ta11': 762, 'advised': 1527, 'use': 3694, 'level': 2608, 'quick': 3101, 'charging': 1826, 'remedy': 3211, 'completed': 1872, 'update': 3687, 'battery': 1655, 'software': 3460, 'interim': 2497, 'notifying': 2883, 'safety': 3334, 'risk': 3270, 'october': 2897, '24': 429, 'second': 3393, 'notice': 2878, 'sent': 3406, 'available': 1630, 'nissan': 2866, '867': 1371, '7669': 1286, 'number': 2888, 'r25c8': 3135, 'vehicle': 3717, 'identification': 2431, 'vins': 3734, 'involved': 2506, 'searchable': 3389, 'nhtsa': 2864, 'gov': 2310, 'beginning': 1667, 'pot': 3044, 'function': 2276, 'repair': 3218, 'drive': 2078, 'units': 3685, '18': 205, 'volvo': 3747, '458': 996, '1552': 153, 'r10342': 3113, 'currently': 1973, 'development': 2035, 'tmc': 3623, '877': 1379, '855': 1361, '2867': 813, 'rc000331': 3158, 'medix': 2711, 'covers': 1924, '13': 132, 'specialty': 3478, '574': 1103, '266': 783, '0911': 83, 'wiring': 3800, 'harness': 2359, 'blower': 1688, 'motor': 2760, 'resistor': 3238, 'additional': 1518, 'final': 2220, 'anticipated': 1564, 'december': 2016, 'kia': 2540, '333': 861, '4542': 992, 'sc351': 3374, 'reroute': 3233, 'lines': 2626, 'international': 2501, '448': 982, '7825': 1299, '25518': 626, '25517': 625, 'rearview': 3164, 'camera': 1783, '21': 361, 'land': 2582, 'rover': 3290, '637': 1149, '6837': 1198, 'd053': 1992, 'engine': 2126, 'starter': 3505, 'includes': 2453, 'vehicles': 3718, 'repaired': 3219, '24v576': 589, 'need': 2854, '17': 168, 'bmw': 1693, '525': 1062, '7417': 1261, 'cables': 1760, 'power': 3046, 'distribution': 2059, 'box': 1709, 'windshield': 3794, 'wiper': 3797, 'module': 2749, '25516': 624, '25515': 623, '10': 87, 'chevrolet': 1831, '222': 379, '1020': 93, 'gm': 2305, 'n252527170': 2830, 'seat': 3390, 'belts': 1669, 'audi': 1620, '253': 606, '2834': 809, 'volkswagen': 3743, '893': 1392, '5298': 1069, '69um': 1217, '694t': 1207, 'september': 3408, '26': 774, 'tighten': 3610, 'screw': 3380, 'connections': 1889, 'high': 2387, 'pressure': 3052, 'fuel': 2274, 'pump': 3085, 'affected': 1529, '23hd': 407, 'park': 2948, 'outside': 2930, 'away': 1635, 'structures': 3527, 'complete': 1871, 'informing': 2466, 'scheduled': 3377, '14': 137, 'receive': 3171, 'parts': 2951, 'brake': 1714, 'interlock': 2498, 'blue': 1690, 'bird': 1680, '478': 1019, '822': 1332, '2242': 384, 'r25ds': 3139, 'porsche': 3036, '767': 1287, '7243': 1242, 'asa9': 1606, 'avoid': 1633, '75': 1273, 'capacity': 1789, 'explaining': 2165, 'mci': 2703, '241': 439, '2947': 821, 'new': 2856, 'flyer': 2245, 'heater': 2375, 'electrical': 2108, 'connectors': 1891, 'manufacturer': 2676, 'provided': 3079, 'schedule': 3376, 'isuzu': 2511, '866': 1370, '441': 975, '9638': 1465, 'v2504': 3702, 'performed': 2982, 'junction': 2529, 'remove': 3217, 'ground': 2320, 'wire': 3798, 'models': 2746, 'equipped': 2139, 'standard': 3503, 'duty': 2092, 'radiator': 3144, 'fan': 2196, 'motors': 2763, 'install': 2482, 'auxiliary': 1628, 'jumper': 2528, 'repairs': 3220, '25': 595, 'ford': 2251, '436': 966, '7332': 1256, '22s36': 391, '22s48': 392, '23': 396, 'steering': 3512, 'column': 1862, 'upper': 3690, 'shaft': 3418, '25s94': 753, 'wabash': 3763, 'replaced': 3223, 'rear': 3163, 'impact': 2447, 'guards': 2324, 'trailers': 3644, 'august': 1622, '765': 1285, '771': 1291, '5404': 1079, 'molding': 2751, 'genesis': 2295, '844': 1352, '340': 867, '9741': 1474, 'hyundai': 2425, '028g': 43, '20': 293, 'tires': 3619, 'tire': 3618, 'placard': 3010, 'certification': 1817, 'label': 2576, 'recalibrate': 3167, 'additionally': 1519, 'coupler': 1918, 'cover': 1921, 'march': 2680, '2026': 344, '25s95': 754, 'trailer': 3643, 'body': 1698, 'input': 2472, 'output': 2927, 'trucks': 3659, '528': 1066, '6586': 1177, 'rvxx2507': 3329, 'door': 2066, 'latch': 2585, 'cable': 1759, 'pivot': 3006, 'clip': 1847, 'rvxx2508': 3330, 'correct': 1911, 'tank': 3571, 'cadillac': 1762, '4223': 950, 'gmc': 2306, '462': 1000, '8782': 1380, 'n252512770': 2827, 'reading': 3160, 'hitch': 2392, '610': 1129, '775': 1295, '3301': 855, 'belt': 1668, 'retractors': 3247, 'refer': 3183, '23v821': 427, 'fca': 2202, '24v413': 587, 'information': 2465, '853': 1359, '1403': 138, 'zf': 3820, '734': 1257, '416': 943, '6200': 1135, 'adjustment': 1524, 'bolts': 1702, 'align': 1542, 'wheels': 3784, '371': 899, '9460': 1456, '284': 810, 'quarter': 3099, 'polestar': 3033, '806': 1318, '2504': 600, 'rp1069': 3304, 'replaces': 3225, 'previous': 3057, 'recalls': 3170, '24v477': 588, '25v280': 772, 'previously': 3058, 'manufacturers': 2677, 'determine': 2033, 'appropriate': 1575, 'respective': 3239, 'phone': 2991, 'boarding': 1695, 'ladder': 2580, 'yamaha': 3816, '962': 1464, '7926': 1304, '001': 3, 'oev': 2900, 'field': 2215, 'hazard': 2363, 'light': 2620, '31': 832, '688': 1202, '5223': 1060, 'src': 3498, '07': 69, 'pillar': 2996, 'trim': 3654, '22': 375, '25s91': 752, '30': 824, 'amp': 1555, '50': 1042, 'inlet': 2469, '19': 254, 'forest': 2253, 'river': 3272, '825': 1335, '0856': 79, '53': 1070, '1974': 289, 'frame': 2260, 'dvusa': 2093, '762': 1282, '8267': 1337, 'vvs3laengst': 3761, 'apply': 1573, 'adhesive': 1521, 'port': 3037, 'assembly': 1609, '282': 806, 'passengers': 2954, 'insert': 2473, 'firmly': 2222, 'buckle': 1730, 'direct': 2049, 'motion': 2758, 'pulling': 3083, 'confirm': 1884, 'fully': 2275, 'secured': 3397, '283': 808, 'dtna': 2087, '547': 1088, '0712': 71, 'd25r2': 1994, 'f1023': 2191, 'mechanism': 2710, 'signs': 3440, 'rod': 3279, 'eye': 2173, 'ring': 3267, 'delamination': 2024, 'micro': 2722, '819': 1327, '477': 1018, '2012': 302, '114': 120, 'uus': 3697, '116': 122, 'rus': 3308, 'ruc': 3307, 'ktm': 2571, 'husqvarna': 2418, 'throttle': 3605, 'control': 1897, '888': 1388, '985': 1478, '6090': 1128, 'mounting': 2766, '25s90': 751, 'villa': 3732, 'work': 3801, 'missing': 2733, 'weld': 3776, 'pedestal': 2977, '15': 147, '707': 1224, '7272': 1249, 'instrument': 2488, 'panel': 2945, 'non': 2872, 'phev': 2989, '27': 789, '25tb08': 765, '25ta08': 761, 'lexus': 2613, '25lb05': 671, '25la05': 669, 'ebcm': 2099, 'updated': 3688, 'dealer': 2011, 'air': 1536, 'ota': 2920, 'n252515340': 2829, 'turn': 3676, 'signals': 3438, 'aprilia': 1577, '212': 365, '380': 908, '4400': 974, 'triple': 3655, 'clamp': 1841, 'harley': 2358, 'davidson': 2008, '258': 629, '2464': 460, '0190': 29, 'car': 1791, 'r10340': 3112, 'support': 3550, 'bracket': 1712, 'began': 1666, '2006': 298, 'spartan': 3474, '517': 1054, '543': 1084, '6400': 1154, 'rivian': 3274, 'released': 3203, '748': 1267, '4261': 955, 'fsam': 2270, '1744': 186, 'latches': 2587, '25010': 598, 'left': 2600, 'handlebar': 2351, 'switch': 3561, 'january': 2517, 'honda': 2402, '784': 1301, '1870': 236, 'ks8': 2569, '12': 125, 'reprogram': 3229, 'eps': 2135, '234': 400, '2138': 368, 'gms': 2307, '11': 112, 'reinforcement': 3195, 'channel': 1823, 'hvac': 2419, 'ecu': 2102, 'compressor': 1877, '25tb07': 764, '25ta07': 760, '25lb04': 670, '25la04': 668, 'subaru': 3532, 'wrd': 3809, '29': 817, '25s89': 750, 'expands': 2160, '25v270': 771, 'chamber': 1821, 'components': 1874, '06': 60, 'wheel': 3782, 'axle': 1637, 'ducati': 2089, '391': 916, '5446': 1086, 'srv': 3500, 'rcl': 3159, '002': 4, 'axles': 1638, 'april': 1576, 'keystone': 2537, '425': 953, '4369': 968, 'notify': 2882, 'department': 2025, 'questions': 3100, 'display': 2057, 'kenworth': 2534, '828': 1338, '5888': 1111, 'paccar': 2939, '25pacg': 673, 'bcm': 1658, 'mazda': 2696, '5500': 1092, 'option': 2914, '78251': 1300, 'report': 3227, 'suggests': 3538, 'aware': 1634, 'issue': 2510, 'business': 1740, 'days': 2009, 'filing': 2217, 'reminded': 3212, 'federal': 2208, 'law': 2590, 'agency': 1533, 'notified': 2881, 'defect': 2019, 'noncompliance': 2873, 'decisions': 2017, '49': 1033, 'cfr': 1818, '573': 1102, 'significant': 3439, 'civil': 1839, 'penalties': 2978, 'assessed': 1610, 'violation': 3735, 'reverse': 3252, 'hoist': 2395, '28': 803, 'hiab': 2386, '330': 854, '630': 1144, '7755': 1296, 'bms': 1692, 'fuse': 2280, 'block': 1687, 'holder': 2397, 'rev': 3251, '509': 1049, '3417': 868, '250829rev': 602, 'tuff': 3672, '360': 891, '3767': 905, '24e': 476, '019': 28, 'transmission': 3650, '115': 121, 'eus': 2148, 'tie': 3608, 'bolt': 1701, '42e7': 959, 'vinfast': 3733, 'adas': 1513, '833': 1344, '503': 1047, '0600': 62, 'goodyear': 2309, '321': 841, '2136': 367, 'midwest': 2726, 'reinforce': 3194, 'hose': 2409, 'reel': 3182, 'plate': 3015, '344': 872, '2059': 351, 'vermeer': 3724, '829': 1340, '0051': 9, 'ext': 2167, '7060': 1223, 'ik4732': 2442, 'seal': 3383, 'leaks': 2598, 'detected': 2030, 'hood': 2403, 'wing': 3795, 'bumper': 1735, 'screws': 3381, 'rp1064': 3303, 'management': 2669, 'saab': 3331, '955': 1463, '9007': 1396, 'nova': 2884, 'bus': 1737, 'hoses': 2410, '450': 984, '472': 1011, '6410': 1157, 'cr5752': 1951, 'recalled': 3169, '18v117': 253, 'red': 3178, 'window': 3792, 'operating': 2911, 'hardware': 2357, 'exit': 2158, 'sticker': 3515, 'inventory': 2502, '260': 775, '593': 1117, '4000': 932, '1970': 287, '2425': 441, '70': 1218, '1957': 282, '281': 805, 'tcs': 3576, 'provide': 3078, 'instructions': 2487, 'inspecting': 2478, 'installing': 2485, 'corrected': 1912, 'labels': 2577, '248': 462, '489': 1031, '7090': 1226, 'sub': 3531, 'sc349': 3373, 'brackets': 1713, 'hvdb': 2420, 'strap': 3520, 'joint': 2522, 'voltage': 3745, 'pack': 2940, '1723': 173, 'seams': 3388, 'corrosion': 1915, '25c43': 660, 'jounce': 2524, 'adjust': 1522, 'damage': 1998, 'present': 3051, '25s87': 748, '000': 1, 'miles': 2728, 'perform': 2980, 'functional': 2277, 'check': 1828, '25c42': 659, 'mail': 2662, 'add': 1514, 'emergency': 2115, 'egress': 2104, 'windows': 3793, 'protective': 3075, 'shields': 3425, '25c41': 658, 'shafts': 3419, '228': 388, '3203': 840, 'canada': 1787, 'cluster': 1852, '25s88': 749, 'disconnect': 2054, 'cap': 1788, 'mark': 2682, 'tracer': 3639, '264': 781, '6664': 1186, '504': 1048, '1968': 285, 'rewire': 3256, 'breakaway': 1718, 'located': 2637, 'lots': 2648, '642': 1158, '8942': 1393, '1966': 284, 'shield': 3423, 'divert': 2061, 'spilled': 3481, 'atc': 1614, 'maxxsonics': 2695, 'usb': 3693, 'speakers': 3475, 'inspected': 2477, '2440': 444, '342': 869, 'wind': 3791, 'laces': 2579, 'hold': 2396, 'ensure': 2127, 'mm': 2737, 'terminal': 3589, 'clearance': 1845, '25513': 622, 'coupling': 1920, 'mbusa': 2697, '367': 895, '6372': 1150, 'aston': 1613, 'martin': 2687, 'esp': 2143, '923': 1429, '9988': 1489, 'ra': 3140, '2074': 353, 'increase': 2458, 'oil': 2902, 'redesigned': 3179, 'dipstick': 2047, 'triumph': 3656, '678': 1193, '854': 1360, '2010': 301, 'sran': 3497, '640': 1153, 'reimbursement': 3193, 'sumitomo': 3539, '845': 1353, '8378': 1347, 'heil': 2379, 'stabilizing': 3502, 'clamps': 1842, 'hydraulic': 2422, 'tubes': 3670, '275': 798, '4345': 965, 'afl': 1531, 'arm': 1595, 'july': 2526, '2023': 308, 'cng': 1854, 'automatic': 1627, 'shutoff': 3433, 'solenoid': 3463, '2024': 309, 'parking': 2949, '25511': 621, 'oversteer': 2934, 'guidance': 2326, 'feature': 2205, 'disabled': 2050, 'rvxx2506': 3328, 'led': 2599, 'driver': 2080, 'modules': 2750, '25c39': 657, 'ddm': 2010, 'passenger': 2953, 'pdm': 2974, '25c36': 654, 'emitting': 2116, 'diode': 2046, '25c37': 655, 'right': 3264, 'lower': 2650, '25c35': 653, '25c38': 656, 'abs': 1500, 'calibration': 1767, '25s81': 745, 'phases': 2988, 'fourth': 2258, '25s82': 746, '23v896': 428, 'suspension': 3557, 'knuckles': 2552, 'retaining': 3244, 'knuckle': 2551, 'd019': 1988, 'n759': 2831, 'd041': 1991, 'd027': 1990, '24v840': 590, 'headlights': 2368, '2025090005': 343, '25s83': 747, 'suzuki': 3559, 'headlight': 2367, '934': 1439, '0934': 84, '3a06': 928, '3a07': 929, '647': 1164, '7261': 1246, 'r25c3': 3134, 'mmna': 2740, 'liftgate': 2619, 'gas': 2285, 'springs': 3491, '648': 1165, '7820': 1298, 'sr': 3494, 'retainer': 3243, 'secondary': 3394, 'tension': 3585, 'grand': 2312, 'design': 2029, '9679': 1467, 'm910051': 2659, 'silicone': 3441, 'black': 1682, 'letter': 2605, '25510': 620, '23v398': 424, '25509': 618, '23v397': 423, 'holley': 2400, 'using': 3695, 'methanol': 2718, 'pumps': 3086, 'anticipate': 1563, 'ethanol': 2146, '638': 1151, '0032': 6, 'relocate': 3207, 'hsa': 2414, 'valve': 3708, 'exhaust': 2156, '25508': 617, 'batteries': 1654, 'extensions': 2170, 'winnebago': 3796, '641': 1156, '585': 1109, '6939': 1206, '537': 1075, '1885': 244, '200': 294, 'bendix': 1670, 'chambers': 1822, '247': 461, '2725': 794, 'premier': 3050, 'hub': 2415, 'seals': 3387, 'february': 2207, '565': 1098, '2244': 385, 'sc347': 3372, 'sc346': 3371, 'backrest': 1641, 'asa7': 1605, 'cr5746': 1950, 'tesla': 3592, '798': 1308, '3752': 904, 'sb': 3341, '009': 12, 'lock': 2639, 'winch': 3790, 'grech': 2315, '951': 1458, '8347': 1345, 'audio': 1621, '25c31': 651, 'ebb': 2098, '25s77': 743, 'entrada': 2128, 'forester': 2254, 'solera': 3464, 'sunseeker': 3543, '206': 352, '7600': 1280, 'leprechaun': 2604, 'freelander': 2264, '8602': 1365, '51': 1050, '1955': 281, '25s78': 744, 'cta': 1965, '799': 1309, '2168': 370, 'electronic': 2109, 'unit': 3684, '25c33': 652, 'n252511300': 2826, '280': 804, 'ferrari': 2210, 'plastic': 3014, 'spacer': 3470, 'supply': 3549, 'footrest': 2249, '201': 300, '816': 1325, '2668': 784, 'rc': 3152, '92': 1426, 'electric': 2107, 'route': 3288, '199': 290, 'rosenbauer': 3286, '651': 1169, '1000': 88, '027g': 42, 'prevost': 3059, 'entrance': 2129, '870': 1374, '2046': 348, 'sr25': 3496, 'bag': 1642, 'jaguar': 2516, '452': 986, '4827': 1028, 'h552': 2344, 'specific': 3479, 'cell': 1811, 'reinstall': 3198, 'asa6': 1604, 'separate': 3407, 'cooktop': 1902, 'furnace': 2278, '5280': 1067, '5220': 1059, 'cam0000043': 1781, 'expansion': 2161, '25v029': 768, 'amo': 1554, 'shackle': 3415, 'nuts': 2893, '419': 946, '269': 788, '1560': 154, 'peragon': 2979, 'carriage': 1800, 'rail': 3147, 'cab': 1758, 'pins': 2998, 'steel': 3510, 'sliders': 3451, 'replacement': 3224, '473': 1012, '7246': 1243, 'panoramic': 2947, 'glass': 2302, 'sunroof': 3542, 'rp1060': 3300, '25s76': 742, '22v': 394, '859': 1363, '24v187': 586, '25v165': 770, 'remedied': 3209, 'malibu': 2668, 'boats': 1696, '865': 1369, '5478': 1089, 'lp': 2651, '862': 1367, '1025': 94, '48': 1022, '1954': 280, 'infotainment': 2467, 'connection': 1888, 'vs2garpin': 3749, 'mfta': 2719, 'epb': 2134, 'actuator': 1509, 'addition': 1517, 'dragging': 2073, '711': 1229, '0707': 70, 'c10138': 1748, 'fasteners': 2199, 'carbon': 1792, 'monoxide': 2755, 'detectors': 2032, 'bontrager': 1704, '768': 1288, '7932': 1305, 'motiv': 2759, 'worked': 3802, 'energy': 2122, 'packs': 2941, '650': 1168, '4804': 1024, 'inline': 2470, 'bay': 1657, 'connector': 1890, 'rp1063': 3302, 'cylinder': 1986, 'head': 2365, 'serial': 3409, '25s62': 731, 'n945': 2841, 'reweld': 3255, 'joints': 2523, 'gear': 2291, 'chassis': 1827, 'om2': 2905, '20v769': 359, 'ride': 3259, 'motorcycles': 2762, 'metal': 2717, 'crankshaft': 1958, 'bushing': 1739, 'eligible': 2112, 'operation': 2912, 'abnormality': 1498, 'holding': 2399, 'crank': 1956, 'case': 1803, 'tightened': 3611, 'proper': 3071, 'torque': 3626, 'properly': 3072, 'kmc': 2546, '802': 1314, '9381': 1442, 'shyft': 3434, 'signal': 3437, 'converter': 1900, 'connecters': 1886, '237': 404, '7806': 1297, '25s75': 741, 'idler': 2434, 'brp': 1727, '272': 793, '9222': 1428, 'bulletin': 1734, 'calipers': 1769, 'pedal': 2975, 'rp1061': 3301, '42hx': 960, 'fitting': 2226, 'tico': 3607, '843': 1351, '536': 1074, '8139': 1324, 'feed': 2209, 'tls': 3622, 'correctly': 1914, 'sized': 3445, 'washer': 3769, '05': 53, 'infiniti': 2463, '662': 1182, 'r25a8': 3132, 'a9': 1494, 'r25b1': 3133, 'b2': 1639, 'ep': 2132, 'tyre': 3680, 'refund': 3188, '62': 1133, '876': 1378, '5105': 1052, 'integrated': 2493, '25s73': 739, 'dynamics': 2095, '25s74': 740, 'secure': 3396, 'june': 2530, 'mc25': 2700, '25s72': 738, '23s56': 412, '23v687': 426, 'struts': 3529, '40lf': 940, 'bowlus': 1708, 'supplement': 3547, 'manual': 2672, 'com': 1863, 'rerouted': 3234, 'compressed': 1876, 'natural': 2848, 'line': 2625, 'f1021': 2190, 'oshkosh': 2919, 'defense': 2021, 'sun': 3541, 'visor': 3737, 'shock': 3428, 'warning': 3767, '304': 828, '8100': 1321, 'ngdv_tsb_040': 2863, 'bags': 1643, '25s51': 721, '25s71': 737, 'operator': 2913, 'great': 2314, 'dane': 2002, '369': 896, '3493': 881, 'ks4': 2568, 'rrab': 3305, '988': 1480, '7267': 1248, 'n252513060': 2828, 'vcu': 3715, 'peterbilt': 2985, '940': 1453, '591': 1115, '4220': 949, '25pacf': 672, '25507': 616, '23v282': 421, 'anti': 1562, 'abrasive': 1499, 'tape': 3573, 'existing': 2157, 'n252503010': 2824, 'mode': 2744, 'plug': 3018, 'hybrid': 2421, 'pure': 3089, 'r10329': 3111, 'computer': 1878, 'controller': 1898, 'damaged': 1999, 'loose': 2647, 'dielectric': 2042, 'f1020': 2189, 'placement': 3012, '471': 1009, 'gate': 2287, 'leg': 2601, '470': 1008, 'dot': 2070, 'helmets': 2381, '817': 1326, '0497': 52, 'sc342': 3370, 'exterior': 2171, 'transit': 3649, '534': 1072, '3167': 837, '69': 1203, '1945': 278, 'self': 3400, 'tapping': 3574, 'griddle': 2316, 'shelf': 3421, 'notifications': 2880, '499': 1039, '2100': 363, '1943': 277, 'chains': 1820, '8519': 1357, '220': 376, '1941': 276, 'circuit': 1837, 'protector': 3076, 'monitor': 2752, 'child': 1833, 'anchor': 1559, '373': 901, '6614': 1181, 'wrc': 3808, 'vanguard': 3711, 'pintle': 2999, 'hook': 2404, '3008': 827, 'ecm': 2101, 'hcu': 2364, 'pcu': 2959, 'late': 2588, 'summer': 3540, '7725f': 1293, 'entry': 2131, 'steps': 3514, 'mudflaps': 2769, 'compartment': 1870, '322': 842, '8216': 1331, '250618rev': 601, 'centers': 1814, '003': 5, '7625f': 1283, 'appliques': 1572, 'division': 2062, 'bars': 1650, '25s66': 735, 'powertrain': 3049, 'pcm': 2957, 'board': 1694, 'diagnostic': 2037, 'sobdmc': 3457, '2021': 305, 'mustang': 2776, 'mach': 2660, '25s65': 734, 'element': 2111, 'cord': 1907, 'replacing': 3226, 'alternative': 1548, 'threaded': 3604, 'blanking': 1684, 'coupled': 1917, '25s52': 722, '25c26': 648, '25c28': 650, 'fords': 2252, '25c23': 646, 'coolant': 1903, '25s63': 732, '25s64': 733, 'stating': 3507, '25c27': 649, 'connecting': 1887, 'rods': 3280, 'long': 2644, '25s55': 725, '25c25': 647, 'row': 3291, 'bezel': 1674, '25s67': 736, '0189': 26, 'flx': 2244, 'xly': 3814, 'assistance': 1612, '467': 1005, '9700': 1470, 'n242482680': 2813, '23v266': 419, '1693': 165, 'sealing': 3386, 'caps': 1790, '2025060005': 341, 'digital': 2045, 'firmware': 2223, 'cr5732': 1949, 'tethered': 3596, 'pin': 2997, 'strut': 3528, 'chare': 1824, '1935': 274, 'indicator': 2460, 'clips': 1848, '25c17': 641, 'shut': 3432, 'quickly': 3102, 'possible': 3042, 'hear': 2371, 'unexpected': 3683, 'noises': 2871, 'reduction': 3181, 'smoke': 3452, '25s54': 724, '0188': 25, 'included': 2452, '23v591': 425, 'rvxx2505': 3327, 'modify': 2748, 'roof': 3283, 'lining': 2627, 'avas': 1631, '2025070005': 342, 'center': 1813, 'pd152': 2972, 'pma48': 3027, 'insulation': 2490, '992': 1486, '9906': 1485, 'ca': 1757, '10817': 105, 'dsc': 2086, '7425e': 1262, 'inspection': 2479, 'installation': 2483, 'bring': 1724, '279': 802, '25s61': 730, 'caliper': 1768, 'pads': 2943, '25s60': 729, 'anchorage': 1560, '1681': 164, 'ivi': 2514, 'mitsubishi': 2734, '23v345': 422, 'nut': 2892, 'battle': 1656, '546': 1087, '2537': 607, 'custom': 1978, 'truck': 3658, 'weldon': 3778, '712': 1231, '2963': 823, 'akron': 1538, 'brass': 1716, '1161': 123, '04': 46, 'remount': 3214, 'freshwater': 2267, 'alliance': 1544, '218': 372, '7165': 1235, 'piping': 3002, '25pbe': 678, 'barrel': 1647, '620': 1134, '3361': 864, '551': 1093, '1934': 273, '1931': 272, 'multi': 2771, 'purpose': 3090, 'mirror': 2732, '2025060001': 340, 'orange': 2915, 'ev': 2149, 'elbow': 2106, 'crankcase': 1957, 'ks2': 2567, 'sas': 3340, 'improved': 2450, '7525e': 1276, 'video': 3730, 'n252500680': 2823, 'equipment': 2138, 'listed': 2633, 'pdc': 2973, 'sc341': 3369, 'sailun': 3335, '9696': 1469, 'retractor': 3246, 'date': 2006, 'codes': 1858, '25s31': 706, '24v': 585, '099': 86, 'did': 2041, '25s58': 728, '25s57': 727, '25s53': 723, '25s56': 726, 'ball': 1645, '24s76': 561, '24v949': 592, '25c20': 644, 'testing': 3594, 'east': 2097, 'manufacturing': 2678, '405': 935, '3278': 851, '25c19': 643, '25c18': 642, 'multimedia': 2772, '25c21': 645, 'regulators': 3191, '91sb': 1424, 'taillight': 3568, 'michelin': 2720, '971': 1471, '3801': 910, 'inverter': 2504, 'v2503': 3701, 'width': 3786, 'seats': 3392, '72lc': 1251, 'dash': 2003, 'decu': 2018, '25506': 615, 'harnesses': 2360, '24tb06': 579, '24ta06': 568, '468': 1006, '23s48': 411, '23v': 418, '598': 1120, 'accessory': 1505, 'protocol': 3077, 'interface': 2496, 'apim': 1567, '25s49': 720, '196': 283, 'c10135': 1747, 'lift': 2618, 'main': 2664, 'boxes': 1710, '2025050003': 339, 'cleaner': 1844, 'outlet': 2924, 'pipe': 3000, '25s47': 718, '25c15': 639, 'sync': 3564, '25c14': 638, '25c16': 640, 'fastener': 2198, '25s45': 716, 'intermediate': 2499, '25s46': 717, 'verify': 3723, '25s48': 719, '1927': 269, 'return': 3249, '25s44': 715, 'heartland': 2373, '262': 778, '8032': 1316, 'locks': 2642, '24s15': 521, '189': 247, 'subframe': 3534, '25s43': 714, 'cooling': 1905, 'flush': 2243, 'systems': 3565, 'v2502': 3700, 'r10320': 3110, 'step': 3513, 'rc000326': 3157, 'n252503580': 2825, 'closing': 1851, '2044': 347, 'allow': 1545, 'sit': 3444, 'group': 2321, 'f1019': 2188, '15zk': 158, 'rp1057': 3299, 'kzrv': 2575, '4016': 934, '154': 152, '153': 150, '278': 801, 'r25dm': 3138, 'make': 2666, '910050': 1414, 'cushion': 1976, 'asa2': 1602, 'solar': 3461, '99': 1481, '1926': 268, '2025040012': 337, 'affix': 1530, '465': 1004, 'dainese': 1996, 'chin': 1834, 'guard': 2323, 'plates': 3016, '327': 849, '5639': 1097, 'joyson': 2525, '586': 1110, '726': 1245, '3800': 909, 'n252495400': 2821, 'permanently': 2984, 'wires': 3799, 'apu': 1578, 'carrier': 1801, '1661': 161, 'rp1056': 3298, '348': 878, '7440': 1263, '1925': 267, 'current': 1972, 'protection': 3074, '0432': 49, '45': 983, '1924': 266, '25505': 614, 'pass': 2952, 'higher': 2388, 'viscosity': 3736, 'filter': 2219, 'n252494000': 2819, 'breather': 1720, 'busbar': 1738, '24s11': 519, '144': 141, '25s42': 713, '082': 76, '25c12': 637, 'dorel': 2069, 'headrest': 2370, 'pad': 2942, 'kit': 2543, '657': 1175, '9546': 1462, 'gng': 2308, 'sprint': 3492, 'djgusa': 2063, '09': 82, 'spacers': 3471, '25504': 613, 'jayco': 2518, 'highland': 2389, 'ridge': 3262, '9904628': 1484, 'r25dl': 3137, 'technicians': 3580, 'floor': 2241, 'west': 3780, '1919': 263, '25s40': 712, 'accent': 1504, 'lights': 2621, 'awning': 1636, 'auto': 1625, 'leveling': 2609, '4995': 1040, '300': 825, '1922': 265, 'pd136': 2969, 'pma47': 3026, 'lid': 2617, 'dust': 2091, 'sealer': 3385, 'acura': 1511, '382': 911, '2238': 382, 'fli': 2240, '19v': 291, '256': 627, 'turbo': 3674, 'compound': 1875, 'rvxx2504': 3326, '2025050002': 338, 'tps': 3638, 'hawaii': 2362, '808': 1319, '498': 1038, '8248': 1334, 'discs': 2056, '74hc': 1272, '592': 1116, '3267': 848, '830': 1342, '3554': 888, 'ngdv_tsb_036': 2862, '928': 1432, 'possibly': 3043, 'cr5720': 1948, 'arms': 1596, '686': 1200, '7278': 1250, 'ngdv_tsb_034': 2861, 'maserati': 2688, '696': 1208, '2737': 796, 'aurora': 1623, 'catalina': 1806, 'campsite': 1786, 'reserve': 3235, 'cascade': 1802, 'cherokee': 1830, 'sabre': 3332, 'vengeance': 3719, 'cedar': 1810, 'creek': 1959, 'impression': 2448, '2716': 792, 'pause': 2955, '2681': 787, 'puma': 3084, '0588': 58, 'sierra': 3436, 'sandpiper': 3338, '4574': 995, 'salem': 3336, 'wildwood': 3788, '1915': 261, '25s38': 711, '25s35': 708, '25c10': 636, 'master': 2689, 'leaking': 2597, 'booster': 1706, '25s37': 710, '150': 148, '25s36': 709, 'volt': 3744, 'lfb': 2614, 'shift': 3426, 'features': 2206, 'ieb': 2435, '25v': 767, '065': 65, '277': 800, 'stabilizer': 3501, 'bar': 1646, 'slh': 3449, '90a2': 1401, 'morryde': 2757, '293': 819, '1581': 155, 'extend': 2168, 'ventilation': 3721, '7101': 1228, '110': 113, '1914': 260, '203': 345, '1917': 262, 'cadilac': 1761, 'n252494190': 2820, 'chicco': 1832, '424': 952, '4226': 951, '916c': 1416, 'mcclaren': 2702, '646': 1161, '429': 958, '8916': 1391, 'surround': 3555, 'view': 3731, 'cameras': 1784, '90xm': 1404, 'uuc': 3696, 'asa3': 1603, 'reflectors': 3185, '0638': 64, 'vmcu': 3739, 'rvxx2503': 3325, 'roller': 3281, 'wrmg': 3811, '417': 944, '873': 1377, '5900': 1114, 'ts': 3662, '0042': 8, 'extension': 2169, 'cr5719': 1947, '8205': 1328, '224': 383, '1912': 259, 'ks0': 2566, '350': 882, '6682': 1188, 'cr5687': 1944, '08': 74, 'generator': 2294, 'positive': 3041, 'bollinger': 1700, 'bolling': 1699, '785': 1302, '7351': 1258, '90vc': 1403, 'incorrect': 2456, '60': 1122, '25s29': 704, 'cup': 1971, 'alignment': 1543, '25s30': 705, '25s32': 707, 'bridgestone': 1721, 'bato': 1653, '847': 1355, '3272': 850, 'driven': 2079, 'kr9': 2565, 'damper': 2000, 'inserts': 2474, 'illustrations': 2444, 'descriptions': 2028, 'outboard': 2922, 'restraints': 3242, '8006': 1313, 'n252492340': 2818, 'supports': 3552, '113': 119, 'fus': 2279, 'braking': 1715, 'f1018': 2187, 'added': 1515, 'rvxx2501': 3323, 'weather': 3772, 'mat': 2690, 'footwell': 2250, 'lucid': 2655, 'reimburse': 3192, 'original': 2916, 'cost': 1916, 'mats': 2692, '995': 1488, '8243': 1333, '01': 13, '464': 1002, 'cradle': 1953, '25kwd': 664, '25pbd': 677, '25pbc': 676, '25kwc': 663, 'r10312': 3109, 'disc': 2052, '25501': 610, 'cam0000042': 1780, 'rc000325': 3156, 'n252497020': 2822, '25502': 611, '25503': 612, 'horn': 2408, 'vmv0103': 3742, 'distributors': 2060, 'track': 3640, 'pd137': 2970, 'pd138': 2971, 'purchasers': 3088, '25s24': 699, 'remote': 3213, 'climate': 1846, '25s23': 698, '25s22': 697, '25s21': 696, '25s19': 694, '25s20': 695, '25c08': 635, '25s28': 703, 'image': 2445, 'processing': 3065, '25s27': 702, 'train': 3646, '25s26': 701, '25s25': 700, '1909': 257, '7225c': 1240, 'evdm': 2152, 'f1017': 2186, 'n989': 2847, 'jump': 2527, 'comfort': 1865, 'cummins': 1970, '286': 812, '6467': 1163, 'c7135': 1756, '463': 1001, 'pma45': 3025, '541': 1080, '3447': 873, '64': 1152, '1902': 256, 'rim': 3265, '2025030016': 335, 'monitoring': 2754, 'n242480630': 2810, 'clutch': 1853, 'release': 3202, 'ineos': 2462, 'button': 1741, '494': 1036, '4748': 1015, 'horizontal': 2407, 'studs': 3530, 'blu': 1689, 'arc': 1592, 'email': 2113, 'evsupport': 2153, 'bluearcev': 1691, 'daimler': 1995, 'coaches': 1856, 'fixate': 2228, 'stop': 3517, '624': 1139, '3558': 889, '91': 1405, '10t25237a': 110, 'amber': 1551, 'colored': 1860, 'big': 1678, 'tex': 3597, '594': 1118, '5637': 1096, 'advanced': 1525, '25s17': 692, 'hpcm': 2413, '25s16': 691, '25s18': 693, 'maximum': 2694, '80': 1310, 'array': 1598, '25s14': 690, '25s13': 689, 'half': 2348, '25s12': 688, '25c07': 634, '25c06': 633, 'ocdc': 2896, '93cj': 1445, '93fr': 1446, 'alternator': 1549, '2025030012': 334, 'vs3halhan': 3756, '97h3': 1475, '454r': 993, 'tip': 3616, '250221rev': 599, 'gdu': 2289, 'sc337': 3368, '2025030007': 333, 'cushman': 1977, 'able': 1497, 'textron': 3599, 'specialized': 3477, '706': 1222, '4768': 1017, 'motorcycle': 2761, 'terminals': 3590, '03': 44, 'bearings': 1664, 'needed': 2855, '910049': 1413, 'application': 1570, '5745': 1104, '1895': 250, '205': 349, '1897': 252, 'handle': 2350, '1896': 251, 'rv': 3309, '589': 1112, '9836': 1476, 'locking': 2641, 'radio': 3145, '740': 1259, 'kr7': 2564, '026g': 41, 'sensor': 3404, 'cr5693': 1946, 'r10307': 3108, 'pneumatic': 3028, 'rvxx2502': 3324, 'cr5691': 1945, 'washers': 3770, 'rc000322': 3155, 'piston': 3004, 'noise': 2870, 'sensing': 3402, 'pnss': 3029, 'sc336': 3367, '10x5': 111, 'seating': 3391, 'positions': 3040, 'position': 3039, '25s09': 686, '25s08': 685, 'drivetrain': 2084, 'v3eschwei': 3703, '00': 0, '004': 7, '25c04': 632, '25s07': 684, 'ctp': 1966, '242': 440, '5676': 1100, 'pscm': 3081, '25s11': 687, 'knee': 2548, 'n979': 2846, '21v': 374, '168': 163, 'n978': 2845, '1612': 160, 'navistar': 2850, 'activate': 1508, '332': 859, '1590': 157, 'terex': 3588, '7170': 1237, '25ta05': 759, 'n242490780': 2817, 'online': 2908, 'data': 2005, 'advise': 1526, 'unavailable': 3682, 'phased': 2987, 'phase': 2986, 'include': 2451, '2022': 306, 'model': 2745, 'year': 3817, '93aa': 1444, '24v898': 591, 'disassemble': 2051, 'clean': 1843, 'reassemble': 3165, 'linkage': 2629, 'terberg': 3587, 'benschop': 1671, '348459294': 879, 'cam0175': 1782, 'reposition': 3228, 'aluminum': 1550, 'butyl': 1742, 'soundproofing': 3467, 'asa0': 1600, 'end': 2119, 'electronics': 2110, 'asa1': 1601, '38cx': 914, 'help': 2382, 'spoke': 3485, 'tight': 3609, 'crossing': 1962, '440': 973, '3553': 887, '91ny': 1423, '90av': 1402, '195': 279, 'tread': 3652, '910048': 1412, '2025040005': 336, 'zeekr': 3819, 'chutes': 1836, '481': 1025, '2050': 350, 'ows': 2938, '522': 1058, '7599': 1279, '65': 1167, '1894': 249, 'lpc': 2652, 'manually': 2673, 'r10298': 3107, 'nikola': 2865, 'hydrogen': 2424, '4531': 988, '24vdc1101': 594, 'trailing': 3645, 'mounts': 2768, 'vantage': 3712, 'mobility': 2743, '488': 1030, '9082': 1399, 'attachment': 1619, 'points': 3032, 'chrome': 1835, 'grille': 2318, 'deflector': 2022, 'n242490120': 2816, 'webbing': 3773, '25ta03': 757, '25la03': 667, '25tb04': 763, '25ta04': 758, 'tube': 3669, 'hino': 2391, '699': 1209, '9390': 1443, 'ab2q0': 1495, 'firefly': 2221, '4600': 998, 'correction': 1913, '274': 797, 'received': 3172, '235': 403, 'routing': 3289, 'zl4': 3821, '9904618': 1483, '25c02': 631, '25s05': 683, 'vecu': 3716, 'responsive': 3240, 'temporarily': 3584, 'reset': 3236, 'key': 2536, 'cycle': 1985, '25kwb': 662, '25pbb': 675, 'spiral': 3483, '25ta02': 756, '25la02': 666, '25ta01': 755, '25la01': 665, 'f1016': 2185, 'c10129': 1745, 'thermal': 3600, 'cr285': 1925, '1889': 246, 'fi': 2214, 'el1': 2105, 'al0': 1540, 'cam0000041': 1779, 'rkz': 3275, 'wrb': 3807, 'srs': 3499, 'doors': 2067, 'different': 2043, 'attach': 1616, '1890': 248, 'absorbers': 1501, '25s01': 679, '25s04': 682, 'water': 3771, '1887': 245, 'cross': 1961, 'member': 2713, '25s03': 681, '25s02': 680, '267': 785, 'c7111': 1754, 'timken': 3615, '984': 1477, '6536': 1173, '2005': 297, '2025010008': 332, 'sc332': 3366, 'pirelli': 3003, '622': 1137, '2390': 405, 'q4': 3094, 'h535': 2342, '501': 1045, 'touchscreen': 3631, 'n972': 2844, '25pba': 674, '25kwa': 661, 'n242481530': 2811, 'attaches': 1617, 'structure': 3526, 'n242489901': 2815, 'kky': 2545, 'marion': 2681, 'works': 3803, '715': 1234, '754': 1277, '5261': 1065, 'gkn': 2300, 'labor': 2578, 'marketing': 2684, 'nma': 2868, 'gknautomotive': 2301, 'calling': 1770, '653435212': 1172, 'bdc': 1659, 'sc331': 3365, 'nivion': 2867, 'defective': 2020, 'adapters': 1512, '307': 830, '243': 442, '4122': 941, 'internal': 2500, '821': 1329, '1311': 133, '1883': 243, '194': 275, 'r25dh': 3136, 'nsb': 2887, 'identify': 2433, 'experienced': 2163, 'failure': 2194, 'stress': 3523, 'lead': 2592, 'computers': 1879, '2015': 303, '191': 258, '2004': 296, 'reconfigure': 3177, 'remaining': 3208, 'future': 2283, 'pma42': 3024, 'receiver': 3173, 'horizon': 2406, 'global': 2304, '8810': 1383, 'limit': 2622, 'road': 3277, 'till': 3613, 'becm': 1665, '24s79': 563, '24s70': 558, '24c43': 475, '24s75': 560, '24s78': 562, 'airbags': 1537, '2025010005': 331, 'sc329': 3364, 'n946': 2842, 'jkx': 2520, 'n242483530': 2814, 'inner': 2471, 'fsab': 2269, 'r10296': 3106, 'rp1044': 3297, 'low': 2649, 'hlcm': 2394, 'rp1043': 3296, 'leaf': 2594, 'spring': 3490, 'fuso': 2282, 'diamondback': 2039, 'including': 2454, 'driving': 2085, '935': 1440, '4002': 933, '2024120015': 328, 'warranty': 3768, 'locations': 2638, 'set': 3411, 'leads': 2593, 'c5807': 1750, '018': 22, 'rubber': 3306, 'c7119': 1755, 'discolored': 2053, 'deformed': 2023, 'c10131': 1746, 'copper': 1906, 'featherlite': 2204, '1230': 129, 'tanks': 3572, '3119': 833, '1877': 241, 'required': 3232, 'vs3belkom': 3752, 'repurchase': 3230, '633': 1148, 'h529': 2341, 'n242479760': 2809, 'ngdv_tsb_024': 2860, 'couplers': 1919, 'atp': 1615, 'tubing': 3671, 'customers': 1980, '937': 1441, '349': 880, '4055': 936, 'scooter': 3379, 'leakage': 2596, 'outlined': 2926, 'riding': 3263, 'checklist': 1829, 'vapor': 3713, '3a05': 927, 'f1012': 2184, 'sc328': 3363, 'riser': 3269, 'treads': 3653, '910047': 1411, 'pctna': 2958, '544': 1085, '4891': 1032, '24kwl': 487, '24pbl': 509, '68': 1195, '1875': 240, 'rai': 3146, 'n964': 2843, 'bottle': 1707, '8283': 1339, '121': 127, '1874': 239, 'agility': 1534, 'valves': 3709, '474': 1014, '7400': 1260, 'mcneilus': 2705, 'swivel': 3563, 'bearing': 1663, 'contacted': 1894, '24ta14': 576, '24la08': 495, 'prestone': 3053, '0750': 73, 'longer': 2645, '5a': 1121, 'breaker': 1719, '24518': 459, 'securement': 3398, 'cr5674': 1943, 'torqued': 3627, '24kwk': 486, '24pbk': 508, 'lubricate': 2654, '24kwj': 485, '24pbj': 507, '017': 19, 'pierce': 2994, 'steer': 3511, '974': 1473, '3723': 900, 'bespoke': 1673, 'corner': 1908, 'polycarbonate': 3034, 'taillights': 3569, '210': 362, '1872': 237, '25v080': 769, 'nuna': 2890, '2891': 816, 'info': 2464, 'usa': 3692, 'nunababy': 2891, '459': 997, 'filler': 2218, 'neck': 2853, 'okm': 2903, 'cvpam': 1983, '761': 1281, 'tailgate': 3567, 'closed': 1850, 'latched': 2586, 'touchpad': 3630, 'n242469160': 2802, '060': 61, 'arc5': 1594, 'wrench': 3810, 'spare': 3472, '193': 271, 'dashboard': 2004, 'applying': 1574, 'kevlar': 2535, 'strips': 3525, 'pagani': 2944, '39': 915, '059': 59, '4739201': 1013, 'sold': 3462, '1873': 238, '271': 791, '24tb13': 584, '24ta13': 575, 'magnetek': 2661, 'converters': 1901, 'larger': 2584, 'qrv': 3096, 'kr1': 2559, 'peripheral': 2983, '91b3': 1422, 'burner': 1736, 'ott': 2921, '526': 1064, '3978': 922, 'console': 1892, '273': 795, 'r10292': 3105, 'cr5668': 1942, 'britax': 1725, '427': 957, '4829': 1029, '954': 1461, '2024120001': 326, 'trail': 3642, 'king': 2542, '3324': 860, 'tk202402': 3621, 'iccu': 2427, 'sc327': 3362, '025g': 39, '204': 346, 'limitless': 2623, 'van': 3710, '831': 1343, '0681': 68, '910045': 1409, 'supersedes': 3545, '22v308': 395, 'differential': 2044, '2024120005': 327, 'warming': 3766, '910046': 1410, 'kr2': 2560, 'kr3': 2561, 'kr4': 2562, 'kr5': 2563, 'fisker': 2224, '347': 876, '5371': 1076, 'r24b2': 3123, 'inside': 2475, 'n242481860': 2812, 'curtain': 1974, '24c38': 473, 'soft': 3459, 'start': 3504, 'encore': 2118, 'mirada': 2730, 'pursuit': 3091, 'sportscoach': 3488, '8212': 1330, 'isata': 2509, '3474': 877, 'georgetown': 2296, 'fr3': 2259, 'ahara': 1535, 'cruise': 1964, 'sport': 3486, 'tour': 3632, '617': 1132, '6408': 1155, '1839': 218, 'cam0000040': 1778, '1863': 233, '3314': 858, '83': 1341, '1862': 232, '24s71': 559, '24c39': 474, 'flange': 2237, 'torsion': 3628, 'hanger': 2353, 'diamond': 2038, '903': 1397, '572': 1101, 'ignition': 2436, '112': 117, 'iuc': 2512, 'microbird': 2723, 'ius': 2513, 'risks': 3271, 'd025': 1989, 'superseded': 3544, '25v514': 773, 'n242471620': 2804, 'knobs': 2549, '270': 790, '268': 786, '1181': 124, '24vdc0903': 593, '192': 264, '763': 1284, '0416': 48, 'stoppers': 3518, 'partition': 2950, 'cr5635': 1938, '40': 930, 'kawasaki': 2533, 'pushrod': 3092, 'rp1039': 3295, 'lubricant': 2653, 'levels': 2610, '24516': 458, 'program': 3067, 'determined': 2034, '1859': 229, 'stove': 3519, 'vibe': 3727, '59': 1113, '1860': 231, 'kr0': 2558, '23s04': 410, 'taller': 3570, 'equalizer': 2136, 'kzrp': 2574, 'kz': 2573, 'following': 2248, 'target': 3575, '90': 1394, 'frequently': 2266, 'depleting': 2026, 'range': 3148, 'indoors': 2461, 'overnight': 2933, 'concierge': 1880, 'team': 3577, '4389': 971, 'n242470160': 2803, 'outdoors': 2923, '1866': 234, 'esu': 2145, '7124j': 1232, '7024j': 1219, '24515': 457, 'primary': 3060, 'kq9': 2557, '69eg': 1212, '69gq': 1214, '69e6': 1210, 'tightening': 3612, 'process': 3064, '88': 1382, 'fastening': 2200, 'incorrectly': 2457, 'manufactured': 2675, 'arc4': 1593, 'fluid': 2242, '24s67': 557, 'tpasim': 3636, 'ipma': 2508, '24s66': 556, '24c34': 471, '24c35': 472, 'manifold': 2671, '432': 962, '3246': 845, '400': 931, '1857': 228, 'communication': 1867, '2024110002': 325, '2226': 380, 'a242476151': 1493, 'cut': 1982, 'powering': 3047, 'backlights': 1640, 'terminate': 3591, 'inspire': 2481, '363': 893, '0008': 2, 'special': 3476, 'coverage': 1922, 'transmissions': 3651, 'identified': 2432, 'containing': 1895, 'n242454440': 2798, 'r24b6': 3127, '24014': 434, 'erg': 2141, 'maintenance': 2665, 'manuals': 2674, 'rvxx2409': 3321, 'xvs': 3815, 'xas': 3812, 'trx': 3661, '22t023': 393, 'silver': 3442, 'eagle': 2096, 'send': 3401, '6792': 1194, 'r10289': 3104, 'barrels': 1648, '812': 1323, '377': 906, '5000': 1044, '24kwh': 484, '24pbh': 506, 'jib': 2519, 'cylinders': 1987, '605': 1126, '882': 1385, 'sn732': 3456, 'rvxx2410': 3322, 'welds': 3779, 'vmv0095': 3741, '627': 1141, '1853': 226, 'siphon': 3443, 'vent': 3720, '103': 95, '1854': 227, '3310': 857, '1851': 224, '24s65': 555, 'tether': 3595, '24c33': 470, 'tongue': 3625, '2024100014': 324, 'c19': 1749, 'bugatti': 1732, 'rimac': 3266, '703': 1220, '826': 1336, '7545': 1278, 'grab': 2311, 'livewire': 2635, '387': 913, '4337': 964, 'customersupport': 1981, '1004': 92, 'diaphragm': 2040, '714': 1233, '1490': 145, '3a04': 926, '088': 80, '24s64': 554, 'cargo': 1797, '24ta12': 574, 'orscheln': 2917, '660': 1178, '3971': 921, 'pjw': 3008, '329': 852, '9000': 1395, 'accuride': 1506, 'akw': 1539, 'r23ck': 3116, 'crossmember': 1963, '352': 883, '1122': 118, 'tprd': 3637, '5151': 1053, 'housing': 2412, 'h520': 2340, 'headlamp': 2366, 'multipurpose': 2775, 'mld': 2736, 'n242474560': 2806, 'n242474500': 2805, 'n939': 2840, 'sc326': 3361, 'care': 1795, '414': 942, '343': 871, '4056': 937, '0187': 24, '747': 1266, '1847': 222, 'quality': 3098, 'freedman': 2263, 'sales': 3337, '408': 939, '8550': 1362, 'manchester': 2670, 'rvxx2408': 3320, '3535': 886, '190': 255, 'worm': 3805, 'redistribute': 3180, 'grease': 2313, 'sjs': 3446, 'mju': 2735, 'qjt': 3095, 'vjv': 3738, 'hjr': 2393, 'avm': 1632, 'r24b5': 3126, 'r24c2': 3128, 'r24b3': 3124, 'r24b4': 3125, '104': 96, 'strikers': 3524, 'dealership': 2013, 'n242477131': 2807, 'technician': 3579, 'n242477760': 2808, '24513': 456, '745': 1264, '8000': 1312, 'f1010': 2183, 'test': 3593, 'arb6': 1588, 'arb7': 1589, '840': 1349, '215': 369, '217': 371, 'central': 1815, 'arb8': 1590, 'arb5': 1587, 'prior': 3062, 'c7083': 1753, '931a': 1436, 'measure': 2708, 'monitored': 2753, 'evaluation': 2150, 'shows': 3431, 'potentially': 3045, 'critical': 1960, 'authorized': 1624, '931b': 1437, 'procedures': 3063, 'repeated': 3221, '229': 389, 'validate': 3704, 'cr5643': 1941, 'based': 1652, 'mileage': 2727, 'ipc': 2507, '24c32': 469, 'royal': 3292, 'enfield': 2123, '600': 1123, 'sc': 3342, '43': 961, 'disconnected': 2055, 'rack': 3141, '6604': 1179, '1844': 220, 'reflector': 3184, 'stickers': 3516, '1845': 221, 'population': 3035, 'relations': 3199, '471f': 1010, '2024100006': 322, '016': 18, '0628': 63, 'modified': 2747, 'buick': 1733, '521': 1057, '7300': 1253, 'spindle': 3482, 'double': 2071, 'universal': 3686, 'driv': 2077, '6659': 1185, '1973': 288, 'fsb05': 2272, 'tensioner': 3586, '111': 115, 'gus': 2328, 'guc': 2325, 'mercedes': 2715, 'benz': 1672, '496': 1037, '3691': 897, '2024100007': 323, '325': 846, '4361': 967, '10616': 100, 'skid': 3447, 'corolla': 1909, '24ta11': 573, 'showing': 3430, 'fatigue': 2201, 'cracking': 1952, 'improper': 2449, 'retention': 3245, 'n242466950': 2800, 'n242453720': 2796, 'sophisticated': 3465, '6924i': 1204, 'trans': 3647, 'tech': 3578, '2333': 399, 'sc324': 3360, 'regulator': 3190, '0186': 23, 'connected': 1885, 'touch': 3629, 'ctr': 1967, '24s59': 551, '24c30': 468, '24s60': 552, '24s61': 553, 'sccms': 3375, '4264': 956, '1532': 151, 'siding': 3435, '5250': 1063, 'cam0000039': 1777, 'mbux': 2698, 'settings': 3414, 'nfsm': 2858, 'n927': 2839, 'n242468880': 2801, 'n242447990': 2792, 'combustion': 1864, 'marathon': 2679, 'coach': 1855, '9991': 1491, 'h516': 2339, '749': 1268, 'mc24': 2699, 'mclaren': 2704, '202': 304, '8815': 1384, 'conditioner': 1881, '188': 242, 'ember': 2114, '732': 1255, '4204': 948, 'reinforcements': 3196, 'mount': 2764, 'retrofit': 3248, 'heatshield': 2378, '500': 1043, 'receptacle': 3174, 'gfi': 2298, 'lug': 2656, 'rvxx2407': 3319, 'aba': 1496, 'f1009': 2182, 'intake': 2491, 'cr5637': 1940, 'integral': 2492, '2024090013': 320, '353': 884, 'phoenix': 2990, '909': 1400, '987': 1479, '0815': 75, 'bodies': 1697, 'arb4': 1586, '582': 1107, '3454': 875, 'handles': 2352, '57j9': 1106, '312': 834, '213': 366, 'novas': 2885, 'cr5636': 1939, 'forward': 2257, '6824h': 1197, 'alltrade': 1546, 'bicycle': 1677, 'racks': 3142, '1372': 136, 'alltradetools': 1547, '69e8': 1211, '502': 1046, '2551': 619, 'icm': 2429, 'controls': 1899, 'icm870': 2430, '1a': 292, 'bh5400': 1675, 'ge': 2290, '772': 1292, '7262': 1247, 'ck': 1840, '3422': 870, 'gaskets': 2286, 'mufflers': 2770, 'tow': 3633, '24tb10': 583, '24ta10': 572, '24s55': 550, 'jlr': 2521, 'h514': 2338, 'h536': 2343, '085': 78, 'h471': 2332, '709': 1225, 'h459': 2330, 'h441': 2329, 'repurchased': 3231, 'injector': 2468, 'rings': 3268, '24s54': 549, '24s53': 548, 'navico': 2849, 'surge': 3554, '803': 1315, '324': 844, '6644': 1184, 'amer': 1552, 'oneasg': 2907, 'bracing': 1711, 'outriggers': 2929, '44': 972, '1831': 215, '1833': 217, 'endera': 2120, '523': 1061, '3593': 890, 'oem': 2899, '810': 1320, '7252': 1244, 'morbark': 2756, '255': 609, '8839': 1386, 'tsb10062408': 3664, 'continental': 1896, '7113': 1230, 'kalmar': 2531, '6327': 1147, '46p6': 1007, 'northern': 2875, 'lite': 2634, '250': 596, '3702': 898, '1829': 214, 'cam0000037': 1775, 'gfci': 2297, 'cam0000038': 1776, '420': 947, '1832': 216, 'space': 3469, 'craft': 1954, '7520': 1275, 'longitudinal': 2646, 'beam': 1662, 'message': 2716, 'displayed': 2058, 'ask': 1607, 'mini': 2729, '6464': 1162, '187': 235, 'uje': 3681, 'adhesion': 1520, 'reattach': 3166, 'pieces': 2993, '008': 11, '20v': 358, '710': 1227, 'device': 2036, 'transfer': 3648, '240812rev': 437, 'venting': 3722, 'spl': 3484, '240809rev': 436, 'kido': 2541, 'sports': 3487, 'helmet': 2380, '672': 1190, '6774': 1192, 'propane': 3070, 'heat': 2374, '10584': 99, 'increased': 2459, 'amperage': 1556, 'rating': 3150, '1003': 91, 'promptly': 3069, 'hearing': 2372, 'experiencing': 2164, 'seeing': 3399, 'inspections': 2480, '24s52': 547, '24s48': 543, '24s50': 545, '24s49': 544, '24s51': 546, 'supervised': 3546, 'fleet': 2239, 'driverless': 2082, 'returning': 3250, '24c24': 467, 'room': 3284, '24lb07': 499, '24la07': 494, 'want': 3765, 'n242466850': 2799, 'egr': 2103, '2345': 402, 'n242453471': 2795, '024g': 38, 'placards': 3011, '1824': 213, 'pd121': 2968, 'rvxx2406': 3318, 'acu': 1510, 'pd120': 2967, 'doosan': 2068, '5206': 1056, 'f1008': 2181, 'f1007': 2180, 'n242454040': 2797, 'pipes': 3001, 'prevent': 3056, 'relay': 3200, '265': 782, 'microwave': 2724, '89': 1390, '1819': 211, 'glazing': 2303, 'cr5626': 1937, '02': 31, 'cr5619': 1935, '24511': 455, 'cr5620': 1936, 'version': 3725, 'r24a8': 3122, '920': 1427, '9333': 1438, '012': 16, 'lettering': 2606, 'fl918': 2229, 'gears': 2293, 'texas': 3598, '323': 843, '0135': 17, 'gst': 2322, '444': 979, '1074': 103, '24r2': 511, 'epas': 2133, 'pigtail': 2995, '24s46': 541, 'rivets': 3273, '24s47': 542, '969': 1468, '730': 1252, 'pitman': 3005, 'piy': 3007, '186': 230, '3a03': 925, 'arb2': 1585, '10556': 98, '5413': 1082, '1808': 210, 'code': 1857, '1803': 207, 'dual': 2088, '263': 779, '023g': 37, 'sn729': 3455, 'vs3federb': 3755, 'safe': 3333, '7867': 1303, '535': 1073, '456': 994, '910044': 1408, 'wheelchair': 3783, 'bridging': 1722, 'sr24': 3495, 'dongguan': 2065, 'biaoming': 1676, 'technology': 3581, '364': 894, '510': 1051, '9187': 1418, 'realign': 3161, 'blades': 1683, 'cr5615': 1934, 'carparts': 1798, '529': 1068, '0412': 47, 'f1005': 2178, 'f1006': 2179, 'ik4576': 2441, 'tsb30032401': 3665, 'arboc': 1591, '953': 1460, '5555': 1094, '1807': 209, 'rvxx2405': 3317, '24010': 433, 'bis': 1681, 'pma38': 3023, '4th': 1041, '24s45': 540, '24c20': 466, 'n242448540': 2793, '8409': 1350, '8487': 1356, '1800': 206, '72': 1239, '1805': 208, 'n242451330': 2794, '24s44': 539, '24s42': 537, 'heaters': 2376, 'fail': 2193, 'updates': 3689, '011': 15, '24s43': 538, 'vw': 3762, '91us': 1425, 'n242443000': 2787, 'n242443002': 2788, 'rest': 3241, '24lb06': 498, '24la06': 493, '109': 106, 'euc': 2147, 'powerstop': 3048, 'purchased': 3087, 'estimated': 2144, 'removal': 3216, '863': 1368, '4415': 976, 'ihu': 2437, 'rp1016': 3294, 'sound': 3466, 'f1004': 2177, 'link': 2628, 'pd109': 2966, 'sea': 3382, '3532': 885, 'h506': 2337, '392': 917, '9921': 1487, 'ngdv_tsb': 2859, 'arow': 1597, '693': 1205, '6020': 1124, 'v2402': 3699, 'outrigger': 2928, 'revo': 3254, '661': 1180, '9232': 1430, 'r24a5': 3120, 'r24a7': 3121, '24tb09': 582, '24ta09': 571, '24lb05': 497, '24la05': 492, 'n242447940': 2791, 'overlay': 2932, '1491': 146, 'mountings': 2767, 'lion': 2632, '6706': 1189, 'r2024': 3114, '010': 14, 'ends': 2121, '24509': 453, '24510': 454, 'pods': 3030, '69pz': 1216, '47up': 1021, 'tsb55062401': 3666, 'hendrickson': 2383, '929': 1433, '5600': 1095, '2829': 807, 'haux': 2361, 'arb0': 1584, '006': 10, 'promoter': 3068, 'sensitive': 3403, 'applique': 1571, 'set24a': 3412, 'fittings': 2227, 'plumbing': 3020, '24009': 432, 'entrans': 2130, '320': 839, '746': 1265, '2255': 387, 'n908': 2838, '108': 104, 'tus': 3678, '24s37': 534, 'cr5612': 1933, 'angle': 1561, 'radar': 3143, '24s39': 536, 'frontview': 2268, '24tb08': 581, '24ta08': 570, '24s38': 535, '2024100002': 321, '533': 1071, 'rework': 3257, 'sn728': 3454, 'barrier': 1649, '1584': 156, 'reinforcing': 3197, 'drag': 2072, '24kwg': 483, '24pbg': 505, 'overlapping': 2931, 'rc000306': 3154, 'rc000305': 3153, 'dana': 2001, '887': 1387, '3000': 826, '47de': 1020, 'rvxx2404': 3316, 'cr5605': 1932, 'sc319': 3359, 'north': 2874, '395': 920, '2529': 605, 'n242441390': 2786, '24r1': 510, 'f1003': 2176, 'mcu': 2706, 'tsb10032403': 3663, 'tsb70062404': 3667, 'slide': 3450, 'sc316': 3357, 'panels': 2946, '1464': 143, 'frames': 2261, 'vmv0088': 3740, '261': 776, 'rvxx2403': 3315, 'multiplex': 2774, 'component': 1873, 'bike': 1679, 'kuat': 2572, '889': 1389, '5820': 1108, 'protected': 3073, 'beaker': 1661, '1786': 202, 'links': 2630, 'rvxx2402': 3314, 'length': 2603, 'holders': 2398, 'absorbing': 1502, 'mounted': 2765, 'headliner': 2369, 'sc317': 3358, 'd24r6': 1993, '1785': 201, '0488': 51, '1787': 203, 'shackles': 3416, 'equalizers': 2137, '5410': 1081, '1789': 204, 'host': 2411, '2328': 398, 'hankook': 2355, '426': 954, '5665': 1099, 'traction': 3641, 'r24a3': 3119, 'f1002': 2175, '24s36': 533, 'n903': 2837, 'supplier': 3548, 'sheppard': 3422, 'refrigerator': 3187, '910043': 1407, 'tiq': 3617, 'dir': 2048, '046': 50, 'vicinity': 3728, '604': 1125, '607': 1127, '054': 57, 'thermo': 3601, '952': 1459, '2200': 377, 'lx600': 2657, 'multiple': 2773, 'fall': 2195, 'launch': 2589, 'tundra': 3673, '24tb07': 580, '24ta07': 569, '24lb04': 496, '24la04': 491, 'driverge': 2081, '861': 1366, '1118': 116, '443': 978, '4540': 990, '24508': 452, 'levers': 2612, 'karma': 2532, '288': 814, '6109': 1130, 'section': 3395, '1782': 200, '2024060002': 317, 'byd': 1743, '3250': 847, 'phones': 2992, 'reversing': 3253, 'shielding': 3424, '24s35': 532, 'vpac': 3748, '291': 818, '2024060009': 319, 'fitted': 2225, 'calibrated': 1766, 'n901': 2836, '023': 36, 'kme': 2547, '3928': 918, 'r24da': 3131, 'n242444030': 2789, 'nexxpro': 2857, '461': 999, '1226': 128, '1445': 142, 'ste': 3509, 'hackney': 2345, '252': 604, '946': 1455, '6521': 1170, '442': 977, '4645': 1003, 'apollo': 1568, '2340': 401, 'apollotyres': 1569, '184': 219, '941l': 1454, 'garage': 2284, 'covered': 1923, 'sc314': 3356, 'ik4561': 2440, 'prime': 3061, 'time': 3614, '9191': 1420, 'turtle': 3677, '296': 822, '2105': 364, 'c7032': 1752, 'linoleum': 2631, '1778': 198, '34': 866, '1780': 199, 'vcm': 3714, '6724e': 1191, '919a': 1421, 'straps': 3521, '6319': 1145, '1777': 197, 'intellipark': 2495, 'pvm': 3093, '24507': 451, 'ara7': 1583, 'f1000': 2174, 'sc312': 3355, 'suspect': 3556, '24007': 431, '1774': 195, '34477': 874, '1776': 196, '225': 386, '1772': 194, 'cr5595': 1931, '24s32': 530, '24s33': 531, '2024060007': 318, '1429': 140, 'hummer': 2417, '5493': 1090, 'n242447080': 2790, 'rvc': 3310, 'yi7': 3818, 'towing': 3634, '185': 223, 'vs3eboostf': 3753, '724': 1241, '8464': 1354, 'legend': 2602, 'suspensions': 3558, 'afco': 1528, '632': 1146, '2320': 397, '1700': 169, 'autoliv': 1626, '276': 799, '0722': 72, 'n232439241': 2783, 'recirculation': 3176, 'leak': 2595, '1525': 149, '9904606': 1482, 'cvt': 1984, 'pma37': 3022, '24s24': 527, '24s29': 529, 'bucher': 1729, '704': 1221, '658': 1176, '1333': 134, '811': 1322, 'mirco': 2731, '107': 102, 'sleeve': 3448, 'mmusa': 2741, '2024050001': 316, '315': 836, 'cam0000035': 1773, 'mdps': 2707, 'sc309': 3354, 'rmatv': 3276, 'cash': 1805, 'value': 3706, 'debit': 2014, 'card': 1793, 'subject': 3535, 'balancing': 1644, '966': 1466, '1852': 225, 'rockymountainatv': 3278, '240416rev': 435, '1766': 193, '022g': 35, '259': 630, 'h491': 2336, '21s48': 373, 'tws': 3679, 'kits': 2544, '86': 1364, '20u24286a': 356, 'suburban': 3536, '9235': 1431, 'cardinal': 1794, 'wildcat': 3787, '7700': 1289, 'columbus': 1861, '1487': 144, '254': 608, '0171': 20, 'dynamax': 2094, 'ibex': 2426, 'nobo': 2869, '6421612': 1159, 'sandstorm': 3339, 'shockwave': 3429, '3777': 907, '1760': 192, 'spencer': 3480, '8721': 1376, 'opener': 2909, 'switches': 3562, '24la03': 490, 'accelerator': 1503, '33': 853, 'dal491a': 1997, 'sc308': 3353, '718': 1238, '872': 1375, 'campaign': 1785, 'wall': 3764, '1755': 189, 'scoops': 3378, '24s25': 528, '24c08': 465, 'orv': 2918, '8696': 1373, '453': 987, 'hi': 2385, '209': 354, '3042': 829, 'shade': 3417, 'blind': 1686, '454': 989, '1756': 190, '1757': 191, 'fuses': 2281, '63': 1143, '5961': 1119, 'circuitry': 1838, 'adding': 1516, 'upstream': 3691, 'outlets': 2925, 'cam0000036': 1774, '1928': 270, 'cooler': 1904, 'commercial': 1866, 'assist': 1611, 'subassemblies': 3533, '972': 1472, '838': 1348, '1266': 130, 'occupant': 2894, 'detection': 2031, '69gu': 1215, 'sc306': 3352, '649': 1166, 'n232431480': 2781, 'lin': 2624, 'gateway': 2288, '105': 97, 'cuc': 1968, 'cus': 1975, 'cr5577': 1930, '24pbf': 504, '24kwf': 482, 'calibrate': 1765, 'excessive': 2154, 'values': 3707, 'eberspacher': 2100, '4800': 1023, 'instructed': 2486, 'immediately': 2446, 'vs3hversl': 3757, '24s21': 526, 'ods': 2898, 'sensors': 3405, 'wra': 3806, '24s19': 524, '24s20': 525, '2024040007': 314, 'analyze': 1558, '93vn': 1452, '93vm': 1451, '645': 1160, '0658': 66, 'hinges': 2390, 'cases': 1804, 'spark': 3473, 'plugs': 3019, 'mc27': 2701, 'wgh': 3781, '626': 1140, '1666': 162, 'ampquestions': 1557, 'thewheelgroup': 3602, 'shifter': 3427, '24pbe': 503, '24kwe': 481, 'operate': 2910, 'ratio': 3151, 'er24': 2140, 'engage': 2124, 'exiting': 2159, 'sc303': 3351, 'ara4': 1581, '1002': 90, 'ara5': 1582, 'titian': 3620, 'cr5570': 1929, '12v': 131, '55': 1091, '1751': 188, '1747': 187, '868': 1372, '257': 628, '021g': 33, '020g': 32, '2024040002': 313, 'configuration': 1883, 'file': 2216, 'h481': 2334, 'sc302': 3350, '438': 970, '3946': 919, 'fsb01': 2271, 'cummin': 1969, 'c7015': 1751, '910042': 1406, 'malfunction': 2667, 'lamp': 2581, 'illuminates': 2443, '24s17': 523, 'crane': 1955, '918': 1417, '836': 1346, '7305': 1254, 'drain': 2074, '24s16': 522, '4900': 1034, '20c19': 355, '575': 1105, '24c04': 464, 'turbocharger': 3675, '019g': 30, '538': 1077, '24506': 450, '24003': 430, 'relays': 3201, 'source': 3468, 'relieve': 3206, 'load': 2636, 'j5': 2515, 'executive': 2155, 'h484': 2335, 'gearbox': 2292, 'lhy': 2616, 'provost': 3080, 'grommet': 2319, 'lap': 2583, 'pretensioner': 3054, 'pd106': 2964, 'pd107': 2965, 'cr5566': 1928, 'vs3befhau': 3751, 'sc300': 3349, 'conditioning': 1882, 'refrigerant': 3186, '2024030016': 312, '182': 212, 'ff': 2211, 'deploy': 2027, 'ihub': 2438, 'faraday': 2197, '7702': 1290, '32': 838, 'n871': 2835, '24505': 449, 'production': 3066, 'dates': 2007, 'rider': 3261, 'regarding': 3189, 'ara3': 1580, 'pd105': 2963, 'mobileye': 2742, 'v2401': 3698, '24tb05': 578, '24ta05': 567, 'pd103': 2961, 'pd104': 2962, 'pma34': 3021, 'sc299': 3348, '74b334': 1271, '1001': 89, 'pleasant': 3017, 'valley': 3705, '852': 1358, '4811': 1026, '10t24281a': 108, 'trunk': 3660, 'base': 1651, '24s12': 520, 'victory': 3729, '294': 820, '2518': 603, '1741': 185, '174': 184, '24c01': 463, 'ti': 3606, '10t24282a': 109, 'bronco': 1726, 'heritage': 2384, 'hand': 2349, 'removable': 3215, '24s10': 518, '24s09': 517, 'volume': 3746, '24kwd': 480, 'ccf': 1809, 'h475': 2333, 'fcm': 2203, 'a232424660': 1492, '24ta01': 564, '24la01': 488, '24ta02': 565, '24la02': 489, '74b333': 1270, '24tb04': 577, '24ta04': 566, 'point': 3031, 'ara2': 1579, '451': 985, 'halcore': 2346, '447': 981, '0343': 45, 'rvxx2401': 3313, 'rated': 3149, '1737': 183, '9300': 1435, 'm0460': 2658, '2024030008': 310, 'drill': 2076, 'spot': 3489, '2024030009': 311, 'kp8': 2553, 'kp9': 2554, 'kq0': 2555, 'kq1': 2556, 'lhu': 2615, 'fht': 2213, 'fork': 2255, 'aftermarket': 1532, 'suction': 3537, '20uf': 357, '20yf': 360, '16v': 167, 'harbor': 2356, 'freight': 2265, 'form': 2256, 'gift': 2299, '3353': 862, '018g': 27, 'buckles': 1731, 'n232432520': 2782, 'rolls': 3282, 'royce': 3293, '3735': 902, '1736': 182, 'sets': 3413, 'root': 3285, 'cause': 1807, 'investigation': 2505, 'corporation': 1910, '668': 1187, '6283': 1142, 'integrating': 2494, 'weldment': 3777, 'ik4524': 2439, '717': 1236, '3751': 903, 'adjusted': 1523, 'supporting': 3551, 'material': 2691, '051': 55, '1735': 181, '1734': 180, 'hydroboost': 2423, '089': 81, '24s07': 516, '24s06': 515, '2024mmnnnn': 329, '24s05': 514, 'fl994': 2235, 'sc296': 3347, 'h468': 2331, 'n242430730': 2785, '24503': 447, '24504': 448, '24s04': 513, 'fl995': 2236, 'ricon': 3258, 'enc': 2117, '684': 1199, '6868': 1201, 'r24cm': 3129, 'chain': 1819, 'sprockets': 3493, '3a02': 924, 'c10126': 1744, 'worldwide': 3804, '904': 1398, '4921': 1035, '1731': 178, 'gulf': 2327, 'stream': 3522, '289': 815, '8787': 1381, '106fk': 101, 'r24cx': 3130, '017g': 21, 'r23d7': 3117, 'weight': 3775, 'xhp': 3813, 'vhq': 3726, 'n232426400': 2779, 'r24': 3118, '083': 77, 'certain': 1816, 'remedies': 3210, 'sc295': 3346, 'esc': 2142, 'fl993': 2234, 'releasing': 3204, 'pd102': 2960, 'cahrge': 1763, '285': 811, 'tail': 3566, '120': 126, '1729': 176, 'cam0000034': 1772, 'cold': 1859, 'grill': 2317, 'heating': 2377, 'ducts': 2090, '1730': 177, 'lever': 2611, '1733': 179, 'wedge': 3774, 'boom': 1705, 'rotation': 3287, 'sn724': 3453, 'mekra': 2712, '337': 865, '24pbb': 501, '24kwb': 478, '24pbc': 502, '24kwc': 479, 'residue': 3237, 'flare': 2238, '542': 1083, '3a01': 923, 'bleed': 1685, '6225': 1138, '1696': 166, '24s02': 512, 'maron': 2686, '1727': 175, 'hangers': 2354, '475': 1016, 'ft': 2273, 'lbs': 2591, '2008': 299, 'wilson': 3789, '2002': 295, 'marker': 2683, '1724': 174, 'maxi': 2693, '418': 945, '6637': 1183, 'marking': 2685, 'cr5546': 1927, 'n778': 2832, 'lode': 2643, '797': 1306, '0669': 67, 'toll': 3624, 'engaging': 2125, 'reapply': 3162, 'teeth': 3582, '6524a': 1171, 'sc292': 3345, '24501': 445, 'white': 3785, '24502': 446, 'mmc': 2738, '656': 1174, '2632': 780, 'mmc2023': 2739, '24kwa': 477, '24pba': 500, 'owns': 2937, 'offered': 2901, 'brightdrop': 1723, '4377': 969, 'n232466420': 2784, 'cem': 1812, 'r10256': 3103, '74b332': 1269, 'inversion': 2503, 'fl992': 2233, 'pl': 3009, '223': 381, '1411': 139, 'alexis': 1541, '309': 831, '482': 1027, '6121': 1131, '1716': 172, 'ice': 2428, 'swing': 3560, 'draw': 2075, '95': 1457, '1705': 170, 'insulate': 2489, 'exposed': 2166, 'tru': 3657, 'mickey': 2721, '336': 863, '6806': 1196, 'braun': 1717, 'northwest': 2876, '20224': 307, '9990': 1490, 'thread': 3603, 'locker': 2640, '919': 1419, '3626': 892, 'cake': 1764, 'action': 1507, 'follow': 2247, 'ridecake': 3260, 'rvxx2316': 3312, 'sheathing': 3420, 'fl991': 2232, 'sc289': 3343, '23s65': 414, 'r23': 3115, 'occurs': 2895, 'availability': 1629, '23s64': 413, 'external': 2172, 'artificial': 1599, 'note': 2877, '026': 40, 'rvxx2315': 3311, 'beacons': 1660, 'cam0000033': 1771, '23v270': 420, 'relief': 3205, 'old': 2904, 'dominion': 2064, 'brush': 1728, 'company': 1869, '804': 1317, '4541': 991, 'cavity': 1808, 'socket': 3458, 'quadruple': 3097, '54': 1078, '10t23277a': 107, 'america': 1553, '022': 34, 'n830': 2833, 'attaching': 1618, 'n232429911': 2780, 'n232425640': 2778, 'sealant': 3384, 'n837': 2834, 'vs3quertr': 3758, 'members': 2714, 'vs3rohrah': 3759, 'vs3trewan': 3760, 'knock': 2550, 'ksds': 2570, 'sc291': 3344, 'fl987': 2231, '445': 980, 'carefree': 1796, '621': 1136, '2617': 777, '22e': 390, '094': 85, 'vs2krapum2': 3750, 'pc997': 2956, 'pedals': 2976, '1342': 135, 'haldex': 2347, '752': 1274, '2501': 597, 'onboard': 2906, 'performance': 2981, '93u9': 1449, '93v2': 1450, '23ta16': 416, '384': 912, 'planned': 3013, '23tb15': 417, '23ta15': 415, '23lb03': 409, '23la03': 408, 'cr5537': 1926, '69ga': 1213, '5200': 1055, 'hool': 2405, '407': 938, '7977': 1307, 'facilitate': 2192, '773': 1294, '9111': 1415, 'kgc': 2538, 'kgd': 2539, '314': 835, 'bombardier': 1703, '053': 56, 'clock': 1849, '23c41': 406, 'surface': 3553, 'vs3feddor': 3754, '1714': 171, '2024040012': 315, '050005': 54, 'decals': 2015, '197': 286, 'pretensioners': 3055, 'foil': 2246, 'carpet': 1799, 'near': 2851, 'installed': 2484, '930': 1434, 'evchevy': 2151, 'tty': 3668, '2438': 443, 'n232421970': 2777, 'starting': 3506, 'apb5': 1565, '220v': 378, '240v': 438, 'compact': 1868, 'portable': 3038, '110v': 114, 'home': 2401, 'public': 3082, 'stations': 3508, 'incorporated': 2455, 'temperature': 3583, 'mid': 2725, 'apb6': 1566, '93u6': 1447, '93u8': 1448, 'mechanical': 2709, 'fl986': 2230, 'fgb': 2212, 'hubbell': 2416, 'receptacles': 3175}\n"
     ]
    }
   ],
   "source": [
    "print(corrective_action_vectorizer.vocabulary_)"
   ]
  },
  {
   "cell_type": "markdown",
   "id": "173ee76b",
   "metadata": {},
   "source": [
    "### Linear Regression Experiment"
   ]
  },
  {
   "cell_type": "code",
   "execution_count": null,
   "id": "9be4720e",
   "metadata": {},
   "outputs": [],
   "source": [
    "from sklearn.linear_model import LinearRegression\n",
    "from sklearn.model_selection import train_test_split\n",
    "from sklearn.metrics import mean_squared_error, r2_score"
   ]
  },
  {
   "cell_type": "code",
   "execution_count": 31,
   "id": "f1457d82",
   "metadata": {},
   "outputs": [],
   "source": [
    "df = df.dropna(subset=['open', 'close'])\n",
    "y = df['open'] - df['close']\n",
    "X = df[['Potentially Affected']]"
   ]
  },
  {
   "cell_type": "code",
   "execution_count": 32,
   "id": "d2d6f02b",
   "metadata": {},
   "outputs": [
    {
     "data": {
      "text/plain": [
       "0      -1.539999\n",
       "1       0.000000\n",
       "2      -0.030000\n",
       "3       1.353461\n",
       "4       0.130000\n",
       "          ...   \n",
       "1525   -0.100000\n",
       "1526   -0.026141\n",
       "1527   -0.452686\n",
       "1528    0.000000\n",
       "1529    4.058471\n",
       "Length: 1217, dtype: float64"
      ]
     },
     "execution_count": 32,
     "metadata": {},
     "output_type": "execute_result"
    }
   ],
   "source": [
    "y"
   ]
  },
  {
   "cell_type": "code",
   "execution_count": 33,
   "id": "07cd5719",
   "metadata": {},
   "outputs": [
    {
     "data": {
      "text/html": [
       "<div>\n",
       "<style scoped>\n",
       "    .dataframe tbody tr th:only-of-type {\n",
       "        vertical-align: middle;\n",
       "    }\n",
       "\n",
       "    .dataframe tbody tr th {\n",
       "        vertical-align: top;\n",
       "    }\n",
       "\n",
       "    .dataframe thead th {\n",
       "        text-align: right;\n",
       "    }\n",
       "</style>\n",
       "<table border=\"1\" class=\"dataframe\">\n",
       "  <thead>\n",
       "    <tr style=\"text-align: right;\">\n",
       "      <th></th>\n",
       "      <th>Potentially Affected</th>\n",
       "    </tr>\n",
       "  </thead>\n",
       "  <tbody>\n",
       "    <tr>\n",
       "      <th>0</th>\n",
       "      <td>5960</td>\n",
       "    </tr>\n",
       "    <tr>\n",
       "      <th>1</th>\n",
       "      <td>19077</td>\n",
       "    </tr>\n",
       "    <tr>\n",
       "      <th>2</th>\n",
       "      <td>1119</td>\n",
       "    </tr>\n",
       "    <tr>\n",
       "      <th>3</th>\n",
       "      <td>23</td>\n",
       "    </tr>\n",
       "    <tr>\n",
       "      <th>4</th>\n",
       "      <td>396</td>\n",
       "    </tr>\n",
       "    <tr>\n",
       "      <th>...</th>\n",
       "      <td>...</td>\n",
       "    </tr>\n",
       "    <tr>\n",
       "      <th>1525</th>\n",
       "      <td>41345</td>\n",
       "    </tr>\n",
       "    <tr>\n",
       "      <th>1526</th>\n",
       "      <td>93196</td>\n",
       "    </tr>\n",
       "    <tr>\n",
       "      <th>1527</th>\n",
       "      <td>321</td>\n",
       "    </tr>\n",
       "    <tr>\n",
       "      <th>1528</th>\n",
       "      <td>106030</td>\n",
       "    </tr>\n",
       "    <tr>\n",
       "      <th>1529</th>\n",
       "      <td>2500</td>\n",
       "    </tr>\n",
       "  </tbody>\n",
       "</table>\n",
       "<p>1217 rows × 1 columns</p>\n",
       "</div>"
      ],
      "text/plain": [
       "      Potentially Affected\n",
       "0                     5960\n",
       "1                    19077\n",
       "2                     1119\n",
       "3                       23\n",
       "4                      396\n",
       "...                    ...\n",
       "1525                 41345\n",
       "1526                 93196\n",
       "1527                   321\n",
       "1528                106030\n",
       "1529                  2500\n",
       "\n",
       "[1217 rows x 1 columns]"
      ]
     },
     "execution_count": 33,
     "metadata": {},
     "output_type": "execute_result"
    }
   ],
   "source": [
    "X"
   ]
  },
  {
   "cell_type": "code",
   "execution_count": 34,
   "id": "9ccb91c0",
   "metadata": {},
   "outputs": [],
   "source": [
    "X_train, X_test, y_train, y_test = train_test_split(X, y, test_size=0.2, random_state=42)"
   ]
  },
  {
   "cell_type": "code",
   "execution_count": 35,
   "id": "feeab189",
   "metadata": {},
   "outputs": [
    {
     "name": "stdout",
     "output_type": "stream",
     "text": [
      "X_train_shape: (973, 1)\n",
      "X_test_shape: (244, 1)\n",
      "y_train_shape: (973,)\n",
      "y_test_shape: (244,)\n"
     ]
    }
   ],
   "source": [
    "print(\"X_train_shape:\", X_train.shape)\n",
    "print(\"X_test_shape:\", X_test.shape)\n",
    "print(\"y_train_shape:\", y_train.shape)\n",
    "print(\"y_test_shape:\", y_test.shape )"
   ]
  },
  {
   "cell_type": "code",
   "execution_count": 40,
   "id": "cce78c6b",
   "metadata": {},
   "outputs": [
    {
     "name": "stdout",
     "output_type": "stream",
     "text": [
      "Linear Regression Coefficent: [1.19087004e-06]\n",
      "Linear Regression Intercept: -0.07999539308701267\n",
      "Mean Squared Error: 57.006634781202884\n"
     ]
    }
   ],
   "source": [
    "lin_reg = LinearRegression()\n",
    "lin_reg.fit(X_train, y_train)\n",
    "y_pred_lin = lin_reg.predict(X_test)\n",
    "\n",
    "print(\"Linear Regression Coefficent:\", lin_reg.coef_)\n",
    "print(\"Linear Regression Intercept:\", lin_reg.intercept_)\n",
    "print(\"Mean Squared Error:\", mean_squared_error(y_test, y_pred_lin))"
   ]
  },
  {
   "cell_type": "code",
   "execution_count": 44,
   "id": "455f66c3",
   "metadata": {},
   "outputs": [
    {
     "name": "stdout",
     "output_type": "stream",
     "text": [
      "R2 score: 0.00091972\n"
     ]
    }
   ],
   "source": [
    "print(\"R2 score: {:.8f}\".format(r2_score(y_test, y_pred_lin)))"
   ]
  }
 ],
 "metadata": {
  "kernelspec": {
   "display_name": "Python 3",
   "language": "python",
   "name": "python3"
  },
  "language_info": {
   "codemirror_mode": {
    "name": "ipython",
    "version": 3
   },
   "file_extension": ".py",
   "mimetype": "text/x-python",
   "name": "python",
   "nbconvert_exporter": "python",
   "pygments_lexer": "ipython3",
   "version": "3.11.9"
  }
 },
 "nbformat": 4,
 "nbformat_minor": 5
}
